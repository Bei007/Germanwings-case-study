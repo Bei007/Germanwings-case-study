{
 "cells": [
  {
   "cell_type": "markdown",
   "metadata": {},
   "source": [
    "# Data Extraction Pipeline\n",
    "\n",
    "> processing pipeline with documentation"
   ]
  },
  {
   "cell_type": "markdown",
   "metadata": {},
   "source": [
    "## 1. imports"
   ]
  },
  {
   "cell_type": "code",
   "execution_count": 1,
   "metadata": {},
   "outputs": [],
   "source": [
    "import numpy as np\n",
    "import pandas as pd\n",
    "import re\n",
    "from pathlib import Path"
   ]
  },
  {
   "cell_type": "markdown",
   "metadata": {},
   "source": [
    "## 2. Reading Data from file"
   ]
  },
  {
   "cell_type": "code",
   "execution_count": null,
   "metadata": {},
   "outputs": [
    {
     "data": {
      "text/plain": [
       "'\"they have been unresponsive\"\\nBrian McNamee (Canada) 16th October 2015\\n2\\nWe flew with Germanwings (or tried to) on September 30th. After two lengthy delays passengers were notified that the flight was cancelled and to return to the check-in counter for further information. After waiting at the counter for another 30 minutes or so, staff began issuing refunds or providing alternate travel options to passengers. By this point it was quite late in the evening with limited options (plus we were 5+ hours after planned departure). We managed to get a voucher with 3 other passenger to get a flight from Stuttgart to Zurich with an ongoing connection to Amsterdam (flights were with Swiss). We made the flight and the connector (which was held back waiting for about 70 of us) however luggage did not make it. Short of this is the airline was ill-prepared to manage this. They offered little information or options to passengers. since returning home I have been attempting to contact them via email and phone calls to discuss compensation per passenger rights brochure and they have been unresponsive. Not a good way to run a business.\\nType Of Traveller\\tCouple Leisure\\nCabin Flown\\tEconomy\\nRoute\\tStuttgart to Amsterdam\\nDate Flown\\tSeptember 2015\\nSeat Comfort\\t12345\\nCabin Staff Service\\t12345\\nGround Service\\t12345\\nValue For Money\\t12345\\nRecommended\\tno\\n\\n\"I was refused some water\"\\nL Mouratidou (United Kingdom) 4th October 2015\\n3\\nI am less than impressed with Germanwings service to say the least. On my first connection to Hamburg the stewardess has told us that we could have some water for free, while everything has to be charged. During my second connection from Hamburg to London I was refused some water, despite being pregnant and not feeling well. I find this disgusting, the fact that a passenger will not be offered water if they\\'re unwell, and will not be looked after in any way. Needless to say the stewards would only be nice to the passengers who have also booked their on board meals or bought on board drinks.\\nType Of Traveller\\tSolo Leisure\\nCabin Flown\\tEconomy\\nRoute\\tHamburg to London\\nDate Flown\\tSeptember 2015\\nSeat Comfort\\t12345\\nCabin Staff Service\\t12345\\nGround Service\\t12345\\nValue For Money\\t12345\\nRecommended\\tno\\n\\n\"the service crew were friendly but nothing more\"\\nH Mutschler (Germany) 21st September 2015\\n3\\nFlew from Palma de Mallorca to Cologne with Germanwings. Check-in was done in less than 15 minutes, we got seats in row 6 which were fine. Planes were late as always due to incoming plane being late, that is a general problem with Germanwings when you fly later in the day. There was no entertainment whatsoever and the service crew were friendly but nothing more. They charge you EUR 2,50 for 250ml a soft drink like Coke or Sprite, so we paid EUR 5 for two cans, that make EUR 10 for a litre. Nothing else was offered, so nothing special. No miles were credited, even as a miles and more member.\\nAircraft\\tA319-100\\nType Of Traveller\\tCouple Leisure\\nCabin Flown\\tEconomy\\nRoute\\tPMI to CGN\\nDate Flown\\tSeptember 2015\\nSeat Comfort\\t12345\\nCabin Staff Service\\t12345\\nFood & Beverages\\t12345\\nInflight Entertainment\\t12345\\nGround Service\\t12345\\nValue For Money\\t12345\\nRecommended\\tno\\n\\n\"no problems or delays, very friendly staff\"\\nOliver Numrich (Germany) 20th September 2015\\n10\\nGood flight from Berlin-Tegel to London Heathrow, no problems or delays, very friendly staff. Delay on our flight back to Berlin wasn\\'t on behaf of Germanwings. I always choose Germanwings because of that bigger legroom on the \"Smart Fare\".\\nType Of Traveller\\tBusiness\\nRoute\\tBerlin-Tegel to London Heathrow\\nDate Flown\\tAugust 2015\\nSeat Comfort\\t12345\\nCabin Staff Service\\t12345\\nFood & Beverages\\t12345\\nInflight Entertainment\\t12345\\nGround Service\\t12345\\nWifi & Connectivity\\t12345\\nValue For Money\\t12345\\nRecommended\\tyes\\n\\n\"I don\\'t get why Germanwings is always late\"\\nAndreas Huettenhoelscher (Germany) 14th September 2015\\n4\\nI don\\'t get why Germanwings is always late and on top offers such bad service. How is it possible that the ground staff makes an anouncement about late departure due to late arrival of an airplane 5 minutes before the official boarding time? Wherever the plane came from it should be possible that the pilot contacts the ground staff at the point of destination the minute they leave with delay and from that time onwards it should be possible to calculate very clearly when the plane should arrive.\\nType Of Traveller\\tBusiness\\nCabin Flown\\tEconomy\\nRoute\\tCGN to LHR\\nDate Flown\\tSeptember 2015\\nSeat Comfort\\t12345\\nCabin Staff Service\\t12345\\nFood & Beverages\\t12345\\nGround Service\\t12345\\nValue For Money\\t12345\\nRecommended\\tno\\n\\n\"vowing never to book Germanwings again\"\\nL Turner (United Kingdom) 9th September 2015\\n1\\nWe were delayed 5 hours in Istanbul and received a sandwich on the plane as compensation. Told by the cabin crew that many planes were delayed due to technical problems that day so we would definitely catch our transit flight to London. Arrived Dusseldorf, no information given, transit closed. Eventually told to go to Lufthansa ticket desk where we joined a long queue for about 2 hours. Eventually told \"no flights tonight, maybe one on Monday\" (2days later). Lufthansa and Germanwings staff didn\\'t seem to know who was doing what. Came back to ticket desk at 5am next morning and given overbooked standby ticket for 4 hours later. We made a fuss and insisted on getting a seat (otherwise we would have taken the train). We were given a seat but suspect that others were \"bumped down\" by Germanwings who were prioritising based on who made the biggest noise. Bad karma probably meant our flight took off but had to turn back to Dusseldorf due to more technical problems so we went round the same circle again - delay, no communication. This time we ran across the airport to the now familiar ticket desk where we were given tickets to London via Munich. Arrived home 39 hours after we left Istanbul, vowing never to book Germanwings again. Flight out with Turkish Airlines was a dream, should have booked return trip. Had to pay extra for Germanwings luggage which wasn\\'t clear through Opodo the booking agent.\\nType Of Traveller\\tCouple Leisure\\nCabin Flown\\tEconomy\\nRoute\\tIstanbul to London via DUS\\nDate Flown\\tSeptember 2015\\nSeat Comfort\\t12345\\nCabin Staff Service\\t12345\\nFood & Beverages\\t12345\\nGround Service\\t12345\\nValue For Money\\t12345\\nRecommended\\tno\\n\\n\"staff friendly - food terrible\"\\nJay Martin (Germany) 9th September 2015\\n7\\nEasy Check-In at Dï¿½sseldorf. The Germanwings flight was on time. Seats good for a low-cost airline. The food was terrible and expensive. The normal Ticket price excludes luggage, and for including luggage check-in you have to pay extra money. Staff were friendly.\\nType Of Traveller\\tSolo Leisure\\nCabin Flown\\tEconomy\\nRoute\\tDï¿½sseldorf to London\\nDate Flown\\tAugust 2015\\nSeat Comfort\\t12345\\nCabin Staff Service\\t12345\\nFood & Beverages\\t12345\\nInflight Entertainment\\t12345\\nGround Service\\t12345\\nWifi & Connectivity\\t12345\\nValue For Money\\t12345\\nRecommended\\tyes\\n\\n\"no explanations, no offers of help\"\\nJacky Russell (United Kingdom) 6th September 2015\\n2\\nChecked in at Dusseldorf for our Germanwings flight, and check in person asked whether we were a cancellation from yesterday. We said no, thinking it an odd question. Twenty minutes into the flight an apparent technical fault meant we had to turn back. Landed, but no bus to take us to the terminal for a good twenty minutes. Informed once inside that the flight was cancelled. Told to collect baggage and go to Lufthansa desk in departures. The queue there was enormous, approximately 60 people in front of us, and thirty behind. Waited for 3.5 hours in this queue. No explanations, no offers of help, no refreshments - nothing. Got to front and options left were either take a taxi to Cologne and flight to Stansted the same evening, or stay over till the next day. We are sitting in Cologne departures. The Manchester flight has a one hour delay and the Hamburg flight is cancelled. If we get out of here tonight it will be a miracle. Partner has already driven three hours to Heathrow, and now has a 300 mile round trip to collect us from Stansted.\\nType Of Traveller\\tFamilyLeisure\\nCabin Flown\\tEconomy\\nRoute\\tDusseldorf to Heathrow\\nDate Flown\\tSeptember 2015\\nSeat Comfort\\t12345\\nCabin Staff Service\\t12345\\nFood & Beverages\\t12345\\nInflight Entertainment\\t12345\\nGround Service\\t12345\\nWifi & Connectivity\\t12345\\nValue For Money\\t12345\\nRecommended\\tno\\n\\n\"delay in Heathrow about 1:30 minutes\"\\nRalf-Peter Weber (Gibraltar) 31st August 2015\\n2\\nThis Germanwings flight should take off as scheduled, but plane wasn\\'t ready. We had to stay in the Transfer bus for 45 minutes (without Air conditioning) in Dï¿½sseldorf. Then the bus drove back to the plane and the bus driver was so kind to open the doors and we waited another 25 minutes before we could enter the plane. Overall delay in Heathrow about 1:30 minutes as the plane also missed it\\'s Slot. The gate in Heathrow was closed so we couldn\\'t enter the terminal building.\\nAircraft\\tA320\\nType Of Traveller\\tBusiness\\nCabin Flown\\tEconomy\\nRoute\\tDuesseldorf to Heathrow\\nDate Flown\\tJuly 2015\\nSeat Comfort\\t12345\\nCabin Staff Service\\t12345\\nFood & Beverages\\t12345\\nGround Service\\t12345\\nValue For Money\\t12345\\nRecommended\\tno\\n\\nGermanwings customer review\\nAndrew Jerome (Australia) 25th August 2015\\n5\\nGermanwings is a very mediocre airline. Compared to Lufthansa, their standards are quite low. They are not terrible or anything, but their food product is the worst.\\nType Of Traveller\\tCouple Leisure\\nCabin Flown\\tEconomy\\nRoute\\tCologne to Palma\\nDate Flown\\tAugust 2015\\nSeat Comfort\\t12345\\nCabin Staff Service\\t12345\\nFood & Beverages\\t12345\\nGround Service\\t12345\\nValue For Money\\t12345\\nRecommended\\tno\\n\\nGermanwings customer review\\nNigel Goodman (Germany) 15th August 2015\\n2\\nI am Senator on Lufthansa so I fly a lot. Flying Germanwings Smart fare (Euro 18 for a sandwich), first drink is free but I was asked to pay Euro 2.50 for the second drink (water). When I said I fly every week on this GermanWings and its always free I was told by Purser that now they have to charge due to a management crack down. Germanwings is not a cheap airline on prices but is a very poor spin off from Lufthansa. And they don\\'t value passengers who fly a lot.\\nType Of Traveller\\tBusiness\\nCabin Flown\\tEconomy\\nRoute\\tHamburg to Paris\\nDate Flown\\tAugust 2015\\nSeat Comfort\\t12345\\nCabin Staff Service\\t12345\\nFood & Beverages\\t12345\\nGround Service\\t12345\\nValue For Money\\t12345\\nRecommended\\tno\\n\\nGermanwings customer review\\nNigel Tansley (United Kingdom) 30th July 2015\\n10\\nFlight on time, booked smart fare which gave Extra Legroom seat, snack/drink and 23kg of hold luggage for a very good price. Cabin very clean, comfortable seat with plenty of legroom (I am 6\\'4\" tall). Very efficient and pleasant cabin crew.\\nAircraft\\tA320\\nType Of Traveller\\tFamilyLeisure\\nCabin Flown\\tEconomy\\nRoute\\tStansted to Cologne\\nDate Flown\\tJuly 2015\\nSeat Comfort\\t12345\\nCabin Staff Service\\t12345\\nFood & Beverages\\t12345\\nGround Service\\t12345\\nValue For Money\\t12345\\nRecommended\\tyes\\n\\nGermanwings customer review\\nR Schulze (Germany) 2nd July 2015\\n1\\nThe flight was delayed by 6 hours, allegedly because of a radar system failure at Rome Fiumicino airport. Strangely, only the Germanwings flight to Berlin was affected, Air Berlin left on time. Delays can happen, but the complete lack of information and assistance was not acceptable. No ground staff was available, phone calls to Germanwings were not answered. No meal voucher was offered. To add insult to injury, access to Star Alliance lounges is denied to Gold members outside Germany when you travel with Germanwings because they are a Lufthansa subsidiary but not a member of Star Alliance. The flight itself was smooth, but no inflight entertainment whatsoever. For the same price, Air Berlin offers much better value. Will not travel Germanwings again.\\nAircraft\\tA319\\nType Of Traveller\\tBusiness\\nCabin Flown\\tFirst Class\\nRoute\\tFCO to TXL\\nDate Flown\\tMay 2015\\nSeat Comfort\\t12345\\nCabin Staff Service\\t12345\\nFood & Beverages\\t12345\\nInflight Entertainment\\t12345\\nGround Service\\t12345\\nValue For Money\\t12345\\nRecommended\\tno\\n\\nGermanwings customer review\\nH Skopek (United States) 19th June 2015\\n2\\nMy wife and I were checking in our luggage for our flight from Hamburg to Geneva when a person who identified himself as the ï¿½enforcerï¿½ (his term) approached us and informed me that I had to also check in my carry-on. This was a surprise since it was below Germanwings allowable size. The enforcer instructed the ticket agent to weigh my carry-on. Unfortunately, it did exceed the 8kg weight limit. My only option was to remove excess weight, which I did. I removed clothing and gifts until I reached the 8 kg limit and placed them in the garbage pail provided by the ticket agent. I believe in following rules, but they need to be clearly indicated and consistently applied. This experience was in itself unpleasant. We checked in an extra piece of luggage and had to go to another agent to pay a 75 euro surcharge. However, we were informed that the surcharge would be 150 Euros for 2 pieces of luggage. The 2 agents communicated by phone and eventually discovered that we had erroneously been charged for an extra suitcase.\\nType Of Traveller\\tCouple Leis ure\\nCabin Flown\\tEconomy\\nRoute\\tHamburg to Geneva\\nDate Flown\\tJune 2015\\nSeat Comfort\\t12345\\nCabin Staff Service\\t12345\\nGround Service\\t12345\\nWifi & Connectivity\\t12345\\nValue For Money\\t12345\\nRecommended\\tno\\n\\nGermanwings customer review\\nB Diener (Czech Republic) 31st May 2015\\n7\\n4U7779 and 4U7778 May16 and May 26 PRG-HAM-PRG economy class. A decent low cost option for short flights within Europe. If you want to get from A to B in a cost efficient manner it\\'s an alternative. Flights would\\'ve left on time if it wouldn\\'t have taken the flight attendants almost 10 minutes to get a passenger to finally stop talking on his cell phone thus delaying the safety instructions. The in-flight magazine is the worst I\\'ve ever seen. It\\'s full of advertisements. Although I didn\\'t order anything the prices for beverages and snacks seem to be the same as on other low cost carriers.\\nCabin Flown\\tEconomy\\nSeat Comfort\\t12345\\nCabin Staff Service\\t12345\\nFood & Beverages\\tN/A\\nInflight Entertainment\\t12345\\nValue For Money\\t12345\\nRecommended\\tyes\\n\\nGermanwings customer review\\nEelco van den Heuvel (Netherlands) 28th May 2015\\n7\\nDUS-GVA-DUS. Operated by Eurowings on CRJ 900. Comfortable small plane because of the 2-2 seating. 45 mins delay on outbound flight 30 mins on inbound hence the 7 for trip satisfaction. Mostly friendly crew and good catering for short flight. Booked smart class so got a sandwich chocolate bar water and a drink. Paid 196 euro for 2 including seat reservation catering and two bags for a return flight which is a bargain.\\nCabin Flown\\tEconomy\\nSeat Comfort\\t12345\\nCabin Staff Service\\t12345\\nFood & Beverages\\t12345\\nInflight Entertainment\\t12345\\nValue For Money\\t12345\\nRecommended\\tyes\\n\\nGermanwings customer review\\nH Mutschler (Germany) 22nd May 2015\\n9\\nFlew Best Class from Hamburg to Cologne. Best is not business but it is a best Germanwings has to offer. You sit in row 1 to 3 and the middle seat is free so there is maximum of 12 travellers. You have access to LH lounge which is full in Hamburg Airport. There is a choice of finger food salat nuts and gummibears as well as hot and cold drinks beer wine and spirits. Boarding with priority. Was a little surprised by the food you get on board you can choose from the Germanwings card whatever you want for free if it is loaded. The best thing was the flight attendant who was nice and very friendly. She addressed everybody by name and was professional. At Cologne it took ages again until baggage arrived so no priority for our bags. This was my first Best-Class with Germanwings would fly them in this class again but I do prefer LH instead if it is possible.\\nCabin Flown\\tEconomy\\nSeat Comfort\\t12345\\nCabin Staff Service\\t12345\\nFood & Beverages\\t12345\\nInflight Entertainment\\t12345\\nValue For Money\\t12345\\nRecommended\\tyes\\n\\nGermanwings customer review\\nJ Eggers (Germany) 8th May 2015\\n2\\nGermanwings 9038 DUS-HAM May 6 yet another delay (and hopefully no cancellation to follow as it happens so often). The replacement of Lufthansa services that do not connect via Frankfurt or Munich with Germanwings has in my view turned out as a major downgrade. Aircraft layout (different seat pitch in economy in one and the same aircraft) and classes (no business class offering but instead a section labelled \"best\") seem quite incoherent. Delays are frequent sometimes with subsequent cancellations without explanations from unwelcoming ground staff. Miles & More status is worth less than on LH (no fast lane no lounge). It is as close to a true low cost carrier as LH could get. Luckily there are some routes left where you get to choose (e.g. on HAM-ZRH Swiss operates some proper flights).\\nCabin Flown\\tEconomy\\nSeat Comfort\\t12345\\nCabin Staff Service\\t12345\\nFood & Beverages\\t12345\\nInflight Entertainment\\t12345\\nValue For Money\\t12345\\nRecommended\\tno\\n\\nGermanwings customer review\\nH Mutschler (Germany) 1st May 2015\\n4\\nCGN to HAM Airbus 320. Booked economy class I checked in early and my checked bag was a little overweight it had 24 kg since I booked my ticket via Lufthansa where I have a 23kg bag free. Staff made me take out one kilo out at the desk and I had a piece of hand luggage again since I had originally put my hand luggage into my checked bag as I did not want to have it with my on the flight. Flight was OK crew were nice. Only downturn was the nitpicking at the check-in.\\nCabin Flown\\tEconomy\\nSeat Comfort\\t12345\\nCabin Staff Service\\t12345\\nFood & Beverages\\tN/A\\nInflight Entertainment\\tN/A\\nValue For Money\\t12345\\nRecommended\\tno\\n\\nGermanwings customer review\\nGiacomo Cama (Italy) 24th February 2015\\n7\\nI flew from Bologna to Berlin in February with Germanwings A319 the flight was on time no free food or drinks on board and very kind hostess. The seats were a bit small and a bit uncomfortable the plane and the toilet were very clean. When I returned back to Italy the flight was 60 mins delayed it was operated by flygermania.de. The food and drinks on board were free this time but the food was not very tasty. The seats a bit better (Bigger) but the plane was not clean. Overall it was a normal flight.\\nCabin Flown\\tEconomy\\nSeat Comfort\\t12345\\nCabin Staff Service\\t12345\\nFood & Beverages\\t12345\\nInflight Entertainment\\t12345\\nValue For Money\\t12345\\nRecommended\\tyes\\n\\nGermanwings customer review\\nM Tobin (Canada) 26th January 2015\\n8\\nDUS-PRG. Best value for your $$ when it comes to short haul flights. Short wait at check in staff at desk/flight crew were friendly helpful and outgoing seats had surprisingly more room than I expected and luggage was on the carousel quickly.\\nCabin Flown\\tEconomy\\nSeat Comfort\\t12345\\nCabin Staff Service\\t12345\\nFood & Beverages\\tN/A\\nInflight Entertainment\\tN/A\\nValue For Money\\t12345\\nRecommended\\tyes\\n\\nGermanwings customer review\\nJ Tinning (Austria) 5th January 2015\\n10\\n13th December from Heathrow T2 to Vienna via Cologne. Really good crew and comfortable cabin for such a short flight. Transfer in Cologne/Bonn was easy and Germanwings agents very good. From Cologne to Vienna the flight was not so busy and seats were free. Another good crew and great flight. As you should expect in flight beverages not cheap. However the 3 fare types - basic: no free refreshments hand luggage only smart: checked bag included free refreshments (sandwich 2 drinks) best: different cabin checked bag unlimited free refreshments - is a good effective system. Cheap fares good airline will use again.\\nCabin Flown\\tEconomy\\nSeat Comfort\\t12345\\nCabin Staff Service\\t12345\\nFood & Beverages\\t12345\\nInflight Entertainment\\t12345\\nValue For Money\\t12345\\nRecommended\\tyes\\n\\nGermanwings customer review\\nM Bracey (United Kingdom) 5th January 2015\\n2\\nLHR-Berlin 29 December - an hour late leaving and on board staff did nothing to hurry up the boarding process. Virtually zero legroom in \\'Basic\\' which might have been OK but the seats in front reclined. Returned 1 January and even that was 20 minutes late taking off and staff once again had a couldn\\'t care less attitude during the board process. Cheap but cheerless.\\nCabin Flown\\tEconomy\\nSeat Comfort\\t12345\\nCabin Staff Service\\t12345\\nFood & Beverages\\t12345\\nInflight Entertainment\\tN/A\\nValue For Money\\t12345\\nRecommended\\tno\\n\\nGermanwings customer review\\nR Brandenburg (Germany) 31st December 2014\\n9\\nJust one hop from Berlin TXL to Paris CDG on early Saturday morning. Departure delayed by more than 20 minutes because the nighty ice on the planewings had to be removed first. But nevertheless arrival in time! Very good value for money booking and checking-in via internet were a breeze staff friendly bought aboard a tasty sandwich and blacked water called coffee seating comfort quite fine but also depending on your neighbours in front and behind. Overall a good impression felt more like on Lufthansa than on a cheap carrier. I like the new design very much!\\nCabin Flown\\tEconomy\\nSeat Comfort\\t12345\\nCabin Staff Service\\t12345\\nFood & Beverages\\t12345\\nInflight Entertainment\\t12345\\nValue For Money\\t12345\\nRecommended\\tyes\\n\\nGermanwings customer review\\nTony Quinn (United Kingdom) 22nd December 2014\\n8\\nLHR-STR-LHR. First time using GW and was quite impressed. Price was good (especially as it was from Heathrow). Plane was fine and as we had a \"Smart\" fare we got 32 inch leg room and a 23 kg bag which was excellent. Seats were the modern \"thin\" style which was OK for such a short flight but I\\'m not sure I\\'d like to do more than two hours. Staff on both flights were efficient rather than friendly which they probably needed to be on such a short flight. The smart fare also included a a drink and a snack and to be honest I wish they hadn\\'t bothered because it was quite definitely the worst inflight meal I have had in over 40 years of flying. The \"snack\" consisted of a sandwich of turkey in soggy brown bread which was totally inedible a small bottle of water and a tiny Toblerone chocolate. I also made the mistake of having tea which was tepid dishwater. My tip would be to avoid the sandwich and have juice to drink. This was really a small disappointment in an otherwise excellent experience and I would have no qualms about recommending Germanwings.\\nCabin Flown\\tEconomy\\nSeat Comfort\\t12345\\nCabin Staff Service\\t12345\\nFood & Beverages\\t12345\\nInflight Entertainment\\tN/A\\nValue For Money\\t12345\\nRecommended\\tyes\\n\\nGermanwings customer review\\nRobert Wolf (United Kingdom) 22nd December 2014\\n7\\nFlew at the end of October from London via Dusseldorf to Vienna. Both flights were on time. However I upgraded myself to a Smart fare. The legroom is decent however I wish I would benefit at Boarding. No Priority Boarding anywhere. I understand you pay for the Extra Legroom however I still believe we should board before other Economy passengers. The food is horrible. I did not touch it. I don\\'t recommend it. The seats were ok and the crew could be a bit friendlier. Overall I would consider it again however some improvements to be done.\\nCabin Flown\\tEconomy\\nSeat Comfort\\t12345\\nCabin Staff Service\\t12345\\nFood & Beverages\\t12345\\nInflight Entertainment\\t12345\\nValue For Money\\t12345\\nRecommended\\tyes\\n\\nGermanwings customer review\\nC Miller (Germany) 18th December 2014\\n8\\nRegular on HAM-BHX which is Germanwings operated by Eurowings Bombardier CRJ 900 jets. Flight has never been delayed by more than 20mins (>30 flights) and staff are friendly. I was able to get some very cheap tickets for this route so I cannot complain. My only gripe is the bus boarding and de-boarding at HAM. FlyBE connects to an airbridge both at BHX and HAM which is much preferable.\\nCabin Flown\\tEconomy\\nSeat Comfort\\t12345\\nCabin Staff Service\\t12345\\nFood & Beverages\\t12345\\nInflight Entertainment\\t12345\\nValue For Money\\t12345\\nRecommended\\tyes\\n\\nGermanwings customer review\\nJohannes Meunier (Germany) 6th November 2014\\n2\\nFlight Stuttgart-Hamburg. Was regular user of LH flights since they put GW in place I do everything I can to avoid this airline. No value for money and cost are usually higher than alternative carriers. Other carriers offer way better service and value for money. I specifically dislike the fact that on the majority of the flights I have been using seats were broken (once you lean back they recline) and airplane interior was poor condition / not cleaned. On my last trip I advised the steward on board on a chewing gum sticking to the emergency exit seat and asked him to ensure it is being removed on the next cleaning cycle. The answer was that he was not cleaning the airplane. Think that shows the service mindset. Not up to what I was used to from LH I also experienced a large share of delayed flights.\\nCabin Flown\\tEconomy\\nSeat Comfort\\t12345\\nCabin Staff Service\\t12345\\nFood & Beverages\\t12345\\nInflight Entertainment\\tN/A\\nValue For Money\\t12345\\nRecommended\\tno\\n\\nGermanwings customer review\\nEunice Cranmer (United Kingdom) 3rd November 2014\\n10\\nWent with Germanwings from Manchester to Cologne 21st October returned 28th October first time with this airline very satisfied and would definitely recommend to friends flights on time and staff very helpful.\\nCabin Flown\\tEconomy\\nSeat Comfort\\t12345\\nCabin Staff Service\\t12345\\nFood & Beverages\\t12345\\nInflight Entertainment\\tN/A\\nValue For Money\\t12345\\nRecommended\\tyes\\n\\nGermanwings customer review\\nJ Prust (Germany) 27th September 2014\\n2\\nCologne/Bonn to Manchester and return. Both legs of the journey were late. On both occasions we were called to the gate on time and then waited and waited. At least at Cologne Bonn there are seats and toilets at the gates in Manchester we were left standing for over an hour. No information from the airline and no apology - very poor show. Sadly this lack of customer service is my experience with Lufthansa short haul generally (GW are part of Lufthansa) which is why I avoid them for short haul flights these days. On short flights my priority is punctuality and here they are sadly lacking. A319 both ways which I find more comfortable than the 737s but that is the only positive thing I can find to say about the experience. Food and drink on board was pricey and not great quality - nowhere near as good value as Ryanair (never thought I\\'d write those words!). Next time we\\'ll stick with Ryanair - the planes are less comfortable but that\\'s not so significant when the flight only lasts 90 minutes and they are much more likely to get you to your destination on time!\\nCabin Flown\\tEconomy\\nSeat Comfort\\t12345\\nCabin Staff Service\\t12345\\nFood & Beverages\\t12345\\nInflight Entertainment\\tN/A\\nValue For Money\\t12345\\nRecommended\\tno\\n\\nGermanwings customer review\\nAmeil Paul (United Kingdom) 17th September 2014\\n10\\nFlew London Heathrow - Cologne Bonn on Monday 8th September. Had checked in online and printed my boarding card 2 days before but as I had a suitcase to go in the hold I still needed to queue at the baggage drop-off point/check in desk. Flight left on time and was smooth throughout. The plane seemed new and was clean. My fare included a snack (choice of cheese or ham roll) a small packet with 3 boiled sweets (not quite sure why) and a small bottle of water. I chose the cheese sandwich which was \"ok but could be better\". After the complimentary snack service the crew came round offering hot and cold drinks - including alcoholic drinks - although not sure if any of these were complimentary. We landed 1 hour after departure from Heathrow slightly less time than advertised. I have scored the in-flight entertainment a 1 purely because being a short flight there wasn\\'t any and the website won\\'t allow me to submit my review without a score. Based on my experience I would consider flying with German Wings again.\\nCabin Flown\\tEconomy\\nSeat Comfort\\t12345\\nCabin Staff Service\\t12345\\nFood & Beverages\\t12345\\nInflight Entertainment\\t12345\\nValue For Money\\t12345\\nRecommended\\tyes\\n\\nGermanwings customer review\\nA Firth (United Kingdom) 9th September 2014\\nna\\nI am writing this on behalf of my wife who is currently flying the wrong way across Europe due to the incompetence of this shambolic operation. She was booked to fly from Hanover to London Stansted. There was a short delay and the passengers got on. The passengers were then told to get off as astonishingly the crew needed to finish their shift. They were left waiting for three hours without any information. When they re-boarded the flight they were told they would be flying to Cologne instead of London to pick up more passengers. A bit like one of those cheap taxi buses I guess. Hopefully she\\'ll make it home before I have to go to work tomorrow. Looking at the other reviews I would seriously think twice before booking with this outfit.\\nCabin Flown\\tEconomy\\nSeat Comfort\\t12345\\nCabin Staff Service\\t12345\\nFood & Beverages\\t12345\\nInflight Entertainment\\tN/A\\nValue For Money\\t12345\\nRecommended\\tno\\n\\nGermanwings customer review\\nJuraj Kovac (Czech Republic) 6th September 2014\\n5\\nHamburg to Prague late Monday morning. This segment was part of a larger Lufthansa itinerary though clearly advertised as a 4U flight. The catch here is that Germanwings out of Hamburg is actually operated by Eurowings CRJ900s which is an absolute letdown compared to the usual A320s. The staff are enthusiastic about offering refreshments though - unlike Lufthansa proper - these are strictly for sale and are perhaps pushed too hard. There was nothing intrinsically wrong with the flight expect for the tight and cramped airplane these flights just don\\'t measure up to the level of service across the LH network.\\nCabin Flown\\tEconomy\\nSeat Comfort\\t12345\\nCabin Staff Service\\t12345\\nFood & Beverages\\t12345\\nInflight Entertainment\\t12345\\nValue For Money\\t12345\\nRecommended\\tno\\n\\nGermanwings customer review\\nS Hopkinson (United Kingdom) 14th August 2014\\nna\\nDue to fly from London Heathrow to Berlin Tegel on 20 July. Initially the flight was delayed for about 1 hour. This was later extended to 3.5 hours and then the flight was cancelled. Offered overnight accommodation at a hotel nearby. Told to come back for the next available flight to Berlin which was 24 hours later! After arguing at the ticket desk we were offered a morning flight to Stuttgart with onward transfer to Berlin. No word of apology. Luggage was lost at the airport and arrived 4 days later in Berlin after making numerous telephone calls and speaking to the Chief Executive of baggage handling company. Germanwings told us nothing and made no effort to contact us regarding the missing luggage or offer any form of compensation. Will never fly with this airline again.\\nCabin Flown\\tEconomy\\nSeat Comfort\\t12345\\nCabin Staff Service\\t12345\\nFood & Beverages\\t12345\\nInflight Entertainment\\tN/A\\nValue For Money\\t12345\\nRecommended\\tno\\n\\nGermanwings customer review\\nFischer Felix (Austria) 25th July 2014\\n10\\nI flew from Vienna to Hamburg and return with Germanwings because Lufthansa doesn\\'t fly there anymore and the Austrian flight times didn\\'t fit my plans. I was pleasantly surprised that Germanwings already has the new LH and OS seats. Overall the journey was really good. The flights were on time the crew very friendly and funny and the catering was also very good! I think I would choose Germanwings on further journeys!\\nCabin Flown\\tEconomy\\nSeat Comfort\\t12345\\nCabin Staff Service\\t12345\\nFood & Beverages\\t12345\\nInflight Entertainment\\t12345\\nValue For Money\\t12345\\nRecommended\\tyes\\n\\nGermanwings customer review\\nA Wilson (United Kingdom) 25th July 2014\\n10\\nFlew from LHR to TXL on 14/7/14. Could not complain about a single aspect of this flight considering it was just over an hour paid extra for seat choice and a snack and both went off without a hitch. Departed on time and landed on time staff were fine everything was fine. Will look at flying Germanwings again should I have cause to return to Germany.\\nCabin Flown\\tEconomy\\nSeat Comfort\\t12345\\nCabin Staff Service\\t12345\\nFood & Beverages\\t12345\\nInflight Entertainment\\tN/A\\nValue For Money\\t12345\\nRecommended\\tyes\\n\\nGermanwings customer review\\nMax Nolte (Germany) 22nd July 2014\\n7\\nAs Germanwings is the Low-Cost carrier of Lufthansa it is of course better not to choose them for flights longer than 3hrs. I bought a ticket for EUR 150 - DUS-PMI-DUS (smart tariff) and was very satisfied with the service. Very friendly staff and for a 2hr flight spacious seats. With smart tariff you have 1 x luggage and 1 x meal included. The snack is ok. Nothing special.\\nCabin Flown\\tEconomy\\nSeat Comfort\\t12345\\nCabin Staff Service\\t12345\\nFood & Beverages\\t12345\\nInflight Entertainment\\t12345\\nValue For Money\\t12345\\nRecommended\\tyes\\n\\nGermanwings customer review\\nD Graubard (United States) 10th July 2014\\n8\\nFlew from Brussels to Stuttgart non-stop on 4 June 2014. Flight was on-time and comfortable. Flight attendants were very friendly and social with the passengers. Sandwich and drink provided per my fare paid and it was delicious. Convenience of a non-stop flight saved a lot of time - landed and bussed to the terminal quickly. Hadn\\'t flown Germanwings in 5 years and was nice to enjoy them again.\\nCabin Flown\\tEconomy\\nSeat Comfort\\t12345\\nCabin Staff Service\\t12345\\nFood & Beverages\\t12345\\nInflight Entertainment\\t12345\\nValue For Money\\t12345\\nRecommended\\tyes\\n\\nGermanwings customer review\\nH Michiel (Netherlands) 8th July 2014\\n3\\nGermanwings took over the service on Dusseldorf - Basel route from Lufthansa. I am a business traveller and normally book my flights 2 weeks in advance. I flew with Lufthansa for >1 year. Since Germanwings took over the average price of tickets has increased for me by +/- 50%. With Lufthansa prices were between 180-300 euros with Germanwings there are almost never\\nCabin Flown\\tEconomy\\nSeat Comfort\\t12345\\nCabin Staff Service\\t12345\\nFood & Beverages\\t12345\\nInflight Entertainment\\tN/A\\nValue For Money\\t12345\\nRecommended\\tno\\n\\nGermanwings customer review\\nEelco van den Heuvel (Netherlands) 3rd June 2014\\n9\\nCGN-ZRH return. Living close to the German border I can choose from three airports (AMS DUS CGN) and five airlines to fly to Zurich. Germanwings was by far the cheapest and I don\\'t mind missing a drink on a 55 min flight. Paid 166 rtn for 2 incl one bag. Flights bang on time seat pitch ok thanks to new thinner seats good information from the cockpit. I just don\\'t understand why they park near an aerobridge at CGN and directing us into a bus. Probably airport policy but maybe Germanwings can sort this out with CGN.\\nCabin Flown\\tEconomy\\nSeat Comfort\\t12345\\nCabin Staff Service\\t12345\\nFood & Beverages\\t12345\\nInflight Entertainment\\t12345\\nValue For Money\\t12345\\nRecommended\\tyes\\n\\nGermanwings customer review\\nA Maynard (United Kingdom) 28th May 2014\\n5\\nFirst time I have used Germanwings for connecting flights (via Hamburg). The APP does not work properly. They are unable to issue both boarding cards on check in causing unnecessary inconvenience. Their \"Live\" Twitter response averages 24 hours to reply. Cabin crew spend most time behind front galley curtains. Also fail to do proper cabin secure checks prior to landing. Seats new ultra thin models OK for short flights. Seat pitch OK on the extra space seats. Smart fare snack boring and repetitive. They have taken over a lot of Lufthansa routes and to be honest they are not really geared up for it. Poor ground handling and communications.\\nCabin Flown\\tEconomy\\nSeat Comfort\\t12345\\nCabin Staff Service\\t12345\\nFood & Beverages\\t12345\\nInflight Entertainment\\tN/A\\nValue For Money\\t12345\\nRecommended\\tno\\n\\nGermanwings customer review\\nB Lucking (United Kingdom) 25th May 2014\\n2\\nShocking customer service only channel for any complaint is the customer helpline which they charge you to call! - after 1/2 hr the line just cuts off. Still trying to contact German wings for a refund of my flight which was cancelled due to German industrial action. I\\'m a regular traveller on Stansted to Stuttgart route and since the strike 7 out of the last 8 flights have been delayed by 1/2hr or more. If there was another flight operator on this route I\\'d be choosing them instead but I\\'m stuck with poor service and inefficiency on Germanwings.\\nCabin Flown\\tEconomy\\nSeat Comfort\\t12345\\nCabin Staff Service\\t12345\\nFood & Beverages\\t12345\\nInflight Entertainment\\tN/A\\nValue For Money\\t12345\\nRecommended\\tno\\n\\nGermanwings customer review\\nSteven Cal (China) 3rd May 2014\\n9\\nPrague-Cologne May 1 on brand new A319. Flight departed and arrived on time very clean cabin spacious legroom and comfortable seat. I paid smart price which include a sandwich/small bottle water/one time juice or soft drink service cabin crew friendly and efficient. Will fly with 4U again definitely.\\nCabin Flown\\tEconomy\\nSeat Comfort\\t12345\\nCabin Staff Service\\t12345\\nFood & Beverages\\t12345\\nInflight Entertainment\\tN/A\\nValue For Money\\t12345\\nRecommended\\tyes\\n\\nGermanwings customer review\\nMark Simons (United Kingdom) 3rd April 2014\\n4\\nFlew out of LHR to Cologne. As the strike was due to start I asked at check in and the ticket desk to be told \"we have no news and if you get on this flight and the return is cancelled it\\'s your fault\"! Charming service. Low and behold as soon as we landed I got a text saying the return had been cancelled. Flight itself was fine swift boarding and the luxury of the happy-snack. On time landing with bags off quickly so flight gets a 9 customer service a 1.\\nCabin Flown\\tEconomy\\nSeat Comfort\\t12345\\nCabin Staff Service\\t12345\\nFood & Beverages\\t12345\\nInflight Entertainment\\tN/A\\nValue For Money\\t12345\\nRecommended\\tno\\n\\nGermanwings customer review\\nJ Atchison (Germany) 6th March 2014\\n7\\n4U3375 22/2/14. STN-HAJ. Low cost low service. But all in all good flight. Plane was half empty had 2 rows to myself. Seats were uncomfortable. Same as Lufthansa has. After an hour my back hurt.\\nCabin Flown\\tEconomy\\nSeat Comfort\\t12345\\nCabin Staff Service\\t12345\\nFood & Beverages\\t12345\\nInflight Entertainment\\t12345\\nValue For Money\\t12345\\nRecommended\\tyes\\n\\nGermanwings customer review\\nC Dong (Germany) 4th March 2014\\nna\\nWe used Germanwings for the first and last time last weekend. Our flight from Berlin TXL to Nuernberg on 2nd March 2014 flight number 4U8062 I checked in online prior to the flight. Arrived at the airport 1 hour early we were informed that the flight was delayed so we sat at the waiting area 15 meters away from the departing gate Tegel D75. There was no announcement for the Nuernberg flight and the next time we asked we were told the flight had already departed. Of course there was no Germanwing personnel to be found and we went to the Lufthansa/Germanwing service counter and were told the plane was boarding! So we run back only to find that the plane had already departed! We run back again to the service counter. In the end we bought tickets with another airline the same day 1 hour later. I would not take Germanwings again and would not recommend it.\\nCabin Flown\\tEconomy\\nSeat Comfort\\t12345\\nCabin Staff Service\\tN/A\\nFood & Beverages\\tN/A\\nInflight Entertainment\\t12345\\nValue For Money\\t12345\\nRecommended\\tno\\n\\nGermanwings customer review\\nH Mutschler (Germany) 7th February 2014\\n3\\nFlew Cologne to Hamburg booked on Lufthansa webpage and ended up in Germanwings. Prices for ticket does not match the service offered. No newspaper at the gate or in the plane. Had smart ticket with more legroom and a little snack. Well the snack was one cheese or ham bun with a tiny little bottle of water with no glass a chocolate drop. Only one drink offered as well and only hot or soft drink no beer like Lufthansa. Was booked on middle seat even my account stated that I prefer aisle seat.\\nCabin Flown\\tEconomy\\nSeat Comfort\\t12345\\nCabin Staff Service\\t12345\\nFood & Beverages\\t12345\\nInflight Entertainment\\t12345\\nValue For Money\\t12345\\nRecommended\\tno\\n\\nGermanwings customer review\\nHans Roloff (Germany) 25th January 2014\\n7\\nCGN-LIS booked long ago (05/2013) when their new fare scheme (Smart Best etc.) was not implemented yet thus I sat in seat 1F with generous legroom but got only a few points credited. But it was a good price and a generally acceptable standard as far as baggage allowance seat quality etc. is concerned. Flight left a little late no apology or reason given but with good tailwinds we made an on time arrival. Service on board was ok although the quality of their turkey salami sandwich is well below my standard it\\'s just the fluffy British-American sandwich style not using the crispy rolls we like in Germany. On such \"longer flights\" of more than two hours they should offer a pasta or a similar hot dish as their parent company does on similar routes. Beverages were served as well - standard ones free of charge special ones or alcoholic drinks for a hefty price which is unacceptable to me (almost five Euros for a small bottle of wine (187 ml) in a plastic glass). No newspapers or other \"entertainment\". Friendly and efficient service. I have to tell myself again and again: you get what you paid for - and that\\'s what I did on this flight.\\nCabin Flown\\tEconomy\\nSeat Comfort\\t12345\\nCabin Staff Service\\t12345\\nFood & Beverages\\t12345\\nInflight Entertainment\\tN/A\\nValue For Money\\t12345\\nRecommended\\tyes\\n\\nGermanwings customer review\\nR Dhillon (Germany) 25th January 2014\\nna\\nI have now started realising what game Germanwings are playing with their paying customers. On three occasions now I have taken Germanwings return flights to Brussels. On every occasion the flight has been cancelled on the return journey to Stuttgart. This is because they do not have a full flight (around 50-100 passengers max) and therefore they make an excuse about a technical problem and shift passengers to the next scheduled flight which is also not full in order to send one flight to Stuttgart full of passengers but over three hours delayed. They are being greedy and looking after their profits and with no care for the passengers who need to get to their destinations or connecting flights. This is an absolute fraud and Germanwings are an insult to the passengers. Horrendous customer service always no manager to be found and just one or two ground staff passing on messages to frustrated passengers.\\nCabin Flown\\tEconomy\\nSeat Comfort\\t12345\\nCabin Staff Service\\t12345\\nFood & Beverages\\t12345\\nInflight Entertainment\\t12345\\nValue For Money\\t12345\\nRecommended\\tno\\n\\nGermanwings customer review\\nR Schmidt (Germany) 7th January 2014\\n1\\nFlight from Barcelona to Stuttgart: The plane arrived delayed the ground seemed not be able to cope with the situation. The flight was very rough. We arrived late and I had to wait one hour for the next train at Stuttgart main station. Never again!\\nCabin Flown\\tEconomy\\nSeat Comfort\\t12345\\nCabin Staff Service\\t12345\\nFood & Beverages\\t12345\\nInflight Entertainment\\t12345\\nValue For Money\\t12345\\nRecommended\\tno\\n\\nGermanwings customer review\\nJ Krautmacher (Germany) 16th December 2013\\n10\\nWe (2 adults) flew from CGN to ZHR in SMART. The flight was surprisingly very good. Much legroom in rows 1 to 10 nice and friendly flight attendants. The snack was quite okay. Price was fine in future we will be flying Germanwings if possible.\\nCabin Flown\\tEconomy\\nSeat Comfort\\t12345\\nCabin Staff Service\\t12345\\nFood & Beverages\\t12345\\nInflight Entertainment\\tN/A\\nValue For Money\\t12345\\nRecommended\\tyes\\n\\nGermanwings customer review\\nJ Nieminen (Finland) 6th December 2013\\nna\\nWe had bought Germanwings tickets from Helsinki to Berlin (and back) and departure should have been on December 6th 2013. However the flight was cancelled due to \"adverse weather conditions\" (other airlines were flying to Berling that day though). We didn\\'t get any notification about cancellation by email sms or other means. At the airport there was nobody helping us to sort this out. Some ladies gave A4 prints with this kind of message to annoyed passengers: \"If you want to rebook your flight onto another date within the next seven days or you wish to receive a refund please refer to www.germanwings.com to cancel or change your booking without any additional cost\". At the Lufthansa desk everybody was just raising their hands and telling us that they can\\'t re-route us to Lufthansa flights because our tickets were bought from the Germanwings website. Instead they could have sold us new tickets for Lufthansa costing almost thousand euros per person! The next Germanwings flight wasn\\'t leaving until the day after tomorrow so it wasn\\'t any solution. So in the case of flight cancellation this company won\\'t take you to the destination at its own cost as other airlines do.\\nCabin Flown\\tEconomy\\nSeat Comfort\\tN/A\\nCabin Staff Service\\t12345\\nFood & Beverages\\tN/A\\nInflight Entertainment\\tN/A\\nValue For Money\\t12345\\nRecommended\\tno\\n\\nGermanwings customer review\\nGordon Kift (United Kingdom) 2nd December 2013\\n9\\nFlew from Birmingham to Berlin on 5 day winter break. Could not fault timeliness and having booked the smart price seating we were very impressed with leg room available. Plus the plane was very clean and gave a light and airy feeling. The food on offer was not very original with the same on offer outbound and inbound however people must remember that these are budget flights and for the money paid everything from check in through inflight was excellent. We would have no hesitation in using this company again and will be recommending them to friends and family.\\nCabin Flown\\tEconomy\\nSeat Comfort\\t12345\\nCabin Staff Service\\t12345\\nFood & Beverages\\t12345\\nInflight Entertainment\\tN/A\\nValue For Money\\t12345\\nRecommended\\tyes\\n\\nGermanwings customer review\\nElizabeth Hoddy (United Kingdom) 2nd December 2013\\nna\\nI am a regular customer of Germanwings and up until now have had no complaints. However a few weeks ago I was informed that my flights to and from London Stansted to Cologne from 10/12 to 18/12 had been changed to the evening flight due to what they called \"operative\" reasons. I\\'m sure it was over-booking. I was extremely angry. I had booked my flight well in advance and was forced to pay a ï¿½5 fine to change my coach trip from London to Stansted and back. If it happens one more time I shall never use the airline again.\\nCabin Flown\\tEconomy\\nSeat Comfort\\tN/A\\nCabin Staff Service\\tN/A\\nFood & Beverages\\tN/A\\nInflight Entertainment\\tN/A\\nValue For Money\\tN/A\\nRecommended\\tno\\n\\nGermanwings customer review\\nR Bakker (Netherlands) 18th November 2013\\n4\\nBudapest to Cologne. Ground staff were pleasant (was allowed to take extra bag without charge) boarding was fast and professional onboard the stewardesses were poorly trained in people management almost rude to passengers no interest whatsoever only talking amongst themselves. Upon leaving the plane she said goodbye whilst looking completely uninterested the other way! I did not feel welcome at all onboard. Captain was informative and nice we had to do a \"Go Around\" no problem all went well. We landed on time. All in all very disappointed with onboard flight attendants.\\nCabin Flown\\tEconomy\\nSeat Comfort\\t12345\\nCabin Staff Service\\t12345\\nFood & Beverages\\t12345\\nInflight Entertainment\\t12345\\nValue For Money\\t12345\\nRecommended\\tno\\n\\nGermanwings customer review\\nG Tornabene (United Kingdom) 22nd October 2013\\n9\\nFlew return from Heathrow to Koln on the 15th and 17th October and both flights left a very good impression. On the flight out of Heathrow the ground staff advised about a 10/15 minute delay due to the late arrival of the inbound flight once seated the captain advised that he would make up time and we would still be able to arrive on time which we did so all was good. The inflight service was good and efficient as one would expect from a German based company. The seats in the Smart section were comfortable and had plenty of leg room. The ground staff in the UK were efficient however one of the check staff in Koln was rather much too strict in not letting us check in at her desk even though we were the only ones checking in at the time. As seasoned long haul travellers overall Germanwings as a low cost carrier have left a very good impression on my 2 colleagues and myself and I am sure that we will use and recommend this carrier again and again.\\nCabin Flown\\tEconomy\\nSeat Comfort\\t12345\\nCabin Staff Service\\t12345\\nFood & Beverages\\tN/A\\nInflight Entertainment\\tN/A\\nValue For Money\\t12345\\nRecommended\\tyes\\n\\nGermanwings customer review\\nH Roloff (Germany) 20th October 2013\\n7\\nFlight from Vienna to Cologne - VIE-CGN - on the standard A319 airbus. Using the smart price \"class\" (level) my wife and myself had comfortable seats and legroom for this trip of 1h10min. The snack box offered and its contents are just poor the only reason for paying the surcharge called \"smart price\" is preselected seating and one piece of checked in luggage. The general quality of service is acceptable - friendly crew efficient service clean planes plus the feeling of safety/security you buy in a plane of the Lufthansa group. But do not forget: it is still a low cost flight - as a long time Lufthansa frequent traveller I will never get accustomed to the fact that they try to charge ï¿½4.90 for a wine. No passenger bought any alcoholic beverage.\\nCabin Flown\\tEconomy\\nSeat Comfort\\t12345\\nCabin Staff Service\\t12345\\nFood & Beverages\\t12345\\nInflight Entertainment\\tN/A\\nValue For Money\\t12345\\nRecommended\\tyes\\n\\nGermanwings customer review\\nH Mutschler (Germany) 29th September 2013\\n3\\nCGN to FAO Cologne to Faro on an A320. Outbound flight a little late due to late arrival of aircraft. Flight was on a jetway but passengers had to use the stairs. Crew were nice and flight was full same on return flight from Faro. I had a smart price ticket so you should sit in row 4 to 14 with more legroom onward flight I was seated row 15 return row 23. As miles and more member in my profile they knew that I needed a lactose free meal but you only get a snack box (cheese sandwich/roll or chicken/salami sandwich/roll) but both are not with butter/margarine they all contain cream cheese as basic spread so I was not able to eat that. When the crew came around I was entitled to only one soft drink you have to pay for wine or a beer. Spirits not available at all. Since both flights were full and only 3 crew members were on board it was a hard job for them. They have less toilets compared to the old LH planes so we had only 2 toilets for almost 150 passengers on the return flight one WC was not serviceable.\\nCabin Flown\\tEconomy\\nSeat Comfort\\t12345\\nCabin Staff Service\\t12345\\nFood & Beverages\\t12345\\nInflight Entertainment\\t12345\\nValue For Money\\t12345\\nRecommended\\tno\\n\\nGermanwings customer review\\nP Wilkinson (United Kingdom) 26th September 2013\\n2\\nOutbound the passengers were sent to gate clear we were considerably delayed but no information shared. Onboard the Captain informed us the cabin crew arrived late due to local motorway problems. However passengers had made it! The snacks offered were poor value for money. The crew disinterested. Return flight (my fault) I\\'d not included cabin baggage. The staff\\'s manner of relaying this information was mocking and dismissive. The only positive is that the flight cost is reasonable. I\\'d avoid this airline if you want to be treated with respect.\\nCabin Flown\\tEconomy\\nSeat Comfort\\t12345\\nCabin Staff Service\\t12345\\nFood & Beverages\\t12345\\nInflight Entertainment\\t12345\\nValue For Money\\t12345\\nRecommended\\tno\\n\\nGermanwings customer review\\nH Mutschler (Germany) 12th August 2013\\n3\\nFlew over the weekend CGN-ZRH. Booked Lufthansa but got Germanwings due to LH changing operation in Europe to 4U. First leg was late over 40 minutes with no explanation done when the gate crew announced a 2nd delay of another 15-20 minutes due tyres had to be changed the gate was open to board. Take off was just after boarding so there was no tyre change. So no more Snacks and Drinks unless you pay for it. Bought muffin and coffee quality ok but you pay. Return flight was on time crew at gate much nicer. Cockpit gave information about the flight. Crew served beer for 3 Euros. Would that this flight would be LH again.\\nCabin Flown\\tEconomy\\nSeat Comfort\\t12345\\nCabin Staff Service\\t12345\\nFood & Beverages\\t12345\\nInflight Entertainment\\t12345\\nValue For Money\\t12345\\nRecommended\\tno\\n\\nGermanwings customer review\\nR Christopher (United Kingdom) 4th August 2013\\n8\\n29th July 2013. London Heathrow to Cologne flight 4U461. I checked in online for the flight as instructed on their website and then went to the airport ï¿½bag drop. The queue was very long and only one lady was in charge of the entire queue. She understandably looked stressed. Flight was on an A319 and the seats were comfortable enough for a short trip. A snack was offered for sale as this airline is a Budget airline but one which allows for through baggage. I picked this airline for my trip down to Italy partly based on price and partly based on the reputation of being the best of the lower price airlines. The captain was informative and the crew seemed to be pleasant and very well turned out indeed. During quite bad turbulence not enough was done to calm the fears of passengers. Arrival into Cologne was a pleasure and the modern and friendly airport made for a good stop over on my way to Italy. I shall report my next flight in more detail in a separate report.\\nCabin Flown\\tEconomy\\nSeat Comfort\\t12345\\nCabin Staff Service\\t12345\\nFood & Beverages\\t12345\\nInflight Entertainment\\tN/A\\nValue For Money\\t12345\\nRecommended\\tyes\\n\\nGermanwings customer review\\nR Christopher (United Kingdom) 4th August 2013\\n4\\n29th July 2013 Flight 4U838 from Cologne to Bologna. Flight was the second of two that day with the same airline. Flight delayed 1 hour due to the late arrival of the inbound flight. Staff kept the passengers informed in a polite and professional manner. Boarding was orderly and sensibly managed. The cabin crew warmly welcomed the passengers. The flight had severe turbulence and the crew did little to allay the fears of passengers. The lady Pilot made a few semi-audible announcements and did seemed to be focused on making up for the delay. Disembarkation was chaotic as Italian passengers pushed to exit the flight. The cabin crew did nothing to try and control what could have been a dangerous situation. The fare was not the cheapest of fares on offer and due to the abrupt manner of the cabin crew on this flight my experience of Germanwings has been soured somewhat. I won\\'t use Germanwings on this route again.\\nCabin Flown\\tEconomy\\nSeat Comfort\\t12345\\nCabin Staff Service\\t12345\\nFood & Beverages\\tN/A\\nInflight Entertainment\\tN/A\\nValue For Money\\t12345\\nRecommended\\tno\\n\\nGermanwings customer review\\nS Ptctan (Germany) 1st July 2013\\n7\\nBRE-STR. Normal LCC. Staff friendly prices on board ok plane clean. Travelled with hand luggage only which was not weighed.\\nCabin Flown\\tEconomy\\nSeat Comfort\\t12345\\nCabin Staff Service\\t12345\\nFood & Beverages\\t12345\\nInflight Entertainment\\t12345\\nValue For Money\\t12345\\nRecommended\\tyes\\n\\nGermanwings customer review\\nGiannicola Bonora (Italy) 28th June 2013\\n9\\nFlown Verona to Cologne connecting to Manchester. I think this airline deserves its 3-star status. It\\'s peculiar as a low-cost airline as it offers connecting flights though prices average double compared to the cheapest point to point options. The space for legs on a Standard A319 is the best I\\'ve found in the last 6 years of low- cost travelling. Personnel look professional throughout. Onboard prices quite competitive for euro nationals. I will definitely fly with them if I need to go to Germany in future.\\nCabin Flown\\tEconomy\\nSeat Comfort\\t12345\\nCabin Staff Service\\t12345\\nFood & Beverages\\t12345\\nInflight Entertainment\\tN/A\\nValue For Money\\t12345\\nRecommended\\tyes\\n\\nGermanwings customer review\\nJoerg Boese (Germany) 25th June 2013\\n2\\nHamburg-Nuremberg-Hamburg. Outbound flight 40 minutes late due to technical problems with the reservation system. Most web check-ins had been deleted and boarding cards had to be reassigned at the gate. Horrible seating. Inbound flight was 70 minutes late due to \\'problems all day long\\' as the captain mentioned. Slightly better seating (older seats). Anyway if Lufthansa stakes their salvation on this airline they must have lost their mind. I am a Senator with LH but except Lounge access there are no advantages.\\nCabin Flown\\tEconomy\\nSeat Comfort\\t12345\\nCabin Staff Service\\t12345\\nFood & Beverages\\tN/A\\nInflight Entertainment\\tN/A\\nValue For Money\\t12345\\nRecommended\\tno\\n\\nGermanwings customer review\\nL Frerichs (Germany) 3rd June 2013\\n2\\nFTL-M&M Frequent flyer status. I can\\'t believe LH will put their name to this. No priority check-in. As silver or gold member you are waiting together with Economy passengers. This took an hour both ways on my round-trip from HAM-VIE. With LH or another Star Alliance partner this takes less than 10 minutes especially for FTL or GOLD. There was an error on my ticket. Ticket counter could not help but kept the ticket and I could not use the check- machine for reprinting the ticket. Again 40 minutes waiting at check-in. Check-in opens 2 hours before departure in VIE. Check-in is located so far away from LH you won\\'t believe it. Germanwings is departing from Gates where there are no Lounges. No priority check-in at VIE airport either. As FTL you have privileges when booking and choosing the seat. Reservations from row 1 are possible. The check-in procedure and amenities are awful. Next time I will choose a star alliance partner for sure.\\nCabin Flown\\tEconomy\\nSeat Comfort\\t12345\\nCabin Staff Service\\t12345\\nFood & Beverages\\t12345\\nInflight Entertainment\\tN/A\\nValue For Money\\t12345\\nRecommended\\tno\\n\\nGermanwings customer review\\nMargaret Houghton (United Kingdom) 31st May 2013\\n9\\nWe have just returned from Cologne to Manchester using Germanwings - we were very impressed - we have frequently used other cheap airlines and if you want more pay more! You can check in on line 72 hours before travelling and can select seats free of charge. The only criticism is that you can\\'t check in for return at the same time as you can with other airlines - that means unless you have access to a printer while away you are assigned seats at the airport for the return journey.\\nCabin Flown\\tEconomy\\nSeat Comfort\\t12345\\nCabin Staff Service\\t12345\\nFood & Beverages\\tN/A\\nInflight Entertainment\\tN/A\\nValue For Money\\t12345\\nRecommended\\tyes\\n\\nGermanwings customer review\\nS P Jones (United Kingdom) 30th May 2013\\nna\\nSPU-DTM.30th May 2013. 08.20 Departure. Flight arrived in from Cologne on time. Upon boarding the return leg to Dortmund the senior male cabin crew member stood at the forward door and did not acknowledge any of his passengers when we boarded. Not a Good Morning or Hello or even the slightest hint of a smile. After Take Off the racket of banging galley doors continued throughout the flight! The senior male cabin crew member commenced service from the front of the cabin by himself I was clearly travelling on my own astonishingly his inflight service statement was \"und Sie\" (and you)! Not what would I like to drink or would I like a Cheese or Ham sandwich? Not even a smile and showing No enthusiasm! Upon leaving the aircraft I didn\\'t expect a Goodbye and of course didn\\'t receive One. Poor customer service.\\nCabin Flown\\tEconomy\\nSeat Comfort\\t12345\\nCabin Staff Service\\t12345\\nFood & Beverages\\t12345\\nInflight Entertainment\\tN/A\\nValue For Money\\t12345\\nRecommended\\tno\\n\\nGermanwings customer review\\nVincent Sweeney (United Kingdom) 20th May 2013\\n4\\nTravelled from Manchester to Vienna with a 3 hour stop over in Koln/Bonn. First flight was good with an on time departure reasonably friendly cabin crew staff and a decent and comfortable journey. However from our stop in Koln/Bonn the trip deteriorated. We were segregated into a small area of the airport with very little to do see or even eat/shop. The second flight was 45 minutes late and had some of the most miserable cabin staff I have ever experienced. I wasn\\'t even offer a drink to purchase. I would rate Germanwings as very average and certainly not what I would expect from a German carrier.\\nCabin Flown\\tEconomy\\nSeat Comfort\\t12345\\nCabin Staff Service\\t12345\\nFood & Beverages\\t12345\\nInflight Entertainment\\tN/A\\nValue For Money\\t12345\\nRecommended\\tno\\n\\nGermanwings customer review\\nV Ladhani (Germany) 17th April 2013\\n6\\nHAM-STR. Ground staff at Hamburg were pleasant and everything was swift on ground. A319 aircraft on this route was nearly 50% full. Legroom is acceptable and enough information was given by captain. Aircraft landed 5 minutes late and I had a tight connection for further travel by train. I had checked in a piece of luggage and feared that I miss my train connection but luggage arrive on belts in Stuttgart airport very quickly and I did make my connection. Snacks and drinks onboard are very expensive. All in all a good experience for the price paid.\\nCabin Flown\\tEconomy\\nSeat Comfort\\t12345\\nCabin Staff Service\\t12345\\nFood & Beverages\\tN/A\\nInflight Entertainment\\tN/A\\nValue For Money\\t12345\\nRecommended\\tyes\\n\\nGermanwings customer review\\nSharen Trebacz (United Kingdom) 16th April 2013\\n10\\nFlew to Cologne from LHR on 29th March 2013 and back on 1st April 2013 and I have to say Germanwings were fantastic. The aircraft was comfortable and the staff friendly and cheerful. We were delayed taking off (through no fault of Germanwings) but we made up time. On the return journey we took off on time and landed on time. Would definitely fly with Germanwings again.\\nCabin Flown\\tEconomy\\nSeat Comfort\\t12345\\nCabin Staff Service\\t12345\\nFood & Beverages\\tN/A\\nInflight Entertainment\\tN/A\\nValue For Money\\t12345\\nRecommended\\tyes\\n\\nGermanwings customer review\\nP Knap (Germany) 18th February 2013\\n6\\nCGN-TXL A319. Evening service after Cologne Carnival parade. Lots of passengers and even captain disguised accordingly. Boarding delayed due to late arrival from previous flight but crew managed to catch up: departure on time arrival 10 min early. Crew quite neutral whereas Captain made funny announcements in view of the carnival. Seat comfort is okay for such a short hop. Only buy-on-board program with relatively high pricing compared to quantity of products - so I opted for nothing. Germanwings is low cost and you practically pay for everything you want extra besides the seat. Germanwings has taken over complete service from Lufthansa on that particular route. Being Star Alliance Silver/FTL at Lufthansa means nothing if you fly on Germanwings (a 100% Lufthansa subsidiary). Some weeks ago in 2012 when LH still served the sector FTLs were allowed to use the LH business lounge. Now they offer you lounge access for \"an insignificant fee of\" 25 ï¿½ - what a joke!\\nCabin Flown\\tEconomy\\nSeat Comfort\\t12345\\nCabin Staff Service\\t12345\\nFood & Beverages\\tN/A\\nInflight Entertainment\\t12345\\nValue For Money\\t12345\\nRecommended\\tyes\\n\\nGermanwings customer review\\nC Zacher (Germany) 7th February 2013\\n2\\nBooked Lufthansa flight Cologne-Berlin on 28 Jan. On 2 Jan I got the information that the flight was operated by Germanwings a German low-cost carrier. So was the flight. Low cost: 1 hrs delayed for my beer I had to pay in Euros - cash. Lounge use was denied as the flight was operated under 4U code. No service for a high Lufthansa price. Not recommended very disappointed.\\nCabin Flown\\tEconomy\\nSeat Comfort\\t12345\\nCabin Staff Service\\t12345\\nFood & Beverages\\t12345\\nInflight Entertainment\\t12345\\nValue For Money\\t12345\\nRecommended\\tno\\n\\nGermanwings customer review\\nMichael Hartley-Holthuysen (Germany) 2nd February 2013\\n1\\nSad affair on a flight from Treviso to Cologne. Due to non-availability of ILS landing at Treviso plane had to land at Venice airport 50 km away. At no time did the ground crew provide any information and simply carted us like cattle through the Italian countryside. Left us wait on the apron of Venice airport - without water or information. Terrible flight - without any customer service whatsoever.\\nCabin Flown\\tEconomy\\nSeat Comfort\\t12345\\nCabin Staff Service\\t12345\\nFood & Beverages\\t12345\\nInflight Entertainment\\t12345\\nValue For Money\\t12345\\nRecommended\\tno\\n\\nGermanwings customer review\\nPelan Ray (United Kingdom) 20th December 2012\\n3\\nFlew back from Cologne on the 10th December - flight returned after 20 minutes due to technical faults - attempted to re-board 2 hours and 10 minutes after original flight time but was told catering being loaded onto replacement thus further delay meaning flight delayed to 3 hrs 15 mins. No complaint forms as promised no non EU passenger cards given. Not a budget airline at ï¿½327 for 2 return tickets from LHR best avoided the rep in Cologne treated the whole episode as a joke.\\nCabin Flown\\tEconomy\\nSeat Comfort\\t12345\\nCabin Staff Service\\t12345\\nFood & Beverages\\tN/A\\nInflight Entertainment\\tN/A\\nValue For Money\\t12345\\nRecommended\\tno\\n\\nGermanwings customer review\\nPelan Ray (United Kingdom) 20th December 2012\\nna\\nFlew to Cologne from LHR - return flight had to be diverted back to Cologne due to technical difficulties - over 2 hours after the original departure time we were told to embark after which having endured a 15 minute wait on an unmanned bus in minus 6 degrees we were told the replacement flight was delayed for catering to be loaded. Eventually left 3 hrs 15 mins late. Promised complaint forms never materialised. Will avoid this airline in future at all costs and at ï¿½327 for 2 hardly a budget price.\\nCabin Flown\\tEconomy\\nSeat Comfort\\t12345\\nCabin Staff Service\\t12345\\nFood & Beverages\\tN/A\\nInflight Entertainment\\tN/A\\nValue For Money\\t12345\\nRecommended\\tno\\n\\nGermanwings customer review\\nM Jerman (United Kingdom) 19th December 2012\\n5\\nSTN-CGN. Delayed 30 minutes with no reason or apology given. Flight completely full with boarding well organised if somewhat slow. Due to high load locker space at premium so some passengers ended up sitting with big trolley bags under the aisle seat blocking the other passengers\\' exit. This went unnoticed and/or challenged by the cabin crew. Leg room poor towards the rear seats reasonable comfortable. Crew not very polite at all impossible to get smile out of them but reasonable efficient. Didn\\'t buy anything from their menu prices seamed reasonable. The only reason I would recommend Germanwings is if the ticket is cheap and due to the fact you can collect miles for LH Miles and More programme.\\nCabin Flown\\tEconomy\\nSeat Comfort\\t12345\\nCabin Staff Service\\t12345\\nFood & Beverages\\tN/A\\nInflight Entertainment\\tN/A\\nValue For Money\\t12345\\nRecommended\\tyes\\n\\nGermanwings customer review\\nA Hicks (Germany) 18th December 2012\\n5\\nOn a recent trip from Stuttgart to Stansted I had the window seat in a row which was also occupied by a young mother and her four or five year old daughter. The minor took the seat next to me. Once we had achieved cruising altitude the mother produced an iPad from her bag and placed it on the table in front of the child. Then without the slightest consideration for their fellow passengers a Mickey Mouse movie was run with the soundtrack coming to all in earshot over the speakers. Since it was a reasonably short flight I plugged my own headphones in a did my best to ignore the cartoon. Now that such technology is available I think it might be high time for Germanwings to regulate such behavior. Obviously a sense of social responsibility is no longer sufficient. Germanwings usually provides a decent service it would be a shame if they allow selfishly ignorant passengers to spoil it.\\nCabin Flown\\tEconomy\\nSeat Comfort\\t12345\\nCabin Staff Service\\t12345\\nFood & Beverages\\t12345\\nInflight Entertainment\\tN/A\\nValue For Money\\t12345\\nRecommended\\tyes\\n\\nGermanwings customer review\\nKaren Taylor (United Kingdom) 15th December 2012\\n8\\nLondon Stansted to Stuttgart Germany. Return. More than satisfied with both legs of the flight. I expected an Easyjet type arrangement but GW are definitely better. Flight attendants were snarly though on outbound leg but it was only an hours trip. Food on board should be avoided though.\\nCabin Flown\\tEconomy\\nSeat Comfort\\t12345\\nCabin Staff Service\\t12345\\nFood & Beverages\\t12345\\nInflight Entertainment\\tN/A\\nValue For Money\\t12345\\nRecommended\\tyes\\n\\nGermanwings customer review\\nR Marchant (United Kingdom) 13th November 2012\\nna\\nOn the booking confirmation form downloaded fro m the Internet it states that it contains all the information about the flight. Except it doesn\\'t tell you which terminal the flight leaves from or that they operate an online check-in service. This resulted in me going to terminal 5 along with a group of Germans (flying with another airline) being delayed for check in (at terminal 1) and eventually missing the flight. My own fault for not being obnoxious enough to push to the front of the queue. I then need to cancel my return flight and try to contact the call centre to get some assistance but all calls to the UK number are barred.\\nCabin Flown\\tEconomy\\nSeat Comfort\\tN/A\\nCabin Staff Service\\tN/A\\nFood & Beverages\\tN/A\\nInflight Entertainment\\tN/A\\nValue For Money\\t12345\\nRecommended\\tno\\n\\nGermanwings customer review\\nNick Wilcock (United Kingdom) 21st October 2012\\n5\\nLHR-CGN; CGN-LHR. Flight booked and paid for through Lufthansa. However if you are a LH Senator none of your privileges are available at London Airport if flying to Kï¿½ln so was refused admittance to the Star Alliance Gold lounge in T1. Flight itself was chaos due to ground handling errors and late final figures but the in-flight service was OK if basic. Return leg from Kï¿½ln was much better - able to use the Senator lounge and flight punctual. I loathe having to use Heathrow but there are few options if flying to Kï¿½ln these days.\\nCabin Flown\\tEconomy\\nSeat Comfort\\t12345\\nCabin Staff Service\\t12345\\nFood & Beverages\\t12345\\nInflight Entertainment\\tN/A\\nValue For Money\\t12345\\nRecommended\\tyes\\n\\nGermanwings customer review\\nJacqueline Matlock (Germany) 1st October 2012\\n5\\nFlights to Dubrovnik Croatia on 9/22 and return to Stuttgart on 9/29/2012 were both greatly delayed without explanation. I flew with a companion on same fare and she was served a beverage and offered sandwich on return flight but I was told I could not have even water without a 3 Euro purchase because of my fare (a hotel package). The worst was that the first serving attendant did not even offer to sell me water. Access to information of our flight delay was not posted on Webpage in a timely manner and after midnight there was no information online for the flight. No information available at Stuttgart Airport while family waited from 11pm until 1am for our arrival. The scheduling for Stuttgart-Dubrovnik-Stuttgart should be reviewed and improved.\\nCabin Flown\\tEconomy\\nValue For Money\\t12345\\nRecommended\\tno\\n\\nGermanwings customer review\\nMark Simons (United Kingdom) 9th September 2012\\n10\\nLHR-CGN-LHR. An excellent flight for a business trip. Outbound arrived on the dot return 20 minutes early. Very polite staff comfortable \"best seat\" with baguette and drink included very clean aircraft good legroom too. One of the best short haul flights I have taken for quite some time.\\nCabin Flown\\tEconomy\\nValue For Money\\t12345\\nRecommended\\tyes\\n\\nGermanwings customer review\\nAlexander Hart (United Kingdom) 5th August 2012\\n10\\nFor a low-cost airline I was naturally not expecting very much at all; however I was pleasantly surprised. For a slightly higher fee I could get significantly more legroom (more than that on British Airways) seat preference choice (unlike most budget airlines) and food. The collective deal was well worth the price. I would recommend this airline.\\nCabin Flown\\tEconomy\\nValue For Money\\t12345\\nRecommended\\tyes\\n\\nGermanwings customer review\\nM Grey (Ireland) 25th July 2012\\n1\\nWe had a 6 hour delay for a 90 minute flight! Paid extra for seating and food but were told to sit anywhere and was stuck in a small seat which got even more claustrophobic when the passenger in front put their seat back. Return flight was 10 mins late! Then despite paying for food I was told I had to pay again if I wanted anything! Flight cost over EUR300 so was not cheap and overall this was the worst experience I have ever had on any airline.\\nCabin Flown\\tEconomy\\nValue For Money\\t12345\\nRecommended\\tno\\n\\nGermanwings customer review\\nJ Vells (United Kingdom) 24th July 2012\\n5\\nSTN-HAJ: Outward leg fine comfortable leather seats. Return journey delayed by 1hr due to \"Birds in engine\" took off 1.5hrs late however we were last to board plane and advised that all of the overhead luggage compartments were full. One of our bags was placed with the other main luggage. Once the bag had been taken we realised our passports were in this bag and advised the crew. They told us that our bag would be given to us when we left the plane. Upon further enquiry we found out that our hand luggage would turn up in baggage collection. So a wonderful arrival at Stansted with no passports - kindly escorted to baggage collection to await hand luggage with passports - rather embarrassing. Anyhow just a warning that crew don\\'t seem to be aware. Other than that a pleasant flight.\\nCabin Flown\\tEconomy\\nValue For Money\\t12345\\nRecommended\\tyes\\n\\nGermanwings customer review\\nH Mutschler (Germany) 13th July 2012\\n4\\nPMI to CGN. Check in was open 2.5 hours before flight. Staff talking to each other and not to passengers. They forgot to label one bag and we had to remind them. Two umbrellas took ages to label for the flight and had to explain what to do. Staff unable to put the bonus miles into systems and we were transferred to another desk. Staff here useless and after 20 minutes they managed to enter the bonus number. Now only one of us has miles while the other has no miles credited. Flight left late and drinks and food were served for charge. We had a voucher so we got a sandwich and one soft drink for free. Crew ok.\\nCabin Flown\\tEconomy\\nValue For Money\\t12345\\nRecommended\\tno\\n\\nGermanwings customer review\\nEelco van den Heuvel (Netherlands) 15th May 2012\\n7\\nFly an average of twice a year between North Rhine-Westphalia and Zï¿½rich. This time I flew Germanwings from CGN. Service is at the same level as LH and AB apart from having to pay extra for drinks food and luggage. Since I was travelling with hand luggage only this was the cheapest option with 200 euro return (booked two weeks in advance). Flight was efficient and on time. Especially on the way back pilot was very informative. Can\\'t understand why plane in CGN parked right beside aviobridge and passengers were bussed to terminal.\\nCabin Flown\\tEconomy\\nValue For Money\\t12345\\nRecommended\\tyes\\n\\nGermanwings customer review\\nKai Matuschewski (Germany) 27th April 2012\\n6\\nTXL-CGN. On time flight and straightforward check-in. Very good value for money. Assigned and comfortable leather seat. Clearly stands out amongst the low-budget carriers.\\nCabin Flown\\tEconomy\\nValue For Money\\t12345\\nRecommended\\tyes\\n\\nGermanwings customer review\\nM Jerman (United Kingdom) 4th April 2012\\n8\\nSTR-STN. Check-in and gate staff friendly and efficient. Assigned seating a massive advantage to other low cost. Cabin crew reasonably ok more efficient than friendly. Food/drinks onboard reasonably priced. Plane in good condition however I find new Recaro seats very uncomfortable. Legroom is good so all in all bearable for a short flight.\\nCabin Flown\\tEconomy\\nValue For Money\\t12345\\nRecommended\\tyes\\n\\nGermanwings customer review\\nNick Wilcock (United Kingdom) 2nd April 2012\\n4\\nLHR-CGN. Unfortunately Lufthansa\\'s service between London and Cologne is now operated by Germanwings. Upon arrival at the Star Alliance Gold check-in desk I was told I could not use it and was directed to the Germanwings Economy Class check-in queue. I wasn\\'t permitted to use the Star Alliance Gold lounge. The flight itself was ok but the overall experience certainly was not. Oddly enough when I returned from Cologne 2 days later there was no problem using the Star Alliance Gold lounge. If Lufthansa expect to retain customer loyalty they must restore Gold Card privileges at LHR for flights now operated by Germanwings.\\nCabin Flown\\tEconomy\\nValue For Money\\t12345\\nRecommended\\tyes\\n\\nGermanwings customer review\\nD Griffiths (United Kingdom) 12th September 2011\\n9\\nEDI-CGN and CGN-MUC. I have always rated them as one of the best low cost airlines especially now that they allocate seats. However they don\\'t have their own staff an EDI and the handling company can be hit or miss. There is no bag drop so even if you\\'ve checked in online you\\'re still going have to join the regular queue. Having checked in on line and eventually dropped our bags my wife and I were sitting in our allocated seats onboard - 10E and F when another passenger appeared with a boarding pass for seat 10F. After a few minutes a stewardess arrived with a computer printout showing us in seats 15A and B. Since these weren\\'t extra leg-room seats for which we\\'d paid we flatly refused to move. Eventually the stewardess backed down and the other passenger was seated elsewhere. The flight itself was fine and the \\'Happy Picnic\\' was tasty and good value. Travelling on from CGN to MUC a few days later we checked in by machine at the airport and dropped our luggage at the fast bag drop which really was fast. The whole process lasted under 5 mins. Again the flight was fine although air traffic restrictions led to a delay of about 25 mins.\\nCabin Flown\\tEconomy\\nValue For Money\\t12345\\nRecommended\\tyes\\n\\nGermanwings customer review\\nH Hilarides (Netherlands) 25th July 2011\\n10\\nIstanbul to Dortmund. take off super. No problem with air pressure and painful ears. Long time waiting before checking in luggage. Service very good and friendly even when the system fails for a moment.\\nCabin Flown\\tEconomy\\nValue For Money\\t12345\\nRecommended\\tyes\\n\\nGermanwings customer review\\nH Mutschler (Germany) 24th July 2011\\n5\\nCologne-Marrakech return. Onward flight was late because boarding was a mess. Small snack and soft drink were offered for free since this was a charter flight. Crew disappeared after service. Seating on emergency seat was ok but seats are not comfortable. Return flight was late. Aircraft was not full flight was ok. This was a chartered flight and sandwich and soft drinks for free. But only 1 round for a 3.5 hr flight. Crew took good care of passengers.\\nCabin Flown\\tEconomy\\nValue For Money\\t12345\\nRecommended\\tno\\n\\nGermanwings customer review\\nRoland Rodriguez (United States) 3rd July 2011\\n9\\nDUB-VCE via CGN. The flight arrived about a 30mins late into Dublin but managed to get to Cologne just about on time. Seats cabin amenities comfort all that you would expect for the price. We paid about $260 US for the three of us for the trip to Venice. No complaints - you got what you paid for. Only tricky thing was finding the transfer desk in CGN a small podium squirreled in between some shops adjoining the departure gates. Coming from Ireland we had to get new boarding passes for the second segment.\\nCabin Flown\\tEconomy\\nValue For Money\\t12345\\nRecommended\\tyes\\n\\nGermanwings customer review\\nAndrew Dixon (United Kingdom) 30th June 2011\\n4\\nSTN-GGN-STN. Outward flight faultless. Swift check-in a breeze through security prompt boarding and an on- time departure. Crew friendly and efficient and seats comfortable (paid for Best Seats at front of cabin). Got off the flight thinking this was a good airline. But return flight a completely different story. Got to boarding gate at CGN to be told flight delayed for 20 mins 3 hrs later we were still there! Information from staff appalling. Finally boarded another aircraft with the rudest crew I\\'ve ever met who huffed and puffed from boarding to landing. Despite the delay no offer of refreshments. Out and home was like flying with 2 completely different airlines.\\nCabin Flown\\tEconomy\\nValue For Money\\t12345\\nRecommended\\tno\\n\\nGermanwings customer review\\nJ Day (United Kingdom) 5th June 2011\\n9\\nManchester to Berlin via Cologne/Bonn. Punctual and efficient. We booked picnic snack selected our seats and baggage in the ticket price. Husband is 6\"4 and enjoyed more legroom than other flights we had been on. Seats were leather and very comfortable.\\nCabin Flown\\tEconomy\\nValue For Money\\t12345\\nRecommended\\tyes\\n\\nGermanwings customer review\\nAlan Dron (United Kingdom) 25th May 2011\\n6\\nCologne/Bonn to London Stansted. Check-in straightforward. Flight delayed by 90 minutes explanation given on board that planned aircraft had been unserviceable and replacement had to be found. Mildly irritating but fair enough. Ticket included a pre-paid snack that consisted of roll with some of the thinnest sliced meat I have ever encountered but what do you really expect these days on a low-cost carrier particularly on a short hop? Flight notable for large proportion of business travellers. Cabin crew friendly and efficient ticket just about reasonable price.\\nCabin Flown\\tEconomy\\nValue For Money\\t12345\\nRecommended\\tyes\\n\\nGermanwings customer review\\nIan de Souza (Germany) 25th March 2011\\n4\\nProbably the best amongst the cheap flight carriers. Most comfortable staff are good and when there is a problem they will actually try to resolve it. Despite being a cheap airline they treat their passengers as people and not as cattle as is the norm with other similar airlines. Just stay away from the German Wings Credit card! This is not run by german Wings but an independent company. This is a real pain!\\nCabin Flown\\tEconomy\\nValue For Money\\t12345\\nRecommended\\tyes\\n\\nGermanwings customer review\\nCarl Heyde (Germany) 24th March 2011\\n8\\nMunich to Cologne return. A nice experience. Online check-in with seat selection starts three days before departure and worked well. Clean cabin. Seat pitch is tight but no major issue on 1 hour flight. Outbound flight 20 minutes late due to traffic in MUC return flight arrived ten minutes early. For the price paid (no-frills fare) I have nothing to complain about.\\nCabin Flown\\tEconomy\\nValue For Money\\t12345\\nRecommended\\tyes\\n\\nGermanwings customer review\\nAndrija Matic (Croatia) 14th February 2011\\n8\\nZAG-SXF on new A319 with clean cabin. Legroom okay flight attendants professional (could smile a bit more) and inflight service food and beverage rates are acceptable. I have been using Germanwings several times per year and I find them a reliable low cost carrier that provides quality service for price paid.\\nCabin Flown\\tEconomy\\nValue For Money\\t12345\\nRecommended\\tyes\\n\\nGermanwings customer review\\nDan Mason (Germany) 23rd October 2010\\n5\\nI\\'ve had at least eight Germanwings flights in the last two years. One thing I don\\'t see in other reviews is the fact Germanwings will charge 7 Euro/kilo for anything over 20 kilos (44 lbs) on checked bags. This can be an unpleasant surprise. Naturally they refuse to pay you the same rate for underweight bags. In the last two years they have also occasionally weighed carry on bags with a limit of 10 kilo. Snacks and drinks are all an extra charge.\\nCabin Flown\\tEconomy\\nValue For Money\\t12345\\nRecommended\\tyes\\n\\nGermanwings customer review\\nPeter Marsh (United Kingdom) 24th September 2010\\n9\\nMAN-CGN on A319. Punctual flight on a clean modern plane. Extremely good value for the price paid. A decent bottle of beer on board at a reasonable price was a bonus. Very satisfied. I also used the fly/rail add-on train fare which is a real bargain if you\\'re travelling any distance at the German end of the journey.\\nCabin Flown\\tEconomy\\nValue For Money\\t12345\\nRecommended\\tyes\\n\\nGermanwings customer review\\nH Mutschler (Germany) 21st September 2010\\n3\\nCologne to Palma Mallorca return. First leg delayed more than one hour no explanation or apology. No food or drink if not paid for. Seats narrow and do not have any comfort. Return flight was Germanwings as well but plane was from TUI Fly with nice legroom but they need to adjust the Germanwings service so no food or drink was served. Normally try to avoid flying them but this was a package tour and had no choice.\\nCabin Flown\\tEconomy\\nValue For Money\\t12345\\nRecommended\\tno\\n\\nGermanwings customer review\\nR Tukker (Netherlands) 14th August 2010\\n8\\nCologne-Zadar-Cologne. Check in at Cologne was swift and efficient. A319 clean and looked pretty new. Legroom is bigger than Lufthansa. Cabin crew was friendly. As we did not booked the lowest airfare we received a simple but tasty sandwich and drinks. Inbound flight a 737-800 apparently on lease from Hapag LLoyd. Legroom much more restricted and the plane was fully booked. Cabin crew from TUI. Service and friendliness was good.\\nCabin Flown\\tEconomy\\nValue For Money\\t12345\\nRecommended\\tyes\\n\\nGermanwings customer review\\nM Smith (United States) 14th August 2010\\n9\\nGreat low cost airline. Flew Germanwings recently from Cologne to Prague. Very friendly and efficient. There are rules about baggage check in food etc. but if followed a good option for low cost travel in Europe and there should be no hassles. Most importantly felt very safe.\\nCabin Flown\\tEconomy\\nValue For Money\\t12345\\nRecommended\\tyes\\n\\nGermanwings customer review\\nL Jeffcoat (United States) 6th August 2010\\n9\\nFlight from Cologne to Santorini was very nice. The seats were comfortable with good pitch friendly crew clean plane and the buy on board sandwiches were tasty and reasonably priced.\\nCabin Flown\\tEconomy\\nValue For Money\\t12345\\nRecommended\\tyes\\n\\nGermanwings customer review\\nH Mutschler (Germany) 2nd August 2010\\n5\\nCologne to Palma A319. Nothing served if not paid for. Flight left at 05:5am not even a free coffee even on tour package. Arrived in Palma baggage took more than 40min to arrive on belt.\\nCabin Flown\\tEconomy\\nValue For Money\\t12345\\nRecommended\\tyes\\n\\nGermanwings customer review\\nTomas Krulis (Czech Republic) 10th May 2010\\n8\\nPRG-CGN-PRG. Check-in at PRG okay. Onboard you have to pay for food or beverages (2-3 EUR for one piece) but for this short trip (55 ins)I think it is not necessary. Nice clean cabin the problem is poor leg-room but for a short flight it is possible to survive. A319 on both ways almost full. The return flight was not so easy - at the moment we were boarding they told us to stop because of a technical problem and passengers had to move back out of the bus up to the terminal building where we had to wait next 3 hours till the problem was sorted out - after 1 hour of the waiting time they provided vouchers for refreshment (5 EUR to spend in kiosks around the terminal). Generally it was well organised. I was fortunately flexible and not in hurry to arrive at Prague on time. We were delayed for more than 3 hours with our departure.\\nCabin Flown\\tEconomy\\nValue For Money\\t12345\\nRecommended\\tyes\\n\\nGermanwings customer review\\nM Abraham (United Kingdom) 28th March 2010\\nna\\nTravel with Caution. If you need to complain about their service the call charge is 25 pence per minute. I purchased a higher priced ticket for London to Stuttgart which included for one luggage both ways an on-board snacks. In London they accepted my luggage without any additional charge but had to pay for all food and drinks. On return from Stuttgart I had to pay for my luggage and snacks. It is realistic to complain because it would cost 25 pence per minute. How do one get a response from German Wings?\\nCabin Flown\\tEconomy\\nValue For Money\\t12345\\nRecommended\\tno\\n\\nGermanwings customer review\\nV Maradudina (France) 12th February 2010\\nna\\nOn two occasions had a very unpleasant experience with Germanwings. The first time they canceled the flight with reference to weather - however when I checked the website of the arrival airport everyone else was flying save for Germanwings. They merely referred to the decision of their company. We had to return back to Strasbourg and wait for two days for the next flight on which they were able to assign us. I had a small baby with me and the new flight they offered was not even a direct flight. On the second occasion the flight was delayed for more than three hours. However until the very last moment the passengers were lied to about the delay. Any attempts to obtain information and to be provided with vouchers for food were left without response. The call center in Germany tried to hide information about the delay saying that the flight was delayed for less than two hours. While the website of the airport already showed that the delay was over three hours. The company\\'s representative was nowhere to be found in the airport. The Germanwings call center gave numbers of the airport service which in its turn gave numbers of the Germandwings.\\nCabin Flown\\tEconomy\\nValue For Money\\t12345\\nRecommended\\tno\\n\\nGermanwings customer review\\nM Brown (United Kingdom) 9th February 2010\\nna\\nFound the customer service centre staff awful. They failed to mention that there is an EUR 80 fee when using the call centre. When I called back to query this I was told to \\'take it or leave it\\' and hung up on. When I complained they denied everything and closed the complaint. To date I have not heard from them again. From previous experience the airline itself is great but the customer service and general attitude is more than bad it is insulting. Germanwings problem is not what it does but how it handles the ensuing complaints. Germanwings made me a very unhappy customer.\\nCabin Flown\\tEconomy\\nValue For Money\\t12345\\nRecommended\\tno\\n\\nGermanwings customer review\\nL Mallon (Germany) 29th January 2010\\n6\\nCGN-ZRH. Despite the sudden snowfall at their Cologne hub Germanwings managed to keep their operations moving reasonably efficiently. Waiting PAX were kept informed and when the delayed aircraft came in from Leipzig it was turned around in less than 15 minutes. The aircraft seemed almost new and was less than half full. Service pleasant of the low cost variety and snacks and drinks cost no more than they would in a Cologne cafï¿½. Germanwings has recently offered Miles & More redemptions making it a potentially interesting partner.\\nCabin Flown\\tEconomy\\nValue For Money\\t12345\\nRecommended\\tyes\\n\\nGermanwings customer review\\nJ Ross (United Kingdom) 23rd January 2010\\nna\\nWe had to postpone our flights due to illness. Called the airline (GBP0.25 per minute) was told I could not cancel but only postpone and that I needed to provide a new date (c EUR25 per route per person). I decided to call back with the dates but also noticed a further EUR80 charge. Called a second time queried this with operator and was told \\'take it or leave it\\'. I informed the operator this was unacceptable language and was cut off! Called a third time asked for the manager put on hold then spoke with the manager. Was told the charge applied to call centre fees and did not apply to online changes. As I could not get online I asked the manger to make the changes without the charge which they did. I asked for the second call to be investigated which they have not done. Germanwings are fine if you do not have any exceptions otherwise you might as well fly BA - at least they are not so extremely rude and offensive.\\nCabin Flown\\tEconomy\\nValue For Money\\t12345\\nRecommended\\tno\\n\\nGermanwings customer review\\nH Mutschler (Germany) 8th October 2009\\n5\\nCologne-Zurich-Cologne used online-checkin on first leg so we only needed the drop off bags at check in counter. Seats have limited legroom but OK. Newsmagazin (Focus) was for free. They charge EUR 10/piece if you need to check in baggage but we paid by booking. Return flight check in counter was opened 30 minutes late but they ask you to be there 2h in advance if you have bags. No frill so nothing served unless you pay as usually on low-cost. Would prefer TUIfly instead.\\nCabin Flown\\tEconomy\\nValue For Money\\t12345\\nRecommended\\tyes\\n\\nGermanwings customer review\\nClaudia Stanzani 18th September 2009\\n3\\nBologna to Koln and Munich to Bologna (via Koln). New planes. You pay for everything - for the luggage (ï¿½5.00 each luggage) internet transaction. Flight attendants ok. Airport attendant at Munich airport not very nice.\\nRecommended\\tno\\n\\nGermanwings customer review\\nG Burns 21st July 2009\\n5\\nDUB to CGN first time flying with GermanWings. Friendly efficient (and thus precisely punctual). GW allowed us to pool our 20kg/person checked-baggage limit across the five passengers on the reservation so we didn\\'t have to scramble to get one of the bags down from 22 to 20 kg. I also like that you can pay ï¿½20 in advance for a bag up to 30kg rather than get burned at the airport like Ryanair. Seat pitch a bit cramped but that\\'s standard for budget flights; it wasn\\'t a long flight so I wasn\\'t uncomfortable. Didn\\'t seem possible fully to match the better bargains on Easyjet or Aer Lingus but price was still very good. Tip: Join \"My German Wings\" before you book a flight or else as one post noted you can\\'t check or change your booking on line.\\nRecommended\\tno\\n\\nGermanwings customer review\\nA Suciu 27th May 2009\\n4\\nBucharest - Stuttgart return. A pleasant flight enough space for the legs kind stewards. Amazingly ground GermanWings personnel helped us with the queue in front of Baneasa\\'s Passport Control Office in order to urge departure in time. I was positively impressed. We had no delay on both flights. I\\'ll definitely choose again German Wings for my next trip.\\nRecommended\\tno\\n\\nGermanwings customer review\\nJ Barbian 22nd January 2009\\n3\\nSXF-CGN-SXF. I agree with the comment below about \"sharp practices\". The booking page gives a \"taxes and fees\" quote that is quite nice but if you should want a reserved seat that will be ï¿½5.95 each way sir. Oh you want to pay with a credit card on the internet?. Well we can do that but it will be ï¿½9.52 extra (?). Still it beat Air Berlin and the train by ï¿½ 48 for a weekend trip so I will take my chances. It\\'s my first time flying a Euro discounter and expect only to be taken from A to B in safety I guess\\nRecommended\\tno\\n\\nGermanwings customer review\\nSoeren Krumrey 21st January 2009\\n4\\nSXF-STR-SXF. Quite good for a budget airline with the usual negatives (boarding via bus and outdoor stairs in the freezing cold drinks and meals cost extra pretty tight seat pitch) but friendly and efficient service fairly new planes incredibly cheap airfares (we paid about 40 Euros return from Berlin to Stuttgart) and both flights on time. Nothing fancy but nothing too bad either.\\nRecommended\\tno\\n\\nGermanwings customer review\\nMichael Koeller 15th January 2009\\n4\\nI often use the MUC-DTM-MUC leg. Internet-booking is very easy and the prizes are unbeatable as I often manage to get a 40 ï¿½ return-ticket. The flights are on time the check-in very efficient. The planes are in a good shape (A319s) and most of the time very clean. Staff is most of the time pleasant and attentive. You even get a newspaper or a magazine (FOCUS) - quite remarkable for a no-frills airline. All in all always a good experience.\\nRecommended\\tno\\n\\nGermanwings customer review\\nP Ohlsson 7th November 2008\\n1\\nI have found the Germanwings Boomerang program a lie. It is not possible to book a bonus ticket. As soon as one tries to get into the bonus account the answer from the system comes with a long delay. The longer the more advanced one is in the actual booking. At the end one always gets a FEHLER on the page. I have tried plenty of times at different occasions from different computers running different OS and browsers. Always the same effect. The support phone number is also dead as expected even if they warn about .99Euro per minute.\\nRecommended\\tno\\n\\nGermanwings customer review\\nP Gatineau 13th October 2008\\n3\\nSTR-LIS-STR. One of the longest Germanwings route from Stuttgart. To my surprise the seat pitch was good. I wonder whether Germanwings uses special aircraft (the old one) with less seats on these long routes. Outbound delayed by one hour. Return on time but had to wait 45 minutes for the bags. Polite crew and nice flight. Had reserved 9 months in advance so flight fare was acceptable but still far away from the discount prices advertised everywhere. Rating would have been better without delay (almost impossible with Germanwings).\\nRecommended\\tno\\n\\nGermanwings customer review\\nMark Evans 28th August 2008\\n4\\nSTN-CGN-STN. Looking forward to renewing my acquaintance with this favourite budget carrier after a gap of 3-4 years my spirits sank on arrival at Stansted as a throng of passengers for both this and the similarly-timed Stuttgart flight were milling around the check-in desk. Only one person was dealing with the two flights. This was down to the Swissport agency. A manageress from the latter belatedly assessed the unsatisfactory situation and a second check-in agent duly arrived but it was a close-run thing for many passengers and we were 20 minutes late pushing back. Once on board the experience was good and I can again recommend the Happy Snack Plus offering which is good value and quality at EUR6.50. Return flight was fine albeit 40 minues late - excellent self-check-in arrangement at CGN.\\nRecommended\\tno\\n\\nGermanwings customer review\\nSam Holloway 18th August 2008\\n4\\nSTN-CGN-STN first time with Germanwings. Some confusion when booking as the website kept reverting into German and it wasn\\'t later possible to verify my booking online (so I phoned and everything was quickly confirmed). Outward was no problem at all. Allocated seating stops the stupid free-for- all crush and instantly makes the whole thing better than Ryanair. Coming back we arrived quite early and were told that the plane had been substituted for a smaller aircraft hence they were looking for people to bump onto the Lufthansa LHR flight. That\\'d probably be better for some people but we specifically needed to get back to STN. Fortunately they got enough people to change and we got checked through OK. However no-one told most passengers that their seat reservations were no longer valid (it was a completely different seat layout!) and so there was some frustration on boarding. But overall the service was good and the flights were on-time. We\\'ll give them another try.\\nRecommended\\tno\\n\\nGermanwings customer review\\nJ Nandris 18th June 2008\\n3\\nThe last-minute addition of ï¿½13 for use of a \"credit card\" [it was a debit card] and some other fee with no prior notice at the very last stage of the booking procedure verges on sharp practice by German Wings. The public are not fools. The sudden switch to German towards the end of booking must also be inconvenient for those who do not speak it. These reviews raise many points - do GermanWings take note or act?\\nRecommended\\tno\\n\\nGermanwings customer review\\nMichael Stocking 28th April 2008\\n1\\nSTN-CGN-STN. My second time on GermanWings. The first was marred by late departure caused by a public service strike in Germany - so not really their fault. However trip back this second time was diabolical. Flight cancelled. No explanation. Lousy ground staff at Cologne. Bussed to Dusseldorf with 60 other passengers for Air Berlin. Arrived too late - no GermanWings staff around; Air Berlin refused to take responsibility. Passengers getting very angry; police starting to take an interest. To get home I had to buy a single on KLM via Amsterdam at a cost of 330 euros. Serves me right for trying a cut price cut service airline again.\\nRecommended\\tno\\n\\nGermanwings customer review\\nP Gatineau 28th April 2008\\n3\\nSTR-STN return. Another great flight with Germanwings. They do allocate seats now so you can ensure already during check-in to seat together without having to rush for boarding. Staff friendly as usual. Seats very cramped as usual ! Germanwings needs slim seats to improve the seat pitch. Long flights to Portugal or Turkey must be a nightmare ! Rating depending on the price paid. More than 300EUR return is not that cheap anymore.\\nRecommended\\tno\\n'"
      ]
     },
     "execution_count": 2,
     "metadata": {},
     "output_type": "execute_result"
    }
   ],
   "source": [
    "data = (Path().cwd() / \"4U_Reviews.txt\").read_text(encoding=\"latin-1\")\n"
   ]
  },
  {
   "cell_type": "code",
   "execution_count": 4,
   "metadata": {},
   "outputs": [
    {
     "data": {
      "text/plain": [
       "'\"they have been unresponsive\"\\nBrian McNamee (Canada) 16th October 2015\\n2\\nWe flew with Germanwings (o'"
      ]
     },
     "execution_count": 4,
     "metadata": {},
     "output_type": "execute_result"
    }
   ],
   "source": [
    "data[:100]"
   ]
  },
  {
   "cell_type": "markdown",
   "metadata": {},
   "source": [
    "The data is not structured, but one single string. We can bring it into a structured format by splitting on \"\\n\\n\""
   ]
  },
  {
   "cell_type": "code",
   "execution_count": 6,
   "metadata": {},
   "outputs": [
    {
     "name": "stdout",
     "output_type": "stream",
     "text": [
      "\"they have been unresponsive\"\n",
      "Brian McNamee (Canada) 16th October 2015\n",
      "2\n",
      "We flew with Germanwings (or tried to) on September 30th. After two lengthy delays passengers were notified that the flight was cancelled and to return to the check-in counter for further information. After waiting at the counter for another 30 minutes or so, staff began issuing refunds or providing alternate travel options to passengers. By this point it was quite late in the evening with limited options (plus we were 5+ hours after planned departure). We managed to get a voucher with 3 other passenger to get a flight from Stuttgart to Zurich with an ongoing connection to Amsterdam (flights were with Swiss). We made the flight and the connector (which was held back waiting for about 70 of us) however luggage did not make it. Short of this is the airline was ill-prepared to manage this. They offered little information or options to passengers. since returning home I have been attempting to contact them via email and phone calls to discuss compensation per passenger rights brochure and they have been unresponsive. Not a good way to run a business.\n",
      "Type Of Traveller\tCouple Leisure\n",
      "Cabin Flown\tEconomy\n",
      "Route\tStuttgart to Amsterdam\n",
      "Date Flown\tSeptember 2015\n",
      "Seat Comfort\t12345\n",
      "Cabin Staff Service\t12345\n",
      "Ground Service\t12345\n",
      "Value For Money\t12345\n",
      "Recommended\tno\n"
     ]
    }
   ],
   "source": [
    "print(data.split(\"\\n\\n\")[0])"
   ]
  },
  {
   "cell_type": "markdown",
   "metadata": {},
   "source": [
    "## 3. Data Exploration & Transformation\n",
    "\n",
    "### Extrated data to get free format text from customer reviews\n",
    "#### Data set isn't completely structured in all texts so in order to use the data, it has to be processed first"
   ]
  },
  {
   "cell_type": "code",
   "execution_count": 21,
   "metadata": {},
   "outputs": [],
   "source": [
    "reviews = data.strip().split(\"\\n\\n\")"
   ]
  },
  {
   "cell_type": "code",
   "execution_count": 98,
   "metadata": {},
   "outputs": [
    {
     "data": {
      "text/plain": [
       "(list, 128)"
      ]
     },
     "execution_count": 98,
     "metadata": {},
     "output_type": "execute_result"
    }
   ],
   "source": [
    "type(reviews), len(reviews)"
   ]
  },
  {
   "cell_type": "code",
   "execution_count": 100,
   "metadata": {},
   "outputs": [
    {
     "data": {
      "text/plain": [
       "('\"they have been unresponsive\"',\n",
       " 'Brian McNamee (Canada) 16th October 2015',\n",
       " '2')"
      ]
     },
     "execution_count": 100,
     "metadata": {},
     "output_type": "execute_result"
    }
   ],
   "source": [
    "rev_arr = reviews[0].split(\"\\n\")\n",
    "rev_arr\n",
    "\n",
    "title = rev_arr[0]\n",
    "name_country_date = rev_arr[1]\n",
    "score = rev_arr[2]\n",
    "\n",
    "\n",
    "title, name_country_date, score"
   ]
  },
  {
   "cell_type": "code",
   "execution_count": 101,
   "metadata": {},
   "outputs": [
    {
     "data": {
      "text/plain": [
       "'Brian McNamee (Canada) 16th October 2015'"
      ]
     },
     "execution_count": 101,
     "metadata": {},
     "output_type": "execute_result"
    }
   ],
   "source": [
    "name_country_date"
   ]
  },
  {
   "cell_type": "code",
   "execution_count": 102,
   "metadata": {},
   "outputs": [
    {
     "data": {
      "text/plain": [
       "'Canada'"
      ]
     },
     "execution_count": 102,
     "metadata": {},
     "output_type": "execute_result"
    }
   ],
   "source": [
    "name_country_date.split(\"(\")[1].split(\")\")[0]\n",
    "\n"
   ]
  },
  {
   "cell_type": "code",
   "execution_count": 103,
   "metadata": {},
   "outputs": [],
   "source": [
    "def get_score_from_review(review):\n",
    "    split_review = review.split(\"\\n\")\n",
    "    score = split_review[2]\n",
    "    return int(score) if score!=\"na\" else score"
   ]
  },
  {
   "cell_type": "code",
   "execution_count": 104,
   "metadata": {},
   "outputs": [],
   "source": [
    "def get_country_from_review(review):\n",
    "    try:\n",
    "        split_review = review.split(\"\\n\")\n",
    "        country = split_review[1].split(\"(\")[1].split(\")\")[0]\n",
    "        return country\n",
    "    except:\n",
    "        return \"unknown\"\n",
    "    "
   ]
  },
  {
   "cell_type": "code",
   "execution_count": 2,
   "metadata": {},
   "outputs": [],
   "source": [
    "def get_recommendation_from_review(review):\n",
    "    try:\n",
    "        split_review = review.split(\"\\n\")\n",
    "        for split in split_review:\n",
    "            if split.startswith(\"Recommended\"):\n",
    "                recommended = split.split(\"\\t\")[1]\n",
    "                return recommended\n",
    "        return \"na\"\n",
    "    except:\n",
    "        return \"na\""
   ]
  },
  {
   "cell_type": "code",
   "execution_count": 3,
   "metadata": {},
   "outputs": [],
   "source": [
    "def get_cabinflown_from_review(review):\n",
    "    try:\n",
    "        split_review = review.split(\"\\n\")\n",
    "        for split in split_review:\n",
    "            if split.startswith(\"Cabin Flown\"):  \n",
    "               cabinflown = split.split(\"\\t\")[1].strip()  \n",
    "               return cabinflown  \n",
    "        return \"unknown\"\n",
    "    except Exception as error:\n",
    "        print(f\"Error processing review: {error}\")\n",
    "        return \"unknown\"\n",
    "                \n",
    "       \n",
    "  "
   ]
  },
  {
   "cell_type": "code",
   "execution_count": 13,
   "metadata": {},
   "outputs": [],
   "source": [
    "def get_traveltype_from_review(review):\n",
    "    try:\n",
    "        split_review = review.split(\"\\n\")\n",
    "        for split in split_review:\n",
    "            if split.startswith(\"Type Of Traveller\"):  \n",
    "                traveltype = split.split(\"\\t\")[1].strip()\n",
    "                print(traveltype)\n",
    "                if traveltype == \"Business\":\n",
    "                    return traveltype\n",
    "                else:\n",
    "                    traveltype = \"Leisure\"\n",
    "                    return traveltype\n",
    "        return \"unknown\"\n",
    "    except:\n",
    "        return \"unknown\"\n"
   ]
  },
  {
   "cell_type": "code",
   "execution_count": 108,
   "metadata": {},
   "outputs": [],
   "source": [
    "def get_text_from_review(review):\n",
    "    split_review = review.split(\"\\n\")\n",
    "    text = split_review[3]\n",
    "    return text"
   ]
  },
  {
   "cell_type": "code",
   "execution_count": 109,
   "metadata": {},
   "outputs": [],
   "source": [
    "def get_year_from_review(review):\n",
    "    try:\n",
    "        split_review = review.split(\"\\n\")\n",
    "        year = split_review[1].split(\" \")[-1]\n",
    "        return int(year)\n",
    "    except:\n",
    "        return \"unknown\""
   ]
  },
  {
   "cell_type": "code",
   "execution_count": 111,
   "metadata": {},
   "outputs": [],
   "source": [
    "scores = []\n",
    "countries = []\n",
    "recommendations = []\n",
    "cabinflowns = []\n",
    "traveltypes = []\n",
    "texts = []\n",
    "years = []\n",
    "\n",
    "for review in reviews:\n",
    "    score = get_score_from_review(review)\n",
    "    scores.append(score)\n",
    "\n",
    "    country = get_country_from_review(review)\n",
    "    countries.append(country)\n",
    "\n",
    "    recommended = get_recommendation_from_review(review)\n",
    "    recommendations.append(recommended)\n",
    "    \n",
    "    cabinflown = get_cabinflown_from_review(review)\n",
    "    cabinflowns.append(cabinflown)\n",
    "\n",
    "    traveltype = get_traveltype_from_review(review)\n",
    "    traveltypes.append(traveltype)\n",
    "\n",
    "    text = get_text_from_review(review)\n",
    "    texts.append(text)\n",
    "\n",
    "    year = get_year_from_review(review)\n",
    "    years.append(year)"
   ]
  },
  {
   "cell_type": "code",
   "execution_count": 112,
   "metadata": {},
   "outputs": [],
   "source": [
    "df = pd.DataFrame({\"score\": scores,\n",
    "                   \"country\": countries,\n",
    "                   \"recommended\": recommendations,\n",
    "                   \"cabinflown\": cabinflowns,\n",
    "                   \"traveltype\": traveltypes,\n",
    "                   \"text\": texts,\n",
    "                   \"year\": years\n",
    "                   })"
   ]
  },
  {
   "cell_type": "code",
   "execution_count": 113,
   "metadata": {},
   "outputs": [
    {
     "data": {
      "text/html": [
       "<div>\n",
       "<style scoped>\n",
       "    .dataframe tbody tr th:only-of-type {\n",
       "        vertical-align: middle;\n",
       "    }\n",
       "\n",
       "    .dataframe tbody tr th {\n",
       "        vertical-align: top;\n",
       "    }\n",
       "\n",
       "    .dataframe thead th {\n",
       "        text-align: right;\n",
       "    }\n",
       "</style>\n",
       "<table border=\"1\" class=\"dataframe\">\n",
       "  <thead>\n",
       "    <tr style=\"text-align: right;\">\n",
       "      <th></th>\n",
       "      <th>score</th>\n",
       "      <th>country</th>\n",
       "      <th>recommended</th>\n",
       "      <th>cabinflown</th>\n",
       "      <th>traveltype</th>\n",
       "      <th>text</th>\n",
       "      <th>year</th>\n",
       "    </tr>\n",
       "  </thead>\n",
       "  <tbody>\n",
       "    <tr>\n",
       "      <th>0</th>\n",
       "      <td>2</td>\n",
       "      <td>Canada</td>\n",
       "      <td>no</td>\n",
       "      <td>Economy</td>\n",
       "      <td>Couple Leisure</td>\n",
       "      <td>We flew with Germanwings (or tried to) on Sept...</td>\n",
       "      <td>2015</td>\n",
       "    </tr>\n",
       "    <tr>\n",
       "      <th>1</th>\n",
       "      <td>3</td>\n",
       "      <td>United Kingdom</td>\n",
       "      <td>no</td>\n",
       "      <td>Economy</td>\n",
       "      <td>Solo Leisure</td>\n",
       "      <td>I am less than impressed with Germanwings serv...</td>\n",
       "      <td>2015</td>\n",
       "    </tr>\n",
       "    <tr>\n",
       "      <th>2</th>\n",
       "      <td>3</td>\n",
       "      <td>Germany</td>\n",
       "      <td>no</td>\n",
       "      <td>Economy</td>\n",
       "      <td>Couple Leisure</td>\n",
       "      <td>Flew from Palma de Mallorca to Cologne with Ge...</td>\n",
       "      <td>2015</td>\n",
       "    </tr>\n",
       "    <tr>\n",
       "      <th>3</th>\n",
       "      <td>10</td>\n",
       "      <td>Germany</td>\n",
       "      <td>yes</td>\n",
       "      <td>unknown</td>\n",
       "      <td>Business</td>\n",
       "      <td>Good flight from Berlin-Tegel to London Heathr...</td>\n",
       "      <td>2015</td>\n",
       "    </tr>\n",
       "    <tr>\n",
       "      <th>4</th>\n",
       "      <td>4</td>\n",
       "      <td>Germany</td>\n",
       "      <td>no</td>\n",
       "      <td>Economy</td>\n",
       "      <td>Business</td>\n",
       "      <td>I don't get why Germanwings is always late and...</td>\n",
       "      <td>2015</td>\n",
       "    </tr>\n",
       "  </tbody>\n",
       "</table>\n",
       "</div>"
      ],
      "text/plain": [
       "  score         country recommended cabinflown      traveltype  \\\n",
       "0     2          Canada          no    Economy  Couple Leisure   \n",
       "1     3  United Kingdom          no    Economy    Solo Leisure   \n",
       "2     3         Germany          no    Economy  Couple Leisure   \n",
       "3    10         Germany         yes    unknown        Business   \n",
       "4     4         Germany          no    Economy        Business   \n",
       "\n",
       "                                                text  year  \n",
       "0  We flew with Germanwings (or tried to) on Sept...  2015  \n",
       "1  I am less than impressed with Germanwings serv...  2015  \n",
       "2  Flew from Palma de Mallorca to Cologne with Ge...  2015  \n",
       "3  Good flight from Berlin-Tegel to London Heathr...  2015  \n",
       "4  I don't get why Germanwings is always late and...  2015  "
      ]
     },
     "execution_count": 113,
     "metadata": {},
     "output_type": "execute_result"
    }
   ],
   "source": [
    "df.head(5)"
   ]
  },
  {
   "cell_type": "code",
   "execution_count": 114,
   "metadata": {},
   "outputs": [
    {
     "data": {
      "text/plain": [
       "score\n",
       "4     15\n",
       "2     14\n",
       "9     14\n",
       "3     13\n",
       "5     13\n",
       "na    13\n",
       "10    12\n",
       "7     11\n",
       "8     11\n",
       "1      7\n",
       "6      5\n",
       "Name: count, dtype: int64"
      ]
     },
     "execution_count": 114,
     "metadata": {},
     "output_type": "execute_result"
    }
   ],
   "source": [
    "df.score.value_counts()"
   ]
  },
  {
   "cell_type": "code",
   "execution_count": 115,
   "metadata": {},
   "outputs": [
    {
     "data": {
      "text/plain": [
       "year\n",
       "2014    27\n",
       "2013    24\n",
       "2015    23\n",
       "2012    17\n",
       "2010    13\n",
       "2011    10\n",
       "2009     7\n",
       "2008     7\n",
       "Name: count, dtype: int64"
      ]
     },
     "execution_count": 115,
     "metadata": {},
     "output_type": "execute_result"
    }
   ],
   "source": [
    "df.year.value_counts()"
   ]
  },
  {
   "cell_type": "code",
   "execution_count": 116,
   "metadata": {},
   "outputs": [
    {
     "data": {
      "text/plain": [
       "recommended\n",
       "no     66\n",
       "yes    62\n",
       "Name: count, dtype: int64"
      ]
     },
     "execution_count": 116,
     "metadata": {},
     "output_type": "execute_result"
    }
   ],
   "source": [
    "df.recommended.value_counts()"
   ]
  },
  {
   "cell_type": "code",
   "execution_count": 117,
   "metadata": {},
   "outputs": [
    {
     "data": {
      "text/plain": [
       "cabinflown\n",
       "Economy        113\n",
       "unknown         14\n",
       "First Class      1\n",
       "Name: count, dtype: int64"
      ]
     },
     "execution_count": 117,
     "metadata": {},
     "output_type": "execute_result"
    }
   ],
   "source": [
    "df.cabinflown.value_counts()"
   ]
  },
  {
   "cell_type": "code",
   "execution_count": 118,
   "metadata": {},
   "outputs": [
    {
     "data": {
      "text/plain": [
       "traveltype\n",
       "unknown            114\n",
       "Business             5\n",
       "Couple Leisure       4\n",
       "Solo Leisure         2\n",
       "FamilyLeisure        2\n",
       "Couple Leis ure      1\n",
       "Name: count, dtype: int64"
      ]
     },
     "execution_count": 118,
     "metadata": {},
     "output_type": "execute_result"
    }
   ],
   "source": [
    "df.traveltype.value_counts()"
   ]
  },
  {
   "cell_type": "code",
   "execution_count": 120,
   "metadata": {},
   "outputs": [],
   "source": [
    "df.to_excel(\"data.xlsx\")"
   ]
  },
  {
   "cell_type": "code",
   "execution_count": 121,
   "metadata": {},
   "outputs": [],
   "source": [
    "df.to_csv(\"data.csv\")"
   ]
  },
  {
   "cell_type": "code",
   "execution_count": 122,
   "metadata": {},
   "outputs": [
    {
     "data": {
      "text/plain": [
       "score\n",
       "4     15\n",
       "2     14\n",
       "9     14\n",
       "3     13\n",
       "5     13\n",
       "na    13\n",
       "10    12\n",
       "7     11\n",
       "8     11\n",
       "1      7\n",
       "6      5\n",
       "Name: count, dtype: int64"
      ]
     },
     "execution_count": 122,
     "metadata": {},
     "output_type": "execute_result"
    }
   ],
   "source": [
    "df.score.value_counts()"
   ]
  },
  {
   "cell_type": "code",
   "execution_count": 124,
   "metadata": {},
   "outputs": [],
   "source": [
    "df_clean = df[df.score!=\"na\"].copy()\n",
    "df_bad = df_clean[df_clean.score<5]\n",
    "df_good = df_clean[df_clean.score>=6]\n"
   ]
  },
  {
   "cell_type": "code",
   "execution_count": 125,
   "metadata": {},
   "outputs": [
    {
     "data": {
      "text/plain": [
       "score\n",
       "9     14\n",
       "10    12\n",
       "7     11\n",
       "8     11\n",
       "6      5\n",
       "Name: count, dtype: int64"
      ]
     },
     "execution_count": 125,
     "metadata": {},
     "output_type": "execute_result"
    }
   ],
   "source": [
    "df_good.score.value_counts()\n"
   ]
  },
  {
   "cell_type": "code",
   "execution_count": 126,
   "metadata": {},
   "outputs": [],
   "source": [
    "list_of_words = \" \".join(df_good.text.values).replace(\",\", \"\").replace(\".\", \"\").replace('\"', \"\").replace(\"!\", \"\").replace(\"!\", \"\").split(\" \")"
   ]
  },
  {
   "cell_type": "code",
   "execution_count": 127,
   "metadata": {},
   "outputs": [],
   "source": [
    "df_words = pd.DataFrame({\"words\": [x for x in list_of_words if len(x)>3]})"
   ]
  },
  {
   "cell_type": "code",
   "execution_count": 128,
   "metadata": {},
   "outputs": [],
   "source": [
    "words_filtered = df_words.words.value_counts().index.values\n",
    "\n",
    "frequencies = df_words.words.value_counts().values"
   ]
  },
  {
   "cell_type": "code",
   "execution_count": 129,
   "metadata": {},
   "outputs": [],
   "source": [
    "wc_df_good = pd.DataFrame({\"words\": words_filtered, \"frequencies\": frequencies})"
   ]
  },
  {
   "cell_type": "code",
   "execution_count": 130,
   "metadata": {},
   "outputs": [
    {
     "data": {
      "text/html": [
       "<div>\n",
       "<style scoped>\n",
       "    .dataframe tbody tr th:only-of-type {\n",
       "        vertical-align: middle;\n",
       "    }\n",
       "\n",
       "    .dataframe tbody tr th {\n",
       "        vertical-align: top;\n",
       "    }\n",
       "\n",
       "    .dataframe thead th {\n",
       "        text-align: right;\n",
       "    }\n",
       "</style>\n",
       "<table border=\"1\" class=\"dataframe\">\n",
       "  <thead>\n",
       "    <tr style=\"text-align: right;\">\n",
       "      <th></th>\n",
       "      <th>words</th>\n",
       "      <th>frequencies</th>\n",
       "    </tr>\n",
       "  </thead>\n",
       "  <tbody>\n",
       "    <tr>\n",
       "      <th>0</th>\n",
       "      <td>flight</td>\n",
       "      <td>49</td>\n",
       "    </tr>\n",
       "    <tr>\n",
       "      <th>1</th>\n",
       "      <td>time</td>\n",
       "      <td>37</td>\n",
       "    </tr>\n",
       "    <tr>\n",
       "      <th>2</th>\n",
       "      <td>were</td>\n",
       "      <td>36</td>\n",
       "    </tr>\n",
       "  </tbody>\n",
       "</table>\n",
       "</div>"
      ],
      "text/plain": [
       "    words  frequencies\n",
       "0  flight           49\n",
       "1    time           37\n",
       "2    were           36"
      ]
     },
     "execution_count": 130,
     "metadata": {},
     "output_type": "execute_result"
    }
   ],
   "source": [
    "wc_df_good.head(3)"
   ]
  },
  {
   "cell_type": "code",
   "execution_count": 131,
   "metadata": {},
   "outputs": [],
   "source": [
    "wc_df_good.to_excel(\"wc_good.xlsx\")\n",
    "wc_df_good.to_csv(\"wc_good.csv\")"
   ]
  },
  {
   "cell_type": "code",
   "execution_count": 132,
   "metadata": {},
   "outputs": [
    {
     "data": {
      "text/plain": [
       "score\n",
       "4    15\n",
       "2    14\n",
       "3    13\n",
       "1     7\n",
       "Name: count, dtype: int64"
      ]
     },
     "execution_count": 132,
     "metadata": {},
     "output_type": "execute_result"
    }
   ],
   "source": [
    "df_bad.score.value_counts()"
   ]
  },
  {
   "cell_type": "code",
   "execution_count": 133,
   "metadata": {},
   "outputs": [],
   "source": [
    "list_of_words = \" \".join(df_bad.text.values).replace(\",\", \"\").replace(\".\", \"\").replace('\"', \"\").replace(\"!\", \"\").replace(\"!\", \"\").split(\" \")"
   ]
  },
  {
   "cell_type": "code",
   "execution_count": 134,
   "metadata": {},
   "outputs": [],
   "source": [
    "df_words = pd.DataFrame({\"words\": [x for x in list_of_words if len(x)>3]})"
   ]
  },
  {
   "cell_type": "code",
   "execution_count": 135,
   "metadata": {},
   "outputs": [],
   "source": [
    "words_filtered = df_words.words.value_counts().index.values\n",
    "\n",
    "frequencies = df_words.words.value_counts().values"
   ]
  },
  {
   "cell_type": "code",
   "execution_count": 136,
   "metadata": {},
   "outputs": [],
   "source": [
    "wc_df_bad = pd.DataFrame({\"words\": words_filtered, \"frequencies\": frequencies})"
   ]
  },
  {
   "cell_type": "code",
   "execution_count": 137,
   "metadata": {},
   "outputs": [
    {
     "data": {
      "text/html": [
       "<div>\n",
       "<style scoped>\n",
       "    .dataframe tbody tr th:only-of-type {\n",
       "        vertical-align: middle;\n",
       "    }\n",
       "\n",
       "    .dataframe tbody tr th {\n",
       "        vertical-align: top;\n",
       "    }\n",
       "\n",
       "    .dataframe thead th {\n",
       "        text-align: right;\n",
       "    }\n",
       "</style>\n",
       "<table border=\"1\" class=\"dataframe\">\n",
       "  <thead>\n",
       "    <tr style=\"text-align: right;\">\n",
       "      <th></th>\n",
       "      <th>words</th>\n",
       "      <th>frequencies</th>\n",
       "    </tr>\n",
       "  </thead>\n",
       "  <tbody>\n",
       "    <tr>\n",
       "      <th>0</th>\n",
       "      <td>flight</td>\n",
       "      <td>69</td>\n",
       "    </tr>\n",
       "    <tr>\n",
       "      <th>1</th>\n",
       "      <td>with</td>\n",
       "      <td>53</td>\n",
       "    </tr>\n",
       "    <tr>\n",
       "      <th>2</th>\n",
       "      <td>were</td>\n",
       "      <td>43</td>\n",
       "    </tr>\n",
       "    <tr>\n",
       "      <th>3</th>\n",
       "      <td>Germanwings</td>\n",
       "      <td>42</td>\n",
       "    </tr>\n",
       "    <tr>\n",
       "      <th>4</th>\n",
       "      <td>from</td>\n",
       "      <td>38</td>\n",
       "    </tr>\n",
       "    <tr>\n",
       "      <th>5</th>\n",
       "      <td>that</td>\n",
       "      <td>35</td>\n",
       "    </tr>\n",
       "    <tr>\n",
       "      <th>6</th>\n",
       "      <td>late</td>\n",
       "      <td>24</td>\n",
       "    </tr>\n",
       "    <tr>\n",
       "      <th>7</th>\n",
       "      <td>have</td>\n",
       "      <td>24</td>\n",
       "    </tr>\n",
       "    <tr>\n",
       "      <th>8</th>\n",
       "      <td>this</td>\n",
       "      <td>24</td>\n",
       "    </tr>\n",
       "    <tr>\n",
       "      <th>9</th>\n",
       "      <td>time</td>\n",
       "      <td>24</td>\n",
       "    </tr>\n",
       "    <tr>\n",
       "      <th>10</th>\n",
       "      <td>they</td>\n",
       "      <td>22</td>\n",
       "    </tr>\n",
       "    <tr>\n",
       "      <th>11</th>\n",
       "      <td>minutes</td>\n",
       "      <td>22</td>\n",
       "    </tr>\n",
       "    <tr>\n",
       "      <th>12</th>\n",
       "      <td>passengers</td>\n",
       "      <td>21</td>\n",
       "    </tr>\n",
       "    <tr>\n",
       "      <th>13</th>\n",
       "      <td>Lufthansa</td>\n",
       "      <td>20</td>\n",
       "    </tr>\n",
       "    <tr>\n",
       "      <th>14</th>\n",
       "      <td>service</td>\n",
       "      <td>20</td>\n",
       "    </tr>\n",
       "    <tr>\n",
       "      <th>15</th>\n",
       "      <td>crew</td>\n",
       "      <td>17</td>\n",
       "    </tr>\n",
       "    <tr>\n",
       "      <th>16</th>\n",
       "      <td>flights</td>\n",
       "      <td>16</td>\n",
       "    </tr>\n",
       "    <tr>\n",
       "      <th>17</th>\n",
       "      <td>seat</td>\n",
       "      <td>16</td>\n",
       "    </tr>\n",
       "    <tr>\n",
       "      <th>18</th>\n",
       "      <td>Cologne</td>\n",
       "      <td>16</td>\n",
       "    </tr>\n",
       "    <tr>\n",
       "      <th>19</th>\n",
       "      <td>very</td>\n",
       "      <td>15</td>\n",
       "    </tr>\n",
       "  </tbody>\n",
       "</table>\n",
       "</div>"
      ],
      "text/plain": [
       "          words  frequencies\n",
       "0        flight           69\n",
       "1          with           53\n",
       "2          were           43\n",
       "3   Germanwings           42\n",
       "4          from           38\n",
       "5          that           35\n",
       "6          late           24\n",
       "7          have           24\n",
       "8          this           24\n",
       "9          time           24\n",
       "10         they           22\n",
       "11      minutes           22\n",
       "12   passengers           21\n",
       "13    Lufthansa           20\n",
       "14      service           20\n",
       "15         crew           17\n",
       "16      flights           16\n",
       "17         seat           16\n",
       "18      Cologne           16\n",
       "19         very           15"
      ]
     },
     "execution_count": 137,
     "metadata": {},
     "output_type": "execute_result"
    }
   ],
   "source": [
    "wc_df_bad.head(20)"
   ]
  },
  {
   "cell_type": "code",
   "execution_count": 138,
   "metadata": {},
   "outputs": [],
   "source": [
    "wc_df_bad.to_excel(\"wc_bad.xlsx\")\n",
    "wc_df_bad.to_csv(\"wc_bad.csv\")"
   ]
  },
  {
   "cell_type": "code",
   "execution_count": 139,
   "metadata": {},
   "outputs": [],
   "source": [
    "\n",
    "BASE_PROMPT =   \"\"\"\n",
    "                /nothinking\n",
    "\n",
    "                I'll give you a review for an airline. Do the following:\n",
    "                Scan the review for information on the route that the customer took, like Hamburg to Cologne, HAM-LHR etc. If there is route information return the information as a python dictionary where the key represents the airport code and the value represents the real city name.\n",
    "                {\"HAM\": \"Hamburg\", \"JFK\": \"New York City\"}\n",
    "\n",
    "                review:\n",
    "                \"\"\"\n",
    "FULL_PROMPT = BASE_PROMPT + \"\\n\" + reviews[99]\n",
    "\n",
    "    \n",
    "    \n"
   ]
  },
  {
   "cell_type": "code",
   "execution_count": 140,
   "metadata": {},
   "outputs": [],
   "source": [
    "import requests\n",
    "base_url = \"http://127.0.0.1:1234\"\n",
    "\n",
    "# Define the full endpoint path (v1/models)\n",
    "endpoint = \"/v1/models\"\n",
    "\n",
    "# Construct the full URL\n",
    "url = base_url + endpoint\n",
    "\n",
    "# Set headers to mimic an OpenAI API request (optional, but good practice)\n",
    "headers = {\n",
    "    \"Authorization\": \"lmstudio\",  # Replace with your actual API key if needed\n",
    "    \"Content-Type\": \"application/json\"\n",
    "}\n",
    "\n",
    "# Make the GET request to list models\n",
    "response = requests.get(url, headers=headers)"
   ]
  },
  {
   "cell_type": "code",
   "execution_count": 141,
   "metadata": {},
   "outputs": [],
   "source": [
    "from openai import OpenAI\n",
    "\n",
    "\n",
    "def query_lmstudio(prompt: str, url: str = \"http://localhost:1234/v1\"):\n",
    "    # Create OpenAI client pointing to LM Studio\n",
    "    client = OpenAI(\n",
    "        base_url=url,\n",
    "        api_key=\"lm-studio\"  # Dummy key required by SDK, ignored by LM Studio\n",
    "    )\n",
    "    try:\n",
    "        response = client.chat.completions.create(\n",
    "            model=\"google/gemma-3-4b\",  # Replace with your LM Studio model name\n",
    "            messages=[\n",
    "                {\"role\": \"user\", \"content\": prompt}\n",
    "            ],\n",
    "        )\n",
    "        return response.choices[0].message.content\n",
    "    except Exception as e:\n",
    "        return f\"Error: {e}\""
   ]
  },
  {
   "cell_type": "code",
   "execution_count": 142,
   "metadata": {},
   "outputs": [],
   "source": [
    "from tqdm import tqdm\n",
    "\n",
    "BASE_PROMPT =   \"\"\"\n",
    "                Task: Extract the flight route from the following review.\n",
    "                Identify all cities in the text that were part of the flight route.\n",
    "\n",
    "\n",
    "                \n",
    "                Do not guess if the code is missing or ambiguous.\n",
    "                Example Review:\n",
    "                \"Flew from Hamburg to Berlin and back. Great experience overall!\"\n",
    "                Expected Output:\n",
    "                [\"Hamburg\", \"Berlin\"]\n",
    "\n",
    "                RETURN ONLY AN ARRAY OF CITIES. DONT WRITE ANY CODE\n",
    "\n",
    "                here is the review:\n",
    "                \n",
    "                \"\"\""
   ]
  },
  {
   "cell_type": "code",
   "execution_count": 143,
   "metadata": {},
   "outputs": [],
   "source": [
    "import re\n",
    "\n",
    "def extract_iata_codes(text):\n",
    "    # Match patterns like \"LHR\", \"JFK\", etc. (three uppercase letters)\n",
    "    return re.findall(r'\\b[A-Z]{3}\\b', text)"
   ]
  },
  {
   "cell_type": "code",
   "execution_count": 144,
   "metadata": {},
   "outputs": [
    {
     "data": {
      "text/plain": [
       "['STR', 'LIS', 'STR']"
      ]
     },
     "execution_count": 144,
     "metadata": {},
     "output_type": "execute_result"
    }
   ],
   "source": [
    "extract_iata_codes(reviews[122])"
   ]
  },
  {
   "cell_type": "code",
   "execution_count": 145,
   "metadata": {},
   "outputs": [],
   "source": [
    "code_mapping = pd.read_excel(\"airport_codes.xlsx\")"
   ]
  },
  {
   "cell_type": "code",
   "execution_count": 146,
   "metadata": {},
   "outputs": [],
   "source": [
    "codes = code_mapping.code.values\n",
    "cities = code_mapping.city.values"
   ]
  },
  {
   "cell_type": "code",
   "execution_count": 147,
   "metadata": {},
   "outputs": [],
   "source": [
    "mapping = {}\n",
    "\n",
    "for i in range(len(codes)):\n",
    "    mapping[codes[i]] = cities[i]"
   ]
  },
  {
   "cell_type": "code",
   "execution_count": 148,
   "metadata": {},
   "outputs": [],
   "source": [
    "def replace_airport_codes_in_text(text):\n",
    "    codes_found = extract_iata_codes(text=text)\n",
    "    for code in codes_found:\n",
    "        try:\n",
    "            text = text.replace(code, mapping[code])\n",
    "        except:\n",
    "            print(f\"there was an error with {code}\")\n",
    "    return text"
   ]
  },
  {
   "cell_type": "code",
   "execution_count": 149,
   "metadata": {},
   "outputs": [
    {
     "name": "stderr",
     "output_type": "stream",
     "text": [
      "  2%|▏         | 2/128 [00:07<07:24,  3.53s/it]"
     ]
    },
    {
     "name": "stdout",
     "output_type": "stream",
     "text": [
      "there was an error with EUR\n",
      "there was an error with EUR\n",
      "there was an error with EUR\n"
     ]
    },
    {
     "name": "stderr",
     "output_type": "stream",
     "text": [
      " 12%|█▏        | 15/128 [00:40<04:46,  2.53s/it]"
     ]
    },
    {
     "name": "stdout",
     "output_type": "stream",
     "text": [
      "there was an error with CRJ\n"
     ]
    },
    {
     "name": "stderr",
     "output_type": "stream",
     "text": [
      " 20%|██        | 26/128 [01:04<03:52,  2.28s/it]"
     ]
    },
    {
     "name": "stdout",
     "output_type": "stream",
     "text": [
      "there was an error with CRJ\n"
     ]
    },
    {
     "name": "stderr",
     "output_type": "stream",
     "text": [
      " 28%|██▊       | 36/128 [01:24<02:58,  1.94s/it]"
     ]
    },
    {
     "name": "stdout",
     "output_type": "stream",
     "text": [
      "there was an error with EUR\n"
     ]
    },
    {
     "name": "stderr",
     "output_type": "stream",
     "text": [
      " 31%|███▏      | 40/128 [01:31<02:48,  1.91s/it]"
     ]
    },
    {
     "name": "stdout",
     "output_type": "stream",
     "text": [
      "there was an error with APP\n"
     ]
    },
    {
     "name": "stderr",
     "output_type": "stream",
     "text": [
      " 39%|███▉      | 50/128 [01:50<02:24,  1.86s/it]"
     ]
    },
    {
     "name": "stdout",
     "output_type": "stream",
     "text": [
      "there was an error with ZHR\n"
     ]
    },
    {
     "name": "stderr",
     "output_type": "stream",
     "text": [
      " 48%|████▊     | 62/128 [02:17<02:40,  2.43s/it]"
     ]
    },
    {
     "name": "stdout",
     "output_type": "stream",
     "text": [
      "there was an error with LCC\n"
     ]
    },
    {
     "name": "stderr",
     "output_type": "stream",
     "text": [
      " 51%|█████     | 65/128 [02:22<02:05,  1.99s/it]"
     ]
    },
    {
     "name": "stdout",
     "output_type": "stream",
     "text": [
      "there was an error with FTL\n",
      "there was an error with FTL\n",
      "there was an error with FTL\n"
     ]
    },
    {
     "name": "stderr",
     "output_type": "stream",
     "text": [
      " 55%|█████▌    | 71/128 [02:37<02:05,  2.20s/it]"
     ]
    },
    {
     "name": "stdout",
     "output_type": "stream",
     "text": [
      "there was an error with FTL\n"
     ]
    },
    {
     "name": "stderr",
     "output_type": "stream",
     "text": [
      " 57%|█████▋    | 73/128 [02:42<01:58,  2.16s/it]"
     ]
    },
    {
     "name": "stdout",
     "output_type": "stream",
     "text": [
      "there was an error with ILS\n"
     ]
    },
    {
     "name": "stderr",
     "output_type": "stream",
     "text": [
      " 74%|███████▍  | 95/128 [03:23<01:03,  1.93s/it]"
     ]
    },
    {
     "name": "stdout",
     "output_type": "stream",
     "text": [
      "there was an error with GGN\n"
     ]
    },
    {
     "name": "stderr",
     "output_type": "stream",
     "text": [
      " 80%|████████  | 103/128 [03:35<00:38,  1.55s/it]"
     ]
    },
    {
     "name": "stdout",
     "output_type": "stream",
     "text": [
      "there was an error with TUI\n"
     ]
    },
    {
     "name": "stderr",
     "output_type": "stream",
     "text": [
      " 81%|████████▏ | 104/128 [03:37<00:37,  1.56s/it]"
     ]
    },
    {
     "name": "stdout",
     "output_type": "stream",
     "text": [
      "there was an error with TUI\n"
     ]
    },
    {
     "name": "stderr",
     "output_type": "stream",
     "text": [
      " 84%|████████▍ | 108/128 [03:42<00:25,  1.29s/it]"
     ]
    },
    {
     "name": "stdout",
     "output_type": "stream",
     "text": [
      "there was an error with EUR\n",
      "there was an error with EUR\n"
     ]
    },
    {
     "name": "stderr",
     "output_type": "stream",
     "text": [
      " 87%|████████▋ | 111/128 [03:49<00:31,  1.86s/it]"
     ]
    },
    {
     "name": "stdout",
     "output_type": "stream",
     "text": [
      "there was an error with EUR\n"
     ]
    },
    {
     "name": "stderr",
     "output_type": "stream",
     "text": [
      " 88%|████████▊ | 112/128 [03:50<00:27,  1.71s/it]"
     ]
    },
    {
     "name": "stdout",
     "output_type": "stream",
     "text": [
      "there was an error with PAX\n"
     ]
    },
    {
     "name": "stderr",
     "output_type": "stream",
     "text": [
      " 89%|████████▉ | 114/128 [03:54<00:25,  1.86s/it]"
     ]
    },
    {
     "name": "stdout",
     "output_type": "stream",
     "text": [
      "there was an error with EUR\n"
     ]
    },
    {
     "name": "stderr",
     "output_type": "stream",
     "text": [
      " 98%|█████████▊| 126/128 [04:15<00:03,  1.84s/it]"
     ]
    },
    {
     "name": "stdout",
     "output_type": "stream",
     "text": [
      "there was an error with KLM\n"
     ]
    },
    {
     "name": "stderr",
     "output_type": "stream",
     "text": [
      "100%|██████████| 128/128 [04:19<00:00,  2.03s/it]\n"
     ]
    }
   ],
   "source": [
    "answers = []\n",
    "\n",
    "for review in tqdm(reviews):\n",
    "    review = replace_airport_codes_in_text(text=review)\n",
    "    prompt = BASE_PROMPT + review\n",
    "    answer = query_lmstudio(prompt=prompt)\n",
    "    answers.append(answer)"
   ]
  },
  {
   "cell_type": "code",
   "execution_count": 228,
   "metadata": {},
   "outputs": [],
   "source": [
    "import pandas as pd"
   ]
  },
  {
   "cell_type": "code",
   "execution_count": 286,
   "metadata": {},
   "outputs": [],
   "source": [
    "def process_answer(answer):\n",
    "     try:\n",
    "          city = answer.split('\"')[1]\n",
    "     except:\n",
    "          city = \"unknown\"\n",
    "     return city"
   ]
  },
  {
   "cell_type": "code",
   "execution_count": 287,
   "metadata": {},
   "outputs": [],
   "source": [
    "processed_answers = []\n",
    "\n",
    "for answer in answers:\n",
    "    try:\n",
    "        processed_answer = process_answer(answer=answer)\n",
    "        processed_answers.append(processed_answer)\n",
    "    except:\n",
    "        processed_answers.append(\"unknown\")"
   ]
  },
  {
   "cell_type": "code",
   "execution_count": 312,
   "metadata": {},
   "outputs": [
    {
     "data": {
      "text/plain": [
       "128"
      ]
     },
     "execution_count": 312,
     "metadata": {},
     "output_type": "execute_result"
    }
   ],
   "source": [
    "len(processed_answers)"
   ]
  },
  {
   "cell_type": "code",
   "execution_count": 313,
   "metadata": {},
   "outputs": [
    {
     "data": {
      "text/plain": [
       "['Stuttgart',\n",
       " 'Hamburg',\n",
       " 'Palma de Mallorca',\n",
       " 'Berlin-Tegel',\n",
       " 'Köln',\n",
       " 'Istanbul',\n",
       " 'Düsseldorf',\n",
       " 'Dusseldorf',\n",
       " 'Duesseldorf',\n",
       " 'Cologne',\n",
       " 'Hamburg',\n",
       " 'Stansted',\n",
       " 'Rome',\n",
       " 'Hamburg',\n",
       " 'Prague',\n",
       " 'Duesseldorf',\n",
       " 'Hamburg',\n",
       " 'Duesseldorf',\n",
       " 'Köln',\n",
       " 'Bologna',\n",
       " 'Duesseldorf',\n",
       " 'Heathrow',\n",
       " 'London',\n",
       " 'Berlin',\n",
       " 'London',\n",
       " 'London',\n",
       " 'Hamburg',\n",
       " 'Stuttgart',\n",
       " 'Manchester',\n",
       " 'Cologne/Bonn',\n",
       " 'London Heathrow',\n",
       " 'Hanover',\n",
       " 'Hamburg',\n",
       " 'London Heathrow',\n",
       " 'Vienna',\n",
       " 'London',\n",
       " 'Duesseldorf',\n",
       " 'Brussels',\n",
       " 'Dusseldorf',\n",
       " 'Köln',\n",
       " 'Hamburg',\n",
       " 'Stansted',\n",
       " 'Prague',\n",
       " 'London',\n",
       " 'Stansted',\n",
       " 'Berlin',\n",
       " 'Cologne',\n",
       " 'Köln',\n",
       " 'Brussels',\n",
       " 'Barcelona',\n",
       " 'Köln',\n",
       " 'Helsinki',\n",
       " 'Birmingham',\n",
       " 'London Stansted',\n",
       " 'Budapest',\n",
       " 'Heathrow',\n",
       " 'Vienna',\n",
       " 'Köln',\n",
       " 'United Kingdom',\n",
       " 'Köln',\n",
       " 'London',\n",
       " 'Cologne',\n",
       " 'Bremen',\n",
       " 'Verona',\n",
       " 'Hamburg',\n",
       " 'Hamburg',\n",
       " 'Cologne',\n",
       " 'Split',\n",
       " 'Manchester',\n",
       " 'Hamburg',\n",
       " 'London',\n",
       " 'Köln',\n",
       " 'Cologne',\n",
       " 'Treviso',\n",
       " 'London',\n",
       " 'London',\n",
       " 'Stansted',\n",
       " 'Stuttgart',\n",
       " 'London Stansted',\n",
       " 'Hamburg',\n",
       " 'London',\n",
       " 'Dubrovnik',\n",
       " 'London',\n",
       " 'unknown',\n",
       " 'Ireland',\n",
       " 'Stansted',\n",
       " 'Palma de Mallorca',\n",
       " 'Köln',\n",
       " 'Berlin',\n",
       " 'Stuttgart',\n",
       " 'London',\n",
       " 'Edinburgh',\n",
       " 'Istanbul',\n",
       " 'Cologne',\n",
       " 'Dublin',\n",
       " 'Stansted',\n",
       " 'Manchester',\n",
       " 'Cologne',\n",
       " 'unknown',\n",
       " 'Munich',\n",
       " 'Zagreb',\n",
       " 'Germany',\n",
       " 'Manchester',\n",
       " 'Cologne',\n",
       " 'Cologne',\n",
       " 'Cologne',\n",
       " 'Cologne',\n",
       " 'Cologne',\n",
       " 'Prague',\n",
       " 'London',\n",
       " 'Strasbourg',\n",
       " 'unknown',\n",
       " 'Köln',\n",
       " 'Hamburg',\n",
       " 'Cologne',\n",
       " 'Bologna',\n",
       " 'Dublin',\n",
       " 'Bucharest',\n",
       " 'Berlin',\n",
       " 'Berlin',\n",
       " 'Muenchen',\n",
       " 'unknown',\n",
       " 'Stuttgart',\n",
       " 'Stansted',\n",
       " 'Stansted',\n",
       " 'Berlin',\n",
       " 'Stansted',\n",
       " 'Stuttgart']"
      ]
     },
     "execution_count": 313,
     "metadata": {},
     "output_type": "execute_result"
    }
   ],
   "source": [
    "processed_answers"
   ]
  },
  {
   "cell_type": "code",
   "execution_count": 531,
   "metadata": {},
   "outputs": [],
   "source": [
    "def clean_city_name(answer):\n",
    "    answer = answer.replace(\"Dusseldorf\", \"Duesseldorf\").replace(\"Düsseldorf\", \"Duesseldorf\")\n",
    "    if \"Köln\" in answer or \"Cologne\" in answer:\n",
    "        answer = \"Cologne/Bonn\"\n",
    "    if \"Heathrow\" in answer: \n",
    "        answer = \"London Heathrow\"\n",
    "    if \"Muenchen\" in answer:\n",
    "        answer = \"Munich\"\n",
    "    if \"Stansted\" in answer:\n",
    "        answer = \"London Stansted\"\n",
    "    return answer \n",
    " "
   ]
  },
  {
   "cell_type": "code",
   "execution_count": 532,
   "metadata": {},
   "outputs": [],
   "source": [
    "df.departure_city =  df.departure_city.apply(clean_city_name)"
   ]
  },
  {
   "cell_type": "code",
   "execution_count": 533,
   "metadata": {},
   "outputs": [],
   "source": [
    "departure_cities = []\n",
    "\n",
    "for answer in processed_answers:\n",
    "    departure_cities.append(clean_city_name(answer))"
   ]
  },
  {
   "cell_type": "code",
   "execution_count": 534,
   "metadata": {},
   "outputs": [
    {
     "data": {
      "text/plain": [
       "departure_city\n",
       "Cologne/Bonn         24\n",
       "London               13\n",
       "Hamburg              12\n",
       "London Stansted      11\n",
       "Duesseldorf           8\n",
       "Berlin                6\n",
       "Stuttgart             6\n",
       "unknown               4\n",
       "London Heathrow       4\n",
       "Manchester            4\n",
       "Prague                3\n",
       "Istanbul              2\n",
       "Brussels              2\n",
       "Dublin                2\n",
       "Munich                2\n",
       "Palma de Mallorca     2\n",
       "Vienna                2\n",
       "Bologna               2\n",
       "Germany               1\n",
       "Zagreb                1\n",
       "Strasbourg            1\n",
       "Treviso               1\n",
       "Edinburgh             1\n",
       "Ireland               1\n",
       "Dubrovnik             1\n",
       "Barcelona             1\n",
       "Split                 1\n",
       "Verona                1\n",
       "Bremen                1\n",
       "United Kingdom        1\n",
       "Budapest              1\n",
       "Birmingham            1\n",
       "Helsinki              1\n",
       "Hanover               1\n",
       "Rome                  1\n",
       "Berlin-Tegel          1\n",
       "Bucharest             1\n",
       "Name: count, dtype: int64"
      ]
     },
     "execution_count": 534,
     "metadata": {},
     "output_type": "execute_result"
    }
   ],
   "source": [
    "df.departure_city.value_counts()"
   ]
  },
  {
   "cell_type": "code",
   "execution_count": 3,
   "metadata": {},
   "outputs": [],
   "source": [
    "import pandas as pd\n",
    "df=pd.read_csv(\"data.csv\")"
   ]
  },
  {
   "cell_type": "code",
   "execution_count": 5,
   "metadata": {},
   "outputs": [
    {
     "data": {
      "text/html": [
       "<div>\n",
       "<style scoped>\n",
       "    .dataframe tbody tr th:only-of-type {\n",
       "        vertical-align: middle;\n",
       "    }\n",
       "\n",
       "    .dataframe tbody tr th {\n",
       "        vertical-align: top;\n",
       "    }\n",
       "\n",
       "    .dataframe thead th {\n",
       "        text-align: right;\n",
       "    }\n",
       "</style>\n",
       "<table border=\"1\" class=\"dataframe\">\n",
       "  <thead>\n",
       "    <tr style=\"text-align: right;\">\n",
       "      <th></th>\n",
       "      <th>score</th>\n",
       "      <th>country</th>\n",
       "      <th>recommended</th>\n",
       "      <th>cabinflown</th>\n",
       "      <th>traveltype</th>\n",
       "      <th>year</th>\n",
       "      <th>departure_city</th>\n",
       "      <th>delay_mention</th>\n",
       "      <th>foodanddrink_mention</th>\n",
       "      <th>service_mention</th>\n",
       "      <th>seat_mention</th>\n",
       "      <th>checkin_mention</th>\n",
       "      <th>text</th>\n",
       "      <th>money</th>\n",
       "    </tr>\n",
       "  </thead>\n",
       "  <tbody>\n",
       "    <tr>\n",
       "      <th>0</th>\n",
       "      <td>2</td>\n",
       "      <td>Canada</td>\n",
       "      <td>no</td>\n",
       "      <td>Economy</td>\n",
       "      <td>Couple Leisure</td>\n",
       "      <td>2015</td>\n",
       "      <td>Stuttgart</td>\n",
       "      <td>True</td>\n",
       "      <td>False</td>\n",
       "      <td>False</td>\n",
       "      <td>False</td>\n",
       "      <td>True</td>\n",
       "      <td>We flew with Germanwings (or tried to) on Sept...</td>\n",
       "      <td>False</td>\n",
       "    </tr>\n",
       "    <tr>\n",
       "      <th>1</th>\n",
       "      <td>3</td>\n",
       "      <td>United Kingdom</td>\n",
       "      <td>no</td>\n",
       "      <td>Economy</td>\n",
       "      <td>Solo Leisure</td>\n",
       "      <td>2015</td>\n",
       "      <td>Hamburg</td>\n",
       "      <td>False</td>\n",
       "      <td>True</td>\n",
       "      <td>True</td>\n",
       "      <td>False</td>\n",
       "      <td>False</td>\n",
       "      <td>I am less than impressed with Germanwings serv...</td>\n",
       "      <td>False</td>\n",
       "    </tr>\n",
       "    <tr>\n",
       "      <th>2</th>\n",
       "      <td>3</td>\n",
       "      <td>Germany</td>\n",
       "      <td>no</td>\n",
       "      <td>Economy</td>\n",
       "      <td>Couple Leisure</td>\n",
       "      <td>2015</td>\n",
       "      <td>Palma de Mallorca</td>\n",
       "      <td>True</td>\n",
       "      <td>True</td>\n",
       "      <td>True</td>\n",
       "      <td>True</td>\n",
       "      <td>True</td>\n",
       "      <td>Flew from Palma de Mallorca to Cologne with Ge...</td>\n",
       "      <td>False</td>\n",
       "    </tr>\n",
       "    <tr>\n",
       "      <th>3</th>\n",
       "      <td>10</td>\n",
       "      <td>Germany</td>\n",
       "      <td>yes</td>\n",
       "      <td>unknown</td>\n",
       "      <td>Business</td>\n",
       "      <td>2015</td>\n",
       "      <td>Berlin-Tegel</td>\n",
       "      <td>True</td>\n",
       "      <td>False</td>\n",
       "      <td>False</td>\n",
       "      <td>False</td>\n",
       "      <td>False</td>\n",
       "      <td>Good flight from Berlin-Tegel to London Heathr...</td>\n",
       "      <td>False</td>\n",
       "    </tr>\n",
       "    <tr>\n",
       "      <th>4</th>\n",
       "      <td>4</td>\n",
       "      <td>Germany</td>\n",
       "      <td>no</td>\n",
       "      <td>Economy</td>\n",
       "      <td>Business</td>\n",
       "      <td>2015</td>\n",
       "      <td>Cologne/Bonn</td>\n",
       "      <td>True</td>\n",
       "      <td>False</td>\n",
       "      <td>True</td>\n",
       "      <td>False</td>\n",
       "      <td>False</td>\n",
       "      <td>I don't get why Germanwings is always late and...</td>\n",
       "      <td>False</td>\n",
       "    </tr>\n",
       "    <tr>\n",
       "      <th>...</th>\n",
       "      <td>...</td>\n",
       "      <td>...</td>\n",
       "      <td>...</td>\n",
       "      <td>...</td>\n",
       "      <td>...</td>\n",
       "      <td>...</td>\n",
       "      <td>...</td>\n",
       "      <td>...</td>\n",
       "      <td>...</td>\n",
       "      <td>...</td>\n",
       "      <td>...</td>\n",
       "      <td>...</td>\n",
       "      <td>...</td>\n",
       "      <td>...</td>\n",
       "    </tr>\n",
       "    <tr>\n",
       "      <th>123</th>\n",
       "      <td>4</td>\n",
       "      <td>unknown</td>\n",
       "      <td>no</td>\n",
       "      <td>unknown</td>\n",
       "      <td>unknown</td>\n",
       "      <td>2008</td>\n",
       "      <td>London Stansted</td>\n",
       "      <td>True</td>\n",
       "      <td>False</td>\n",
       "      <td>False</td>\n",
       "      <td>False</td>\n",
       "      <td>True</td>\n",
       "      <td>STN-CGN-STN. Looking forward to renewing my ac...</td>\n",
       "      <td>False</td>\n",
       "    </tr>\n",
       "    <tr>\n",
       "      <th>124</th>\n",
       "      <td>4</td>\n",
       "      <td>unknown</td>\n",
       "      <td>no</td>\n",
       "      <td>unknown</td>\n",
       "      <td>unknown</td>\n",
       "      <td>2008</td>\n",
       "      <td>London Stansted</td>\n",
       "      <td>True</td>\n",
       "      <td>False</td>\n",
       "      <td>True</td>\n",
       "      <td>True</td>\n",
       "      <td>False</td>\n",
       "      <td>STN-CGN-STN first time with Germanwings. Some ...</td>\n",
       "      <td>False</td>\n",
       "    </tr>\n",
       "    <tr>\n",
       "      <th>125</th>\n",
       "      <td>3</td>\n",
       "      <td>unknown</td>\n",
       "      <td>no</td>\n",
       "      <td>unknown</td>\n",
       "      <td>unknown</td>\n",
       "      <td>2008</td>\n",
       "      <td>Berlin</td>\n",
       "      <td>False</td>\n",
       "      <td>False</td>\n",
       "      <td>False</td>\n",
       "      <td>False</td>\n",
       "      <td>False</td>\n",
       "      <td>The last-minute addition of ï¿½13 for use of a...</td>\n",
       "      <td>False</td>\n",
       "    </tr>\n",
       "    <tr>\n",
       "      <th>126</th>\n",
       "      <td>1</td>\n",
       "      <td>unknown</td>\n",
       "      <td>no</td>\n",
       "      <td>unknown</td>\n",
       "      <td>unknown</td>\n",
       "      <td>2008</td>\n",
       "      <td>London Stansted</td>\n",
       "      <td>True</td>\n",
       "      <td>False</td>\n",
       "      <td>True</td>\n",
       "      <td>False</td>\n",
       "      <td>False</td>\n",
       "      <td>STN-CGN-STN. My second time on GermanWings. Th...</td>\n",
       "      <td>False</td>\n",
       "    </tr>\n",
       "    <tr>\n",
       "      <th>127</th>\n",
       "      <td>3</td>\n",
       "      <td>unknown</td>\n",
       "      <td>no</td>\n",
       "      <td>unknown</td>\n",
       "      <td>unknown</td>\n",
       "      <td>2008</td>\n",
       "      <td>Stuttgart</td>\n",
       "      <td>False</td>\n",
       "      <td>False</td>\n",
       "      <td>False</td>\n",
       "      <td>True</td>\n",
       "      <td>True</td>\n",
       "      <td>STR-STN return. Another great flight with Germ...</td>\n",
       "      <td>False</td>\n",
       "    </tr>\n",
       "  </tbody>\n",
       "</table>\n",
       "<p>128 rows × 14 columns</p>\n",
       "</div>"
      ],
      "text/plain": [
       "    score         country recommended cabinflown      traveltype  year  \\\n",
       "0       2          Canada          no    Economy  Couple Leisure  2015   \n",
       "1       3  United Kingdom          no    Economy    Solo Leisure  2015   \n",
       "2       3         Germany          no    Economy  Couple Leisure  2015   \n",
       "3      10         Germany         yes    unknown        Business  2015   \n",
       "4       4         Germany          no    Economy        Business  2015   \n",
       "..    ...             ...         ...        ...             ...   ...   \n",
       "123     4         unknown          no    unknown         unknown  2008   \n",
       "124     4         unknown          no    unknown         unknown  2008   \n",
       "125     3         unknown          no    unknown         unknown  2008   \n",
       "126     1         unknown          no    unknown         unknown  2008   \n",
       "127     3         unknown          no    unknown         unknown  2008   \n",
       "\n",
       "        departure_city  delay_mention  foodanddrink_mention  service_mention  \\\n",
       "0            Stuttgart           True                 False            False   \n",
       "1              Hamburg          False                  True             True   \n",
       "2    Palma de Mallorca           True                  True             True   \n",
       "3         Berlin-Tegel           True                 False            False   \n",
       "4         Cologne/Bonn           True                 False             True   \n",
       "..                 ...            ...                   ...              ...   \n",
       "123    London Stansted           True                 False            False   \n",
       "124    London Stansted           True                 False             True   \n",
       "125             Berlin          False                 False            False   \n",
       "126    London Stansted           True                 False             True   \n",
       "127          Stuttgart          False                 False            False   \n",
       "\n",
       "     seat_mention  checkin_mention  \\\n",
       "0           False             True   \n",
       "1           False            False   \n",
       "2            True             True   \n",
       "3           False            False   \n",
       "4           False            False   \n",
       "..            ...              ...   \n",
       "123         False             True   \n",
       "124          True            False   \n",
       "125         False            False   \n",
       "126         False            False   \n",
       "127          True             True   \n",
       "\n",
       "                                                  text  money  \n",
       "0    We flew with Germanwings (or tried to) on Sept...  False  \n",
       "1    I am less than impressed with Germanwings serv...  False  \n",
       "2    Flew from Palma de Mallorca to Cologne with Ge...  False  \n",
       "3    Good flight from Berlin-Tegel to London Heathr...  False  \n",
       "4    I don't get why Germanwings is always late and...  False  \n",
       "..                                                 ...    ...  \n",
       "123  STN-CGN-STN. Looking forward to renewing my ac...  False  \n",
       "124  STN-CGN-STN first time with Germanwings. Some ...  False  \n",
       "125  The last-minute addition of ï¿½13 for use of a...  False  \n",
       "126  STN-CGN-STN. My second time on GermanWings. Th...  False  \n",
       "127  STR-STN return. Another great flight with Germ...  False  \n",
       "\n",
       "[128 rows x 14 columns]"
      ]
     },
     "execution_count": 5,
     "metadata": {},
     "output_type": "execute_result"
    }
   ],
   "source": [
    "df"
   ]
  },
  {
   "cell_type": "code",
   "execution_count": null,
   "metadata": {},
   "outputs": [],
   "source": [
    "df[df.text.str.contains(\"delayed\", case=False)][df.score!=\"na\"]"
   ]
  },
  {
   "cell_type": "code",
   "execution_count": 510,
   "metadata": {},
   "outputs": [],
   "source": [
    "texts = df.text\n",
    "keywords = [\"delayed\", \"late\", \"delay\"]\n",
    "\n",
    "for word in keywords:\n",
    "    if word in text:\n",
    "        print(f\"{word} is in the sentence\")"
   ]
  },
  {
   "cell_type": "code",
   "execution_count": 511,
   "metadata": {},
   "outputs": [],
   "source": [
    "def delay_mentioned(text):\n",
    "    keywords = [\"delayed\", \"late\", \"delay\"]\n",
    "    text_lower = text.lower()\n",
    "    for word in keywords:\n",
    "        if word in text_lower:\n",
    "            return True\n",
    "    return False\n"
   ]
  },
  {
   "cell_type": "code",
   "execution_count": 512,
   "metadata": {},
   "outputs": [],
   "source": [
    "df[\"delay_mention\"] = df.text.apply(delay_mentioned)"
   ]
  },
  {
   "cell_type": "code",
   "execution_count": 513,
   "metadata": {},
   "outputs": [
    {
     "data": {
      "text/plain": [
       "False"
      ]
     },
     "execution_count": 513,
     "metadata": {},
     "output_type": "execute_result"
    }
   ],
   "source": [
    "df.iloc[20:50].delay_mention.values[10]\n"
   ]
  },
  {
   "cell_type": "code",
   "execution_count": 514,
   "metadata": {},
   "outputs": [
    {
     "name": "stderr",
     "output_type": "stream",
     "text": [
      "/var/folders/8m/rfsmltyn01b1h7rd54xtgnvw0000gn/T/ipykernel_43546/4124776110.py:1: UserWarning: Boolean Series key will be reindexed to match DataFrame index.\n",
      "  df[df.delay_mention][df.score!=\"na\"].score.mean()\n"
     ]
    },
    {
     "data": {
      "text/plain": [
       "4.491525423728813"
      ]
     },
     "execution_count": 514,
     "metadata": {},
     "output_type": "execute_result"
    }
   ],
   "source": [
    "df[df.delay_mention][df.score!=\"na\"].score.mean()"
   ]
  },
  {
   "cell_type": "code",
   "execution_count": 515,
   "metadata": {},
   "outputs": [
    {
     "data": {
      "text/plain": [
       "False"
      ]
     },
     "execution_count": 515,
     "metadata": {},
     "output_type": "execute_result"
    }
   ],
   "source": [
    "df.iloc[10:30].delay_mention.values[10]"
   ]
  },
  {
   "cell_type": "code",
   "execution_count": 516,
   "metadata": {},
   "outputs": [],
   "source": [
    "def foodanddrink_mentioned(text):\n",
    "    keywords = [\"food\", \"drink\"]\n",
    "    text_lower = text.lower()\n",
    "    for word in keywords:\n",
    "        if word in text_lower:\n",
    "            return True\n",
    "    return False"
   ]
  },
  {
   "cell_type": "code",
   "execution_count": 517,
   "metadata": {},
   "outputs": [],
   "source": [
    "df[\"foodanddrink_mention\"] = df.text.apply(foodanddrink_mentioned)"
   ]
  },
  {
   "cell_type": "code",
   "execution_count": 518,
   "metadata": {},
   "outputs": [
    {
     "data": {
      "text/plain": [
       "0      False\n",
       "1       True\n",
       "2       True\n",
       "3      False\n",
       "4      False\n",
       "       ...  \n",
       "123    False\n",
       "124    False\n",
       "125    False\n",
       "126    False\n",
       "127    False\n",
       "Name: foodanddrink_mention, Length: 128, dtype: bool"
      ]
     },
     "execution_count": 518,
     "metadata": {},
     "output_type": "execute_result"
    }
   ],
   "source": [
    "df.foodanddrink_mention"
   ]
  },
  {
   "cell_type": "code",
   "execution_count": 519,
   "metadata": {},
   "outputs": [],
   "source": [
    "def service_mentioned(text):\n",
    "    keywords = [\"service\"]\n",
    "    text_lower = text.lower()\n",
    "    for word in keywords:\n",
    "        if word in text_lower:\n",
    "            return True\n",
    "    return False"
   ]
  },
  {
   "cell_type": "code",
   "execution_count": 520,
   "metadata": {},
   "outputs": [],
   "source": [
    "df[\"service_mention\"] = df.text.apply(service_mentioned)"
   ]
  },
  {
   "cell_type": "code",
   "execution_count": 521,
   "metadata": {},
   "outputs": [
    {
     "data": {
      "text/plain": [
       "10    False\n",
       "11    False\n",
       "12     True\n",
       "13    False\n",
       "14     True\n",
       "15     True\n",
       "16    False\n",
       "17     True\n",
       "18    False\n",
       "19     True\n",
       "20    False\n",
       "21    False\n",
       "22     True\n",
       "23     True\n",
       "24     True\n",
       "25    False\n",
       "26     True\n",
       "27     True\n",
       "28    False\n",
       "29     True\n",
       "Name: delay_mention, dtype: bool"
      ]
     },
     "execution_count": 521,
     "metadata": {},
     "output_type": "execute_result"
    }
   ],
   "source": [
    "df.iloc[10:30].delay_mention"
   ]
  },
  {
   "cell_type": "code",
   "execution_count": 522,
   "metadata": {},
   "outputs": [],
   "source": [
    "def seat_mentioned(text):\n",
    "    keywords = [\"seat\", \"seating\", \"seats\"]\n",
    "    text_lower = text.lower()\n",
    "    for word in keywords:\n",
    "        if word in text_lower:\n",
    "            return True\n",
    "    return False"
   ]
  },
  {
   "cell_type": "code",
   "execution_count": 523,
   "metadata": {},
   "outputs": [],
   "source": [
    "df[\"seat_mention\"] = df.text.apply(seat_mentioned)"
   ]
  },
  {
   "cell_type": "code",
   "execution_count": 524,
   "metadata": {},
   "outputs": [],
   "source": [
    "def checkin_mentioned(text):\n",
    "    keywords = [\"check-in\", \"check in\"]\n",
    "    text_lower = text.lower()\n",
    "    for word in keywords:\n",
    "        if word in text_lower:\n",
    "            return True\n",
    "    return False"
   ]
  },
  {
   "cell_type": "code",
   "execution_count": 525,
   "metadata": {},
   "outputs": [],
   "source": [
    "df[\"checkin_mention\"] = df.text.apply(checkin_mentioned)"
   ]
  },
  {
   "cell_type": "code",
   "execution_count": null,
   "metadata": {},
   "outputs": [],
   "source": [
    "# delay_mention =[]\n",
    "# for value in df[\"delay_mention\"]:\n",
    "#     delay_mention.append(value)\n",
    "\n",
    "# foodanddrink_mention = []\n",
    "# for value in df[\"foodanddrink_mention\"]:\n",
    "#     foodanddrink_mention.append(value)\n",
    "\n",
    "# service_mention = []\n",
    "# for value in df[\"service_mention\"]:\n",
    "#     service_mention.append(value)\n",
    "\n",
    "# seat_mention = []\n",
    "# for value in df[\"seat_mention\"]:\n",
    "#     seat_mention.append(value)\n",
    "\n",
    "# checkin_mention = []\n",
    "# for value in df[\"checkin_mention\"]:\n",
    "#     checkin_mention.append(value)"
   ]
  },
  {
   "cell_type": "code",
   "execution_count": null,
   "metadata": {},
   "outputs": [],
   "source": [
    "# df = pd.DataFrame({\n",
    "#     \"score\": scores,\n",
    "#     \"country\": countries,\n",
    "#     \"recommended\": recommendations,\n",
    "#     \"cabinflown\": cabinflowns,\n",
    "#     \"traveltype\": traveltypes,\n",
    "#     \"year\": years,\n",
    "#     \"departure_city\": departure_cities,\n",
    "#     \"delay_mention\": delay_mention,\n",
    "#     \"foodanddrink_mention\": foodanddrink_mention,\n",
    "#     \"service_mention\": service_mention,\n",
    "#     \"seat_mention\": seat_mention,\n",
    "#     \"checkin_mention\": checkin_mention,\n",
    "#     \"text\": texts\n",
    "# })"
   ]
  },
  {
   "cell_type": "code",
   "execution_count": 528,
   "metadata": {},
   "outputs": [
    {
     "data": {
      "text/html": [
       "<div>\n",
       "<style scoped>\n",
       "    .dataframe tbody tr th:only-of-type {\n",
       "        vertical-align: middle;\n",
       "    }\n",
       "\n",
       "    .dataframe tbody tr th {\n",
       "        vertical-align: top;\n",
       "    }\n",
       "\n",
       "    .dataframe thead th {\n",
       "        text-align: right;\n",
       "    }\n",
       "</style>\n",
       "<table border=\"1\" class=\"dataframe\">\n",
       "  <thead>\n",
       "    <tr style=\"text-align: right;\">\n",
       "      <th></th>\n",
       "      <th>0</th>\n",
       "      <th>1</th>\n",
       "      <th>2</th>\n",
       "      <th>3</th>\n",
       "      <th>4</th>\n",
       "      <th>5</th>\n",
       "      <th>6</th>\n",
       "      <th>7</th>\n",
       "      <th>8</th>\n",
       "      <th>9</th>\n",
       "    </tr>\n",
       "  </thead>\n",
       "  <tbody>\n",
       "    <tr>\n",
       "      <th>score</th>\n",
       "      <td>2</td>\n",
       "      <td>3</td>\n",
       "      <td>3</td>\n",
       "      <td>10</td>\n",
       "      <td>4</td>\n",
       "      <td>1</td>\n",
       "      <td>7</td>\n",
       "      <td>2</td>\n",
       "      <td>2</td>\n",
       "      <td>5</td>\n",
       "    </tr>\n",
       "    <tr>\n",
       "      <th>country</th>\n",
       "      <td>Canada</td>\n",
       "      <td>United Kingdom</td>\n",
       "      <td>Germany</td>\n",
       "      <td>Germany</td>\n",
       "      <td>Germany</td>\n",
       "      <td>United Kingdom</td>\n",
       "      <td>Germany</td>\n",
       "      <td>United Kingdom</td>\n",
       "      <td>Gibraltar</td>\n",
       "      <td>Australia</td>\n",
       "    </tr>\n",
       "    <tr>\n",
       "      <th>recommended</th>\n",
       "      <td>no</td>\n",
       "      <td>no</td>\n",
       "      <td>no</td>\n",
       "      <td>yes</td>\n",
       "      <td>no</td>\n",
       "      <td>no</td>\n",
       "      <td>yes</td>\n",
       "      <td>no</td>\n",
       "      <td>no</td>\n",
       "      <td>no</td>\n",
       "    </tr>\n",
       "    <tr>\n",
       "      <th>cabinflown</th>\n",
       "      <td>Economy</td>\n",
       "      <td>Economy</td>\n",
       "      <td>Economy</td>\n",
       "      <td>unknown</td>\n",
       "      <td>Economy</td>\n",
       "      <td>Economy</td>\n",
       "      <td>Economy</td>\n",
       "      <td>Economy</td>\n",
       "      <td>Economy</td>\n",
       "      <td>Economy</td>\n",
       "    </tr>\n",
       "    <tr>\n",
       "      <th>traveltype</th>\n",
       "      <td>Couple Leisure</td>\n",
       "      <td>Solo Leisure</td>\n",
       "      <td>Couple Leisure</td>\n",
       "      <td>Business</td>\n",
       "      <td>Business</td>\n",
       "      <td>Couple Leisure</td>\n",
       "      <td>Solo Leisure</td>\n",
       "      <td>FamilyLeisure</td>\n",
       "      <td>Business</td>\n",
       "      <td>Couple Leisure</td>\n",
       "    </tr>\n",
       "    <tr>\n",
       "      <th>year</th>\n",
       "      <td>2015</td>\n",
       "      <td>2015</td>\n",
       "      <td>2015</td>\n",
       "      <td>2015</td>\n",
       "      <td>2015</td>\n",
       "      <td>2015</td>\n",
       "      <td>2015</td>\n",
       "      <td>2015</td>\n",
       "      <td>2015</td>\n",
       "      <td>2015</td>\n",
       "    </tr>\n",
       "    <tr>\n",
       "      <th>departure_city</th>\n",
       "      <td>Stuttgart</td>\n",
       "      <td>Hamburg</td>\n",
       "      <td>Palma de Mallorca</td>\n",
       "      <td>Berlin-Tegel</td>\n",
       "      <td>Cologne/Bonn</td>\n",
       "      <td>Istanbul</td>\n",
       "      <td>Duesseldorf</td>\n",
       "      <td>Duesseldorf</td>\n",
       "      <td>Duesseldorf</td>\n",
       "      <td>Cologne/Bonn</td>\n",
       "    </tr>\n",
       "    <tr>\n",
       "      <th>delay_mention</th>\n",
       "      <td>True</td>\n",
       "      <td>False</td>\n",
       "      <td>True</td>\n",
       "      <td>True</td>\n",
       "      <td>True</td>\n",
       "      <td>True</td>\n",
       "      <td>False</td>\n",
       "      <td>True</td>\n",
       "      <td>True</td>\n",
       "      <td>False</td>\n",
       "    </tr>\n",
       "    <tr>\n",
       "      <th>foodanddrink_mention</th>\n",
       "      <td>False</td>\n",
       "      <td>True</td>\n",
       "      <td>True</td>\n",
       "      <td>False</td>\n",
       "      <td>False</td>\n",
       "      <td>False</td>\n",
       "      <td>True</td>\n",
       "      <td>False</td>\n",
       "      <td>False</td>\n",
       "      <td>True</td>\n",
       "    </tr>\n",
       "    <tr>\n",
       "      <th>service_mention</th>\n",
       "      <td>False</td>\n",
       "      <td>True</td>\n",
       "      <td>True</td>\n",
       "      <td>False</td>\n",
       "      <td>True</td>\n",
       "      <td>False</td>\n",
       "      <td>False</td>\n",
       "      <td>False</td>\n",
       "      <td>False</td>\n",
       "      <td>False</td>\n",
       "    </tr>\n",
       "    <tr>\n",
       "      <th>seat_mention</th>\n",
       "      <td>False</td>\n",
       "      <td>False</td>\n",
       "      <td>True</td>\n",
       "      <td>False</td>\n",
       "      <td>False</td>\n",
       "      <td>True</td>\n",
       "      <td>True</td>\n",
       "      <td>False</td>\n",
       "      <td>False</td>\n",
       "      <td>False</td>\n",
       "    </tr>\n",
       "    <tr>\n",
       "      <th>checkin_mention</th>\n",
       "      <td>True</td>\n",
       "      <td>False</td>\n",
       "      <td>True</td>\n",
       "      <td>False</td>\n",
       "      <td>False</td>\n",
       "      <td>False</td>\n",
       "      <td>True</td>\n",
       "      <td>True</td>\n",
       "      <td>False</td>\n",
       "      <td>False</td>\n",
       "    </tr>\n",
       "    <tr>\n",
       "      <th>text</th>\n",
       "      <td>We flew with Germanwings (or tried to) on Sept...</td>\n",
       "      <td>I am less than impressed with Germanwings serv...</td>\n",
       "      <td>Flew from Palma de Mallorca to Cologne with Ge...</td>\n",
       "      <td>Good flight from Berlin-Tegel to London Heathr...</td>\n",
       "      <td>I don't get why Germanwings is always late and...</td>\n",
       "      <td>We were delayed 5 hours in Istanbul and receiv...</td>\n",
       "      <td>Easy Check-In at Dï¿½sseldorf. The Germanwings...</td>\n",
       "      <td>Checked in at Dusseldorf for our Germanwings f...</td>\n",
       "      <td>This Germanwings flight should take off as sch...</td>\n",
       "      <td>Germanwings is a very mediocre airline. Compar...</td>\n",
       "    </tr>\n",
       "  </tbody>\n",
       "</table>\n",
       "</div>"
      ],
      "text/plain": [
       "                                                                      0  \\\n",
       "score                                                                 2   \n",
       "country                                                          Canada   \n",
       "recommended                                                          no   \n",
       "cabinflown                                                      Economy   \n",
       "traveltype                                               Couple Leisure   \n",
       "year                                                               2015   \n",
       "departure_city                                                Stuttgart   \n",
       "delay_mention                                                      True   \n",
       "foodanddrink_mention                                              False   \n",
       "service_mention                                                   False   \n",
       "seat_mention                                                      False   \n",
       "checkin_mention                                                    True   \n",
       "text                  We flew with Germanwings (or tried to) on Sept...   \n",
       "\n",
       "                                                                      1  \\\n",
       "score                                                                 3   \n",
       "country                                                  United Kingdom   \n",
       "recommended                                                          no   \n",
       "cabinflown                                                      Economy   \n",
       "traveltype                                                 Solo Leisure   \n",
       "year                                                               2015   \n",
       "departure_city                                                  Hamburg   \n",
       "delay_mention                                                     False   \n",
       "foodanddrink_mention                                               True   \n",
       "service_mention                                                    True   \n",
       "seat_mention                                                      False   \n",
       "checkin_mention                                                   False   \n",
       "text                  I am less than impressed with Germanwings serv...   \n",
       "\n",
       "                                                                      2  \\\n",
       "score                                                                 3   \n",
       "country                                                         Germany   \n",
       "recommended                                                          no   \n",
       "cabinflown                                                      Economy   \n",
       "traveltype                                               Couple Leisure   \n",
       "year                                                               2015   \n",
       "departure_city                                        Palma de Mallorca   \n",
       "delay_mention                                                      True   \n",
       "foodanddrink_mention                                               True   \n",
       "service_mention                                                    True   \n",
       "seat_mention                                                       True   \n",
       "checkin_mention                                                    True   \n",
       "text                  Flew from Palma de Mallorca to Cologne with Ge...   \n",
       "\n",
       "                                                                      3  \\\n",
       "score                                                                10   \n",
       "country                                                         Germany   \n",
       "recommended                                                         yes   \n",
       "cabinflown                                                      unknown   \n",
       "traveltype                                                     Business   \n",
       "year                                                               2015   \n",
       "departure_city                                             Berlin-Tegel   \n",
       "delay_mention                                                      True   \n",
       "foodanddrink_mention                                              False   \n",
       "service_mention                                                   False   \n",
       "seat_mention                                                      False   \n",
       "checkin_mention                                                   False   \n",
       "text                  Good flight from Berlin-Tegel to London Heathr...   \n",
       "\n",
       "                                                                      4  \\\n",
       "score                                                                 4   \n",
       "country                                                         Germany   \n",
       "recommended                                                          no   \n",
       "cabinflown                                                      Economy   \n",
       "traveltype                                                     Business   \n",
       "year                                                               2015   \n",
       "departure_city                                             Cologne/Bonn   \n",
       "delay_mention                                                      True   \n",
       "foodanddrink_mention                                              False   \n",
       "service_mention                                                    True   \n",
       "seat_mention                                                      False   \n",
       "checkin_mention                                                   False   \n",
       "text                  I don't get why Germanwings is always late and...   \n",
       "\n",
       "                                                                      5  \\\n",
       "score                                                                 1   \n",
       "country                                                  United Kingdom   \n",
       "recommended                                                          no   \n",
       "cabinflown                                                      Economy   \n",
       "traveltype                                               Couple Leisure   \n",
       "year                                                               2015   \n",
       "departure_city                                                 Istanbul   \n",
       "delay_mention                                                      True   \n",
       "foodanddrink_mention                                              False   \n",
       "service_mention                                                   False   \n",
       "seat_mention                                                       True   \n",
       "checkin_mention                                                   False   \n",
       "text                  We were delayed 5 hours in Istanbul and receiv...   \n",
       "\n",
       "                                                                      6  \\\n",
       "score                                                                 7   \n",
       "country                                                         Germany   \n",
       "recommended                                                         yes   \n",
       "cabinflown                                                      Economy   \n",
       "traveltype                                                 Solo Leisure   \n",
       "year                                                               2015   \n",
       "departure_city                                              Duesseldorf   \n",
       "delay_mention                                                     False   \n",
       "foodanddrink_mention                                               True   \n",
       "service_mention                                                   False   \n",
       "seat_mention                                                       True   \n",
       "checkin_mention                                                    True   \n",
       "text                  Easy Check-In at Dï¿½sseldorf. The Germanwings...   \n",
       "\n",
       "                                                                      7  \\\n",
       "score                                                                 2   \n",
       "country                                                  United Kingdom   \n",
       "recommended                                                          no   \n",
       "cabinflown                                                      Economy   \n",
       "traveltype                                                FamilyLeisure   \n",
       "year                                                               2015   \n",
       "departure_city                                              Duesseldorf   \n",
       "delay_mention                                                      True   \n",
       "foodanddrink_mention                                              False   \n",
       "service_mention                                                   False   \n",
       "seat_mention                                                      False   \n",
       "checkin_mention                                                    True   \n",
       "text                  Checked in at Dusseldorf for our Germanwings f...   \n",
       "\n",
       "                                                                      8  \\\n",
       "score                                                                 2   \n",
       "country                                                       Gibraltar   \n",
       "recommended                                                          no   \n",
       "cabinflown                                                      Economy   \n",
       "traveltype                                                     Business   \n",
       "year                                                               2015   \n",
       "departure_city                                              Duesseldorf   \n",
       "delay_mention                                                      True   \n",
       "foodanddrink_mention                                              False   \n",
       "service_mention                                                   False   \n",
       "seat_mention                                                      False   \n",
       "checkin_mention                                                   False   \n",
       "text                  This Germanwings flight should take off as sch...   \n",
       "\n",
       "                                                                      9  \n",
       "score                                                                 5  \n",
       "country                                                       Australia  \n",
       "recommended                                                          no  \n",
       "cabinflown                                                      Economy  \n",
       "traveltype                                               Couple Leisure  \n",
       "year                                                               2015  \n",
       "departure_city                                             Cologne/Bonn  \n",
       "delay_mention                                                     False  \n",
       "foodanddrink_mention                                               True  \n",
       "service_mention                                                   False  \n",
       "seat_mention                                                      False  \n",
       "checkin_mention                                                   False  \n",
       "text                  Germanwings is a very mediocre airline. Compar...  "
      ]
     },
     "execution_count": 528,
     "metadata": {},
     "output_type": "execute_result"
    }
   ],
   "source": [
    "df.head(10).T"
   ]
  },
  {
   "cell_type": "code",
   "execution_count": 26,
   "metadata": {},
   "outputs": [],
   "source": [
    "df.to_excel(\"data.xlsx\",index=False)\n",
    "df.to_csv(\"data.csv\",index=False)"
   ]
  },
  {
   "cell_type": "code",
   "execution_count": 7,
   "metadata": {},
   "outputs": [],
   "source": [
    "import pandas as pd"
   ]
  },
  {
   "cell_type": "code",
   "execution_count": 8,
   "metadata": {},
   "outputs": [],
   "source": [
    "df = pd.read_excel(\"data.xlsx\")"
   ]
  },
  {
   "cell_type": "code",
   "execution_count": 22,
   "metadata": {},
   "outputs": [
    {
     "name": "stdout",
     "output_type": "stream",
     "text": [
      "Couple Leisure\n",
      "Solo Leisure\n",
      "Couple Leisure\n",
      "Business\n",
      "Business\n",
      "Couple Leisure\n",
      "Solo Leisure\n",
      "FamilyLeisure\n",
      "Business\n",
      "Couple Leisure\n",
      "Business\n",
      "FamilyLeisure\n",
      "Business\n",
      "Couple Leis ure\n"
     ]
    }
   ],
   "source": [
    "df[\"traveltype_binary\"] = [get_traveltype_from_review(review) for review in reviews]"
   ]
  },
  {
   "cell_type": "code",
   "execution_count": 28,
   "metadata": {},
   "outputs": [
    {
     "data": {
      "text/plain": [
       "departure_city\n",
       "Cologne/Bonn         24\n",
       "London               13\n",
       "Hamburg              12\n",
       "London Stansted      11\n",
       "Duesseldorf           8\n",
       "Berlin                6\n",
       "Stuttgart             6\n",
       "unknown               4\n",
       "London Heathrow       4\n",
       "Manchester            4\n",
       "Prague                3\n",
       "Istanbul              2\n",
       "Brussels              2\n",
       "Dublin                2\n",
       "Munich                2\n",
       "Palma de Mallorca     2\n",
       "Vienna                2\n",
       "Bologna               2\n",
       "Germany               1\n",
       "Zagreb                1\n",
       "Strasbourg            1\n",
       "Treviso               1\n",
       "Edinburgh             1\n",
       "Ireland               1\n",
       "Dubrovnik             1\n",
       "Barcelona             1\n",
       "Split                 1\n",
       "Verona                1\n",
       "Bremen                1\n",
       "United Kingdom        1\n",
       "Budapest              1\n",
       "Birmingham            1\n",
       "Helsinki              1\n",
       "Hanover               1\n",
       "Rome                  1\n",
       "Berlin-Tegel          1\n",
       "Bucharest             1\n",
       "Name: count, dtype: int64"
      ]
     },
     "execution_count": 28,
     "metadata": {},
     "output_type": "execute_result"
    }
   ],
   "source": [
    "df.departure_city.value_counts()"
   ]
  },
  {
   "cell_type": "code",
   "execution_count": 27,
   "metadata": {},
   "outputs": [
    {
     "data": {
      "text/html": [
       "<div>\n",
       "<style scoped>\n",
       "    .dataframe tbody tr th:only-of-type {\n",
       "        vertical-align: middle;\n",
       "    }\n",
       "\n",
       "    .dataframe tbody tr th {\n",
       "        vertical-align: top;\n",
       "    }\n",
       "\n",
       "    .dataframe thead th {\n",
       "        text-align: right;\n",
       "    }\n",
       "</style>\n",
       "<table border=\"1\" class=\"dataframe\">\n",
       "  <thead>\n",
       "    <tr style=\"text-align: right;\">\n",
       "      <th></th>\n",
       "      <th>score</th>\n",
       "      <th>country</th>\n",
       "      <th>recommended</th>\n",
       "      <th>cabinflown</th>\n",
       "      <th>traveltype</th>\n",
       "      <th>year</th>\n",
       "      <th>departure_city</th>\n",
       "      <th>delay_mention</th>\n",
       "      <th>foodanddrink_mention</th>\n",
       "      <th>service_mention</th>\n",
       "      <th>seat_mention</th>\n",
       "      <th>checkin_mention</th>\n",
       "      <th>text</th>\n",
       "      <th>traveltype_binary</th>\n",
       "    </tr>\n",
       "  </thead>\n",
       "  <tbody>\n",
       "    <tr>\n",
       "      <th>0</th>\n",
       "      <td>2</td>\n",
       "      <td>Canada</td>\n",
       "      <td>no</td>\n",
       "      <td>Economy</td>\n",
       "      <td>Couple Leisure</td>\n",
       "      <td>2015</td>\n",
       "      <td>Stuttgart</td>\n",
       "      <td>True</td>\n",
       "      <td>False</td>\n",
       "      <td>False</td>\n",
       "      <td>False</td>\n",
       "      <td>True</td>\n",
       "      <td>We flew with Germanwings (or tried to) on Sept...</td>\n",
       "      <td>Leisure</td>\n",
       "    </tr>\n",
       "    <tr>\n",
       "      <th>1</th>\n",
       "      <td>3</td>\n",
       "      <td>United Kingdom</td>\n",
       "      <td>no</td>\n",
       "      <td>Economy</td>\n",
       "      <td>Solo Leisure</td>\n",
       "      <td>2015</td>\n",
       "      <td>Hamburg</td>\n",
       "      <td>False</td>\n",
       "      <td>True</td>\n",
       "      <td>True</td>\n",
       "      <td>False</td>\n",
       "      <td>False</td>\n",
       "      <td>I am less than impressed with Germanwings serv...</td>\n",
       "      <td>Leisure</td>\n",
       "    </tr>\n",
       "    <tr>\n",
       "      <th>2</th>\n",
       "      <td>3</td>\n",
       "      <td>Germany</td>\n",
       "      <td>no</td>\n",
       "      <td>Economy</td>\n",
       "      <td>Couple Leisure</td>\n",
       "      <td>2015</td>\n",
       "      <td>Palma de Mallorca</td>\n",
       "      <td>True</td>\n",
       "      <td>True</td>\n",
       "      <td>True</td>\n",
       "      <td>True</td>\n",
       "      <td>True</td>\n",
       "      <td>Flew from Palma de Mallorca to Cologne with Ge...</td>\n",
       "      <td>Leisure</td>\n",
       "    </tr>\n",
       "    <tr>\n",
       "      <th>3</th>\n",
       "      <td>10</td>\n",
       "      <td>Germany</td>\n",
       "      <td>yes</td>\n",
       "      <td>unknown</td>\n",
       "      <td>Business</td>\n",
       "      <td>2015</td>\n",
       "      <td>Berlin-Tegel</td>\n",
       "      <td>True</td>\n",
       "      <td>False</td>\n",
       "      <td>False</td>\n",
       "      <td>False</td>\n",
       "      <td>False</td>\n",
       "      <td>Good flight from Berlin-Tegel to London Heathr...</td>\n",
       "      <td>Business</td>\n",
       "    </tr>\n",
       "    <tr>\n",
       "      <th>4</th>\n",
       "      <td>4</td>\n",
       "      <td>Germany</td>\n",
       "      <td>no</td>\n",
       "      <td>Economy</td>\n",
       "      <td>Business</td>\n",
       "      <td>2015</td>\n",
       "      <td>Cologne/Bonn</td>\n",
       "      <td>True</td>\n",
       "      <td>False</td>\n",
       "      <td>True</td>\n",
       "      <td>False</td>\n",
       "      <td>False</td>\n",
       "      <td>I don't get why Germanwings is always late and...</td>\n",
       "      <td>Business</td>\n",
       "    </tr>\n",
       "  </tbody>\n",
       "</table>\n",
       "</div>"
      ],
      "text/plain": [
       "  score         country recommended cabinflown      traveltype  year  \\\n",
       "0     2          Canada          no    Economy  Couple Leisure  2015   \n",
       "1     3  United Kingdom          no    Economy    Solo Leisure  2015   \n",
       "2     3         Germany          no    Economy  Couple Leisure  2015   \n",
       "3    10         Germany         yes    unknown        Business  2015   \n",
       "4     4         Germany          no    Economy        Business  2015   \n",
       "\n",
       "      departure_city  delay_mention  foodanddrink_mention  service_mention  \\\n",
       "0          Stuttgart           True                 False            False   \n",
       "1            Hamburg          False                  True             True   \n",
       "2  Palma de Mallorca           True                  True             True   \n",
       "3       Berlin-Tegel           True                 False            False   \n",
       "4       Cologne/Bonn           True                 False             True   \n",
       "\n",
       "   seat_mention  checkin_mention  \\\n",
       "0         False             True   \n",
       "1         False            False   \n",
       "2          True             True   \n",
       "3         False            False   \n",
       "4         False            False   \n",
       "\n",
       "                                                text traveltype_binary  \n",
       "0  We flew with Germanwings (or tried to) on Sept...           Leisure  \n",
       "1  I am less than impressed with Germanwings serv...           Leisure  \n",
       "2  Flew from Palma de Mallorca to Cologne with Ge...           Leisure  \n",
       "3  Good flight from Berlin-Tegel to London Heathr...          Business  \n",
       "4  I don't get why Germanwings is always late and...          Business  "
      ]
     },
     "execution_count": 27,
     "metadata": {},
     "output_type": "execute_result"
    }
   ],
   "source": [
    "df.head()"
   ]
  },
  {
   "cell_type": "code",
   "execution_count": null,
   "metadata": {},
   "outputs": [],
   "source": []
  }
 ],
 "metadata": {
  "kernelspec": {
   "display_name": "base",
   "language": "python",
   "name": "python3"
  },
  "language_info": {
   "codemirror_mode": {
    "name": "ipython",
    "version": 3
   },
   "file_extension": ".py",
   "mimetype": "text/x-python",
   "name": "python",
   "nbconvert_exporter": "python",
   "pygments_lexer": "ipython3",
   "version": "3.11.8"
  }
 },
 "nbformat": 4,
 "nbformat_minor": 2
}
