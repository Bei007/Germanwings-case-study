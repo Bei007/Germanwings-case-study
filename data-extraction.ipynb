{
 "cells": [
  {
   "cell_type": "markdown",
   "metadata": {},
   "source": [
    "# Data Extraction Pipeline\n",
    "\n",
    "> processing pipeline with documentation"
   ]
  },
  {
   "cell_type": "markdown",
   "metadata": {},
   "source": [
    "## 1. Imports"
   ]
  },
  {
   "cell_type": "code",
   "execution_count": 3,
   "metadata": {},
   "outputs": [],
   "source": [
    "import numpy as np\n",
    "import pandas as pd\n",
    "import re\n",
    "from pathlib import Path"
   ]
  },
  {
   "cell_type": "markdown",
   "metadata": {},
   "source": [
    "## 2. Reading Data from file"
   ]
  },
  {
   "cell_type": "code",
   "execution_count": 4,
   "metadata": {},
   "outputs": [],
   "source": [
    "data = (Path().cwd() / \"4U_Reviews.txt\").read_text(encoding=\"latin-1\")\n"
   ]
  },
  {
   "cell_type": "code",
   "execution_count": 5,
   "metadata": {},
   "outputs": [
    {
     "data": {
      "text/plain": [
       "'\"they have been unresponsive\"\\nBrian McNamee (Canada) 16th October 2015\\n2\\nWe flew with Germanwings (o'"
      ]
     },
     "execution_count": 5,
     "metadata": {},
     "output_type": "execute_result"
    }
   ],
   "source": [
    "data[:100]"
   ]
  },
  {
   "cell_type": "markdown",
   "metadata": {},
   "source": [
    "## 3. Data Exploration & Transformation\n",
    "\n",
    ">The data is not structured, but one single string. We can bring it into a structured format by splitting on \"\\n\\n\""
   ]
  },
  {
   "cell_type": "code",
   "execution_count": 8,
   "metadata": {},
   "outputs": [
    {
     "name": "stdout",
     "output_type": "stream",
     "text": [
      "\"they have been unresponsive\"\n",
      "Brian McNamee (Canada) 16th October 2015\n",
      "2\n",
      "We flew with Germanwings (or tried to) on September 30th. After two lengthy delays passengers were notified that the flight was cancelled and to return to the check-in counter for further information. After waiting at the counter for another 30 minutes or so, staff began issuing refunds or providing alternate travel options to passengers. By this point it was quite late in the evening with limited options (plus we were 5+ hours after planned departure). We managed to get a voucher with 3 other passenger to get a flight from Stuttgart to Zurich with an ongoing connection to Amsterdam (flights were with Swiss). We made the flight and the connector (which was held back waiting for about 70 of us) however luggage did not make it. Short of this is the airline was ill-prepared to manage this. They offered little information or options to passengers. since returning home I have been attempting to contact them via email and phone calls to discuss compensation per passenger rights brochure and they have been unresponsive. Not a good way to run a business.\n",
      "Type Of Traveller\tCouple Leisure\n",
      "Cabin Flown\tEconomy\n",
      "Route\tStuttgart to Amsterdam\n",
      "Date Flown\tSeptember 2015\n",
      "Seat Comfort\t12345\n",
      "Cabin Staff Service\t12345\n",
      "Ground Service\t12345\n",
      "Value For Money\t12345\n",
      "Recommended\tno\n"
     ]
    }
   ],
   "source": [
    "print(data.split(\"\\n\\n\")[0])"
   ]
  },
  {
   "cell_type": "code",
   "execution_count": 7,
   "metadata": {},
   "outputs": [],
   "source": [
    "reviews = data.strip().split(\"\\n\\n\")"
   ]
  },
  {
   "cell_type": "code",
   "execution_count": 9,
   "metadata": {},
   "outputs": [
    {
     "data": {
      "text/plain": [
       "(list, 128)"
      ]
     },
     "execution_count": 9,
     "metadata": {},
     "output_type": "execute_result"
    }
   ],
   "source": [
    "type(reviews), len(reviews)"
   ]
  },
  {
   "cell_type": "code",
   "execution_count": 10,
   "metadata": {},
   "outputs": [
    {
     "data": {
      "text/plain": [
       "('\"they have been unresponsive\"',\n",
       " 'Brian McNamee (Canada) 16th October 2015',\n",
       " '2')"
      ]
     },
     "execution_count": 10,
     "metadata": {},
     "output_type": "execute_result"
    }
   ],
   "source": [
    "rev_arr = reviews[0].split(\"\\n\")\n",
    "rev_arr\n",
    "\n",
    "title = rev_arr[0]\n",
    "name_country_date = rev_arr[1]\n",
    "score = rev_arr[2]\n",
    "\n",
    "\n",
    "title, name_country_date, score"
   ]
  },
  {
   "cell_type": "code",
   "execution_count": 20,
   "metadata": {},
   "outputs": [
    {
     "data": {
      "text/plain": [
       "'Brian McNamee (Canada) 16th October 2015'"
      ]
     },
     "execution_count": 20,
     "metadata": {},
     "output_type": "execute_result"
    }
   ],
   "source": [
    "name_country_date"
   ]
  },
  {
   "cell_type": "code",
   "execution_count": 21,
   "metadata": {},
   "outputs": [
    {
     "data": {
      "text/plain": [
       "'Canada'"
      ]
     },
     "execution_count": 21,
     "metadata": {},
     "output_type": "execute_result"
    }
   ],
   "source": [
    "name_country_date.split(\"(\")[1].split(\")\")[0]\n",
    "\n"
   ]
  },
  {
   "cell_type": "markdown",
   "metadata": {},
   "source": [
    "## 4. Data extraction \n",
    "> Writing individual function for feature extraction"
   ]
  },
  {
   "cell_type": "code",
   "execution_count": null,
   "metadata": {},
   "outputs": [],
   "source": [
    "def get_score_from_review(review):\n",
    "    \"\"\"\n",
    "    Extract the score from a review\n",
    "    \"\"\"\n",
    "    split_review = review.split(\"\\n\")\n",
    "    score = split_review[2]\n",
    "    return int(score) if score!=\"na\" else score"
   ]
  },
  {
   "cell_type": "code",
   "execution_count": null,
   "metadata": {},
   "outputs": [],
   "source": [
    "def get_country_from_review(review):\n",
    "    \"\"\"\n",
    "    Extract the country from a review\n",
    "    \"\"\"\n",
    "    try:\n",
    "        split_review = review.split(\"\\n\")\n",
    "        country = split_review[1].split(\"(\")[1].split(\")\")[0]\n",
    "        return country\n",
    "    except:\n",
    "        return \"unknown\"\n",
    "    "
   ]
  },
  {
   "cell_type": "code",
   "execution_count": null,
   "metadata": {},
   "outputs": [],
   "source": [
    "def get_recommendation_from_review(review):\n",
    "    \"\"\"\n",
    "    Extract the recommended from a review\n",
    "    \"\"\"\n",
    "    try:\n",
    "        split_review = review.split(\"\\n\")\n",
    "        for split in split_review:\n",
    "            if split.startswith(\"Recommended\"):\n",
    "                recommended = split.split(\"\\t\")[1]\n",
    "                return recommended\n",
    "        return \"na\"\n",
    "    except:\n",
    "        return \"na\""
   ]
  },
  {
   "cell_type": "code",
   "execution_count": null,
   "metadata": {},
   "outputs": [],
   "source": [
    "def get_cabinflown_from_review(review):\n",
    "    \"\"\"\n",
    "    Extract the cabin flown from a review\n",
    "    \"\"\"\n",
    "    try:\n",
    "        split_review = review.split(\"\\n\")\n",
    "        for split in split_review:\n",
    "            if split.startswith(\"Cabin Flown\"):  \n",
    "               cabinflown = split.split(\"\\t\")[1].strip()  \n",
    "               return cabinflown  \n",
    "        return \"unknown\"\n",
    "    except Exception as error:\n",
    "        print(f\"Error processing review: {error}\")\n",
    "        return \"unknown\"\n",
    "                \n",
    "       \n",
    "  "
   ]
  },
  {
   "cell_type": "code",
   "execution_count": 48,
   "metadata": {},
   "outputs": [],
   "source": [
    "def get_traveltype_from_review(review):\n",
    "    \"\"\"\n",
    "    Extract the type of travel from a review\n",
    "    \"\"\"\n",
    "    try:\n",
    "        split_review = review.split(\"\\n\")\n",
    "        for split in split_review:\n",
    "            if split.startswith(\"Type Of Traveller\"):  \n",
    "                traveltype = split.split(\"\\t\")[1].strip()\n",
    "                #print(traveltype)\n",
    "                if traveltype == \"Business\":\n",
    "                    return traveltype\n",
    "                else:\n",
    "                    traveltype = \"Leisure\"\n",
    "                    return traveltype\n",
    "        return \"unknown\"\n",
    "    except:\n",
    "        return \"unknown\"\n"
   ]
  },
  {
   "cell_type": "code",
   "execution_count": 27,
   "metadata": {},
   "outputs": [],
   "source": [
    "def get_text_from_review(review):\n",
    "    split_review = review.split(\"\\n\")\n",
    "    text = split_review[3]\n",
    "    return text"
   ]
  },
  {
   "cell_type": "code",
   "execution_count": 28,
   "metadata": {},
   "outputs": [],
   "source": [
    "def get_year_from_review(review):\n",
    "    try:\n",
    "        split_review = review.split(\"\\n\")\n",
    "        year = split_review[1].split(\" \")[-1]\n",
    "        return int(year)\n",
    "    except:\n",
    "        return \"unknown\""
   ]
  },
  {
   "cell_type": "code",
   "execution_count": 29,
   "metadata": {},
   "outputs": [
    {
     "name": "stdout",
     "output_type": "stream",
     "text": [
      "Couple Leisure\n",
      "Solo Leisure\n",
      "Couple Leisure\n",
      "Business\n",
      "Business\n",
      "Couple Leisure\n",
      "Solo Leisure\n",
      "FamilyLeisure\n",
      "Business\n",
      "Couple Leisure\n",
      "Business\n",
      "FamilyLeisure\n",
      "Business\n",
      "Couple Leis ure\n"
     ]
    }
   ],
   "source": [
    "scores = []\n",
    "countries = []\n",
    "recommendations = []\n",
    "cabinflowns = []\n",
    "traveltypes = []\n",
    "texts = []\n",
    "years = []\n",
    "\n",
    "for review in reviews:\n",
    "    score = get_score_from_review(review)\n",
    "    scores.append(score)\n",
    "\n",
    "    country = get_country_from_review(review)\n",
    "    countries.append(country)\n",
    "\n",
    "    recommended = get_recommendation_from_review(review)\n",
    "    recommendations.append(recommended)\n",
    "    \n",
    "    cabinflown = get_cabinflown_from_review(review)\n",
    "    cabinflowns.append(cabinflown)\n",
    "\n",
    "    traveltype = get_traveltype_from_review(review)\n",
    "    traveltypes.append(traveltype)\n",
    "\n",
    "    text = get_text_from_review(review)\n",
    "    texts.append(text)\n",
    "\n",
    "    year = get_year_from_review(review)\n",
    "    years.append(year)"
   ]
  },
  {
   "cell_type": "code",
   "execution_count": 30,
   "metadata": {},
   "outputs": [],
   "source": [
    "df = pd.DataFrame({\"score\": scores,\n",
    "                   \"country\": countries,\n",
    "                   \"recommended\": recommendations,\n",
    "                   \"cabinflown\": cabinflowns,\n",
    "                   \"traveltype\": traveltypes,\n",
    "                   \"text\": texts,\n",
    "                   \"year\": years\n",
    "                   })"
   ]
  },
  {
   "cell_type": "code",
   "execution_count": 31,
   "metadata": {},
   "outputs": [
    {
     "data": {
      "text/html": [
       "<div>\n",
       "<style scoped>\n",
       "    .dataframe tbody tr th:only-of-type {\n",
       "        vertical-align: middle;\n",
       "    }\n",
       "\n",
       "    .dataframe tbody tr th {\n",
       "        vertical-align: top;\n",
       "    }\n",
       "\n",
       "    .dataframe thead th {\n",
       "        text-align: right;\n",
       "    }\n",
       "</style>\n",
       "<table border=\"1\" class=\"dataframe\">\n",
       "  <thead>\n",
       "    <tr style=\"text-align: right;\">\n",
       "      <th></th>\n",
       "      <th>score</th>\n",
       "      <th>country</th>\n",
       "      <th>recommended</th>\n",
       "      <th>cabinflown</th>\n",
       "      <th>traveltype</th>\n",
       "      <th>text</th>\n",
       "      <th>year</th>\n",
       "    </tr>\n",
       "  </thead>\n",
       "  <tbody>\n",
       "    <tr>\n",
       "      <th>0</th>\n",
       "      <td>2</td>\n",
       "      <td>Canada</td>\n",
       "      <td>no</td>\n",
       "      <td>Economy</td>\n",
       "      <td>Leisure</td>\n",
       "      <td>We flew with Germanwings (or tried to) on Sept...</td>\n",
       "      <td>2015</td>\n",
       "    </tr>\n",
       "    <tr>\n",
       "      <th>1</th>\n",
       "      <td>3</td>\n",
       "      <td>United Kingdom</td>\n",
       "      <td>no</td>\n",
       "      <td>Economy</td>\n",
       "      <td>Leisure</td>\n",
       "      <td>I am less than impressed with Germanwings serv...</td>\n",
       "      <td>2015</td>\n",
       "    </tr>\n",
       "    <tr>\n",
       "      <th>2</th>\n",
       "      <td>3</td>\n",
       "      <td>Germany</td>\n",
       "      <td>no</td>\n",
       "      <td>Economy</td>\n",
       "      <td>Leisure</td>\n",
       "      <td>Flew from Palma de Mallorca to Cologne with Ge...</td>\n",
       "      <td>2015</td>\n",
       "    </tr>\n",
       "    <tr>\n",
       "      <th>3</th>\n",
       "      <td>10</td>\n",
       "      <td>Germany</td>\n",
       "      <td>yes</td>\n",
       "      <td>unknown</td>\n",
       "      <td>Business</td>\n",
       "      <td>Good flight from Berlin-Tegel to London Heathr...</td>\n",
       "      <td>2015</td>\n",
       "    </tr>\n",
       "    <tr>\n",
       "      <th>4</th>\n",
       "      <td>4</td>\n",
       "      <td>Germany</td>\n",
       "      <td>no</td>\n",
       "      <td>Economy</td>\n",
       "      <td>Business</td>\n",
       "      <td>I don't get why Germanwings is always late and...</td>\n",
       "      <td>2015</td>\n",
       "    </tr>\n",
       "  </tbody>\n",
       "</table>\n",
       "</div>"
      ],
      "text/plain": [
       "  score         country recommended cabinflown traveltype  \\\n",
       "0     2          Canada          no    Economy    Leisure   \n",
       "1     3  United Kingdom          no    Economy    Leisure   \n",
       "2     3         Germany          no    Economy    Leisure   \n",
       "3    10         Germany         yes    unknown   Business   \n",
       "4     4         Germany          no    Economy   Business   \n",
       "\n",
       "                                                text  year  \n",
       "0  We flew with Germanwings (or tried to) on Sept...  2015  \n",
       "1  I am less than impressed with Germanwings serv...  2015  \n",
       "2  Flew from Palma de Mallorca to Cologne with Ge...  2015  \n",
       "3  Good flight from Berlin-Tegel to London Heathr...  2015  \n",
       "4  I don't get why Germanwings is always late and...  2015  "
      ]
     },
     "execution_count": 31,
     "metadata": {},
     "output_type": "execute_result"
    }
   ],
   "source": [
    "df.head(5)"
   ]
  },
  {
   "cell_type": "code",
   "execution_count": 32,
   "metadata": {},
   "outputs": [
    {
     "data": {
      "text/plain": [
       "score\n",
       "4     15\n",
       "2     14\n",
       "9     14\n",
       "3     13\n",
       "5     13\n",
       "na    13\n",
       "10    12\n",
       "7     11\n",
       "8     11\n",
       "1      7\n",
       "6      5\n",
       "Name: count, dtype: int64"
      ]
     },
     "execution_count": 32,
     "metadata": {},
     "output_type": "execute_result"
    }
   ],
   "source": [
    "df.score.value_counts()"
   ]
  },
  {
   "cell_type": "code",
   "execution_count": 33,
   "metadata": {},
   "outputs": [
    {
     "data": {
      "text/plain": [
       "year\n",
       "2014    27\n",
       "2013    24\n",
       "2015    23\n",
       "2012    17\n",
       "2010    13\n",
       "2011    10\n",
       "2009     7\n",
       "2008     7\n",
       "Name: count, dtype: int64"
      ]
     },
     "execution_count": 33,
     "metadata": {},
     "output_type": "execute_result"
    }
   ],
   "source": [
    "df.year.value_counts()"
   ]
  },
  {
   "cell_type": "code",
   "execution_count": 34,
   "metadata": {},
   "outputs": [
    {
     "data": {
      "text/plain": [
       "recommended\n",
       "no     66\n",
       "yes    62\n",
       "Name: count, dtype: int64"
      ]
     },
     "execution_count": 34,
     "metadata": {},
     "output_type": "execute_result"
    }
   ],
   "source": [
    "df.recommended.value_counts()"
   ]
  },
  {
   "cell_type": "code",
   "execution_count": 35,
   "metadata": {},
   "outputs": [
    {
     "data": {
      "text/plain": [
       "cabinflown\n",
       "Economy        113\n",
       "unknown         14\n",
       "First Class      1\n",
       "Name: count, dtype: int64"
      ]
     },
     "execution_count": 35,
     "metadata": {},
     "output_type": "execute_result"
    }
   ],
   "source": [
    "df.cabinflown.value_counts()"
   ]
  },
  {
   "cell_type": "code",
   "execution_count": 36,
   "metadata": {},
   "outputs": [
    {
     "data": {
      "text/plain": [
       "traveltype\n",
       "unknown     114\n",
       "Leisure       9\n",
       "Business      5\n",
       "Name: count, dtype: int64"
      ]
     },
     "execution_count": 36,
     "metadata": {},
     "output_type": "execute_result"
    }
   ],
   "source": [
    "df.traveltype.value_counts()"
   ]
  },
  {
   "cell_type": "code",
   "execution_count": 37,
   "metadata": {},
   "outputs": [],
   "source": [
    "df.to_excel(\"data.xlsx\")\n",
    "df.to_csv(\"data.csv\")"
   ]
  },
  {
   "cell_type": "markdown",
   "metadata": {},
   "source": [
    "## 5. Extract data for word cloud\n",
    "> Creating a Dataframe to get the word frequency for word cloud"
   ]
  },
  {
   "cell_type": "code",
   "execution_count": 38,
   "metadata": {},
   "outputs": [],
   "source": [
    "df_clean = df[df.score!=\"na\"].copy()\n",
    "df_bad = df_clean[df_clean.score<5]\n",
    "df_good = df_clean[df_clean.score>=6]\n"
   ]
  },
  {
   "cell_type": "code",
   "execution_count": 39,
   "metadata": {},
   "outputs": [
    {
     "data": {
      "text/plain": [
       "score\n",
       "9     14\n",
       "10    12\n",
       "7     11\n",
       "8     11\n",
       "6      5\n",
       "Name: count, dtype: int64"
      ]
     },
     "execution_count": 39,
     "metadata": {},
     "output_type": "execute_result"
    }
   ],
   "source": [
    "df_good.score.value_counts()\n"
   ]
  },
  {
   "cell_type": "code",
   "execution_count": 40,
   "metadata": {},
   "outputs": [],
   "source": [
    "list_of_words = \" \".join(df_good.text.values).replace(\",\", \"\").replace(\".\", \"\").replace('\"', \"\").replace(\"!\", \"\").replace(\"!\", \"\").split(\" \")"
   ]
  },
  {
   "cell_type": "code",
   "execution_count": 41,
   "metadata": {},
   "outputs": [],
   "source": [
    "df_words = pd.DataFrame({\"words\": [x for x in list_of_words if len(x)>3]})"
   ]
  },
  {
   "cell_type": "code",
   "execution_count": 43,
   "metadata": {},
   "outputs": [],
   "source": [
    "words_filtered = df_words.words.value_counts().index.values\n",
    "\n",
    "frequencies = df_words.words.value_counts().values"
   ]
  },
  {
   "cell_type": "code",
   "execution_count": 44,
   "metadata": {},
   "outputs": [],
   "source": [
    "wc_df_good = pd.DataFrame({\"words\": words_filtered, \"frequencies\": frequencies})"
   ]
  },
  {
   "cell_type": "code",
   "execution_count": 130,
   "metadata": {},
   "outputs": [
    {
     "data": {
      "text/html": [
       "<div>\n",
       "<style scoped>\n",
       "    .dataframe tbody tr th:only-of-type {\n",
       "        vertical-align: middle;\n",
       "    }\n",
       "\n",
       "    .dataframe tbody tr th {\n",
       "        vertical-align: top;\n",
       "    }\n",
       "\n",
       "    .dataframe thead th {\n",
       "        text-align: right;\n",
       "    }\n",
       "</style>\n",
       "<table border=\"1\" class=\"dataframe\">\n",
       "  <thead>\n",
       "    <tr style=\"text-align: right;\">\n",
       "      <th></th>\n",
       "      <th>words</th>\n",
       "      <th>frequencies</th>\n",
       "    </tr>\n",
       "  </thead>\n",
       "  <tbody>\n",
       "    <tr>\n",
       "      <th>0</th>\n",
       "      <td>flight</td>\n",
       "      <td>49</td>\n",
       "    </tr>\n",
       "    <tr>\n",
       "      <th>1</th>\n",
       "      <td>time</td>\n",
       "      <td>37</td>\n",
       "    </tr>\n",
       "    <tr>\n",
       "      <th>2</th>\n",
       "      <td>were</td>\n",
       "      <td>36</td>\n",
       "    </tr>\n",
       "  </tbody>\n",
       "</table>\n",
       "</div>"
      ],
      "text/plain": [
       "    words  frequencies\n",
       "0  flight           49\n",
       "1    time           37\n",
       "2    were           36"
      ]
     },
     "execution_count": 130,
     "metadata": {},
     "output_type": "execute_result"
    }
   ],
   "source": [
    "wc_df_good.head(3)"
   ]
  },
  {
   "cell_type": "code",
   "execution_count": 131,
   "metadata": {},
   "outputs": [],
   "source": [
    "wc_df_good.to_excel(\"wc_good.xlsx\")\n",
    "wc_df_good.to_csv(\"wc_good.csv\")"
   ]
  },
  {
   "cell_type": "code",
   "execution_count": 132,
   "metadata": {},
   "outputs": [
    {
     "data": {
      "text/plain": [
       "score\n",
       "4    15\n",
       "2    14\n",
       "3    13\n",
       "1     7\n",
       "Name: count, dtype: int64"
      ]
     },
     "execution_count": 132,
     "metadata": {},
     "output_type": "execute_result"
    }
   ],
   "source": [
    "df_bad.score.value_counts()"
   ]
  },
  {
   "cell_type": "code",
   "execution_count": 133,
   "metadata": {},
   "outputs": [],
   "source": [
    "list_of_words = \" \".join(df_bad.text.values).replace(\",\", \"\").replace(\".\", \"\").replace('\"', \"\").replace(\"!\", \"\").replace(\"!\", \"\").split(\" \")"
   ]
  },
  {
   "cell_type": "code",
   "execution_count": 134,
   "metadata": {},
   "outputs": [],
   "source": [
    "df_words = pd.DataFrame({\"words\": [x for x in list_of_words if len(x)>3]})"
   ]
  },
  {
   "cell_type": "code",
   "execution_count": 135,
   "metadata": {},
   "outputs": [],
   "source": [
    "words_filtered = df_words.words.value_counts().index.values\n",
    "\n",
    "frequencies = df_words.words.value_counts().values"
   ]
  },
  {
   "cell_type": "code",
   "execution_count": 136,
   "metadata": {},
   "outputs": [],
   "source": [
    "wc_df_bad = pd.DataFrame({\"words\": words_filtered, \"frequencies\": frequencies})"
   ]
  },
  {
   "cell_type": "code",
   "execution_count": 137,
   "metadata": {},
   "outputs": [
    {
     "data": {
      "text/html": [
       "<div>\n",
       "<style scoped>\n",
       "    .dataframe tbody tr th:only-of-type {\n",
       "        vertical-align: middle;\n",
       "    }\n",
       "\n",
       "    .dataframe tbody tr th {\n",
       "        vertical-align: top;\n",
       "    }\n",
       "\n",
       "    .dataframe thead th {\n",
       "        text-align: right;\n",
       "    }\n",
       "</style>\n",
       "<table border=\"1\" class=\"dataframe\">\n",
       "  <thead>\n",
       "    <tr style=\"text-align: right;\">\n",
       "      <th></th>\n",
       "      <th>words</th>\n",
       "      <th>frequencies</th>\n",
       "    </tr>\n",
       "  </thead>\n",
       "  <tbody>\n",
       "    <tr>\n",
       "      <th>0</th>\n",
       "      <td>flight</td>\n",
       "      <td>69</td>\n",
       "    </tr>\n",
       "    <tr>\n",
       "      <th>1</th>\n",
       "      <td>with</td>\n",
       "      <td>53</td>\n",
       "    </tr>\n",
       "    <tr>\n",
       "      <th>2</th>\n",
       "      <td>were</td>\n",
       "      <td>43</td>\n",
       "    </tr>\n",
       "    <tr>\n",
       "      <th>3</th>\n",
       "      <td>Germanwings</td>\n",
       "      <td>42</td>\n",
       "    </tr>\n",
       "    <tr>\n",
       "      <th>4</th>\n",
       "      <td>from</td>\n",
       "      <td>38</td>\n",
       "    </tr>\n",
       "    <tr>\n",
       "      <th>5</th>\n",
       "      <td>that</td>\n",
       "      <td>35</td>\n",
       "    </tr>\n",
       "    <tr>\n",
       "      <th>6</th>\n",
       "      <td>late</td>\n",
       "      <td>24</td>\n",
       "    </tr>\n",
       "    <tr>\n",
       "      <th>7</th>\n",
       "      <td>have</td>\n",
       "      <td>24</td>\n",
       "    </tr>\n",
       "    <tr>\n",
       "      <th>8</th>\n",
       "      <td>this</td>\n",
       "      <td>24</td>\n",
       "    </tr>\n",
       "    <tr>\n",
       "      <th>9</th>\n",
       "      <td>time</td>\n",
       "      <td>24</td>\n",
       "    </tr>\n",
       "    <tr>\n",
       "      <th>10</th>\n",
       "      <td>they</td>\n",
       "      <td>22</td>\n",
       "    </tr>\n",
       "    <tr>\n",
       "      <th>11</th>\n",
       "      <td>minutes</td>\n",
       "      <td>22</td>\n",
       "    </tr>\n",
       "    <tr>\n",
       "      <th>12</th>\n",
       "      <td>passengers</td>\n",
       "      <td>21</td>\n",
       "    </tr>\n",
       "    <tr>\n",
       "      <th>13</th>\n",
       "      <td>Lufthansa</td>\n",
       "      <td>20</td>\n",
       "    </tr>\n",
       "    <tr>\n",
       "      <th>14</th>\n",
       "      <td>service</td>\n",
       "      <td>20</td>\n",
       "    </tr>\n",
       "    <tr>\n",
       "      <th>15</th>\n",
       "      <td>crew</td>\n",
       "      <td>17</td>\n",
       "    </tr>\n",
       "    <tr>\n",
       "      <th>16</th>\n",
       "      <td>flights</td>\n",
       "      <td>16</td>\n",
       "    </tr>\n",
       "    <tr>\n",
       "      <th>17</th>\n",
       "      <td>seat</td>\n",
       "      <td>16</td>\n",
       "    </tr>\n",
       "    <tr>\n",
       "      <th>18</th>\n",
       "      <td>Cologne</td>\n",
       "      <td>16</td>\n",
       "    </tr>\n",
       "    <tr>\n",
       "      <th>19</th>\n",
       "      <td>very</td>\n",
       "      <td>15</td>\n",
       "    </tr>\n",
       "  </tbody>\n",
       "</table>\n",
       "</div>"
      ],
      "text/plain": [
       "          words  frequencies\n",
       "0        flight           69\n",
       "1          with           53\n",
       "2          were           43\n",
       "3   Germanwings           42\n",
       "4          from           38\n",
       "5          that           35\n",
       "6          late           24\n",
       "7          have           24\n",
       "8          this           24\n",
       "9          time           24\n",
       "10         they           22\n",
       "11      minutes           22\n",
       "12   passengers           21\n",
       "13    Lufthansa           20\n",
       "14      service           20\n",
       "15         crew           17\n",
       "16      flights           16\n",
       "17         seat           16\n",
       "18      Cologne           16\n",
       "19         very           15"
      ]
     },
     "execution_count": 137,
     "metadata": {},
     "output_type": "execute_result"
    }
   ],
   "source": [
    "wc_df_bad.head(20)"
   ]
  },
  {
   "cell_type": "code",
   "execution_count": 138,
   "metadata": {},
   "outputs": [],
   "source": [
    "wc_df_bad.to_excel(\"wc_bad.xlsx\")\n",
    "wc_df_bad.to_csv(\"wc_bad.csv\")"
   ]
  },
  {
   "cell_type": "markdown",
   "metadata": {},
   "source": [
    "## 6. Extract route information\n",
    "\n",
    "> Using a local language model to extract the route information from review"
   ]
  },
  {
   "cell_type": "code",
   "execution_count": 139,
   "metadata": {},
   "outputs": [],
   "source": [
    "\n",
    "BASE_PROMPT =   \"\"\"\n",
    "                /nothinking\n",
    "\n",
    "                I'll give you a review for an airline. Do the following:\n",
    "                Scan the review for information on the route that the customer took, like Hamburg to Cologne, HAM-LHR etc. If there is route information return the information as a python dictionary where the key represents the airport code and the value represents the real city name.\n",
    "                {\"HAM\": \"Hamburg\", \"JFK\": \"New York City\"}\n",
    "\n",
    "                review:\n",
    "                \"\"\"\n",
    "FULL_PROMPT = BASE_PROMPT + \"\\n\" + reviews[99]\n",
    "\n",
    "    \n",
    "    \n"
   ]
  },
  {
   "cell_type": "code",
   "execution_count": 140,
   "metadata": {},
   "outputs": [],
   "source": [
    "import requests\n",
    "base_url = \"http://127.0.0.1:1234\"\n",
    "\n",
    "# Define the full endpoint path (v1/models)\n",
    "endpoint = \"/v1/models\"\n",
    "\n",
    "# Construct the full URL\n",
    "url = base_url + endpoint\n",
    "\n",
    "# Set headers to mimic an OpenAI API request (optional, but good practice)\n",
    "headers = {\n",
    "    \"Authorization\": \"lmstudio\",  # Replace with your actual API key if needed\n",
    "    \"Content-Type\": \"application/json\"\n",
    "}\n",
    "\n",
    "# Make the GET request to list models\n",
    "response = requests.get(url, headers=headers)"
   ]
  },
  {
   "cell_type": "code",
   "execution_count": 141,
   "metadata": {},
   "outputs": [],
   "source": [
    "from openai import OpenAI\n",
    "\n",
    "\n",
    "def query_lmstudio(prompt: str, url: str = \"http://localhost:1234/v1\"):\n",
    "    # Create OpenAI client pointing to LM Studio\n",
    "    client = OpenAI(\n",
    "        base_url=url,\n",
    "        api_key=\"lm-studio\"  # Dummy key required by SDK, ignored by LM Studio\n",
    "    )\n",
    "    try:\n",
    "        response = client.chat.completions.create(\n",
    "            model=\"google/gemma-3-4b\",  # Replace with your LM Studio model name\n",
    "            messages=[\n",
    "                {\"role\": \"user\", \"content\": prompt}\n",
    "            ],\n",
    "        )\n",
    "        return response.choices[0].message.content\n",
    "    except Exception as e:\n",
    "        return f\"Error: {e}\""
   ]
  },
  {
   "cell_type": "code",
   "execution_count": 142,
   "metadata": {},
   "outputs": [],
   "source": [
    "from tqdm import tqdm\n",
    "\n",
    "BASE_PROMPT =   \"\"\"\n",
    "                Task: Extract the flight route from the following review.\n",
    "                Identify all cities in the text that were part of the flight route.\n",
    "\n",
    "\n",
    "                \n",
    "                Do not guess if the code is missing or ambiguous.\n",
    "                Example Review:\n",
    "                \"Flew from Hamburg to Berlin and back. Great experience overall!\"\n",
    "                Expected Output:\n",
    "                [\"Hamburg\", \"Berlin\"]\n",
    "\n",
    "                RETURN ONLY AN ARRAY OF CITIES. DONT WRITE ANY CODE\n",
    "\n",
    "                here is the review:\n",
    "                \n",
    "                \"\"\""
   ]
  },
  {
   "cell_type": "code",
   "execution_count": 143,
   "metadata": {},
   "outputs": [],
   "source": [
    "import re\n",
    "\n",
    "def extract_iata_codes(text):\n",
    "    # Match patterns like \"LHR\", \"JFK\", etc. (three uppercase letters)\n",
    "    return re.findall(r'\\b[A-Z]{3}\\b', text)"
   ]
  },
  {
   "cell_type": "code",
   "execution_count": 144,
   "metadata": {},
   "outputs": [
    {
     "data": {
      "text/plain": [
       "['STR', 'LIS', 'STR']"
      ]
     },
     "execution_count": 144,
     "metadata": {},
     "output_type": "execute_result"
    }
   ],
   "source": [
    "extract_iata_codes(reviews[122])"
   ]
  },
  {
   "cell_type": "code",
   "execution_count": 145,
   "metadata": {},
   "outputs": [],
   "source": [
    "code_mapping = pd.read_excel(\"airport_codes.xlsx\")"
   ]
  },
  {
   "cell_type": "code",
   "execution_count": 146,
   "metadata": {},
   "outputs": [],
   "source": [
    "codes = code_mapping.code.values\n",
    "cities = code_mapping.city.values"
   ]
  },
  {
   "cell_type": "code",
   "execution_count": 147,
   "metadata": {},
   "outputs": [],
   "source": [
    "mapping = {}\n",
    "\n",
    "for i in range(len(codes)):\n",
    "    mapping[codes[i]] = cities[i]"
   ]
  },
  {
   "cell_type": "code",
   "execution_count": 148,
   "metadata": {},
   "outputs": [],
   "source": [
    "def replace_airport_codes_in_text(text):\n",
    "    codes_found = extract_iata_codes(text=text)\n",
    "    for code in codes_found:\n",
    "        try:\n",
    "            text = text.replace(code, mapping[code])\n",
    "        except:\n",
    "            print(f\"there was an error with {code}\")\n",
    "    return text"
   ]
  },
  {
   "cell_type": "code",
   "execution_count": 149,
   "metadata": {},
   "outputs": [
    {
     "name": "stderr",
     "output_type": "stream",
     "text": [
      "  2%|▏         | 2/128 [00:07<07:24,  3.53s/it]"
     ]
    },
    {
     "name": "stdout",
     "output_type": "stream",
     "text": [
      "there was an error with EUR\n",
      "there was an error with EUR\n",
      "there was an error with EUR\n"
     ]
    },
    {
     "name": "stderr",
     "output_type": "stream",
     "text": [
      " 12%|█▏        | 15/128 [00:40<04:46,  2.53s/it]"
     ]
    },
    {
     "name": "stdout",
     "output_type": "stream",
     "text": [
      "there was an error with CRJ\n"
     ]
    },
    {
     "name": "stderr",
     "output_type": "stream",
     "text": [
      " 20%|██        | 26/128 [01:04<03:52,  2.28s/it]"
     ]
    },
    {
     "name": "stdout",
     "output_type": "stream",
     "text": [
      "there was an error with CRJ\n"
     ]
    },
    {
     "name": "stderr",
     "output_type": "stream",
     "text": [
      " 28%|██▊       | 36/128 [01:24<02:58,  1.94s/it]"
     ]
    },
    {
     "name": "stdout",
     "output_type": "stream",
     "text": [
      "there was an error with EUR\n"
     ]
    },
    {
     "name": "stderr",
     "output_type": "stream",
     "text": [
      " 31%|███▏      | 40/128 [01:31<02:48,  1.91s/it]"
     ]
    },
    {
     "name": "stdout",
     "output_type": "stream",
     "text": [
      "there was an error with APP\n"
     ]
    },
    {
     "name": "stderr",
     "output_type": "stream",
     "text": [
      " 39%|███▉      | 50/128 [01:50<02:24,  1.86s/it]"
     ]
    },
    {
     "name": "stdout",
     "output_type": "stream",
     "text": [
      "there was an error with ZHR\n"
     ]
    },
    {
     "name": "stderr",
     "output_type": "stream",
     "text": [
      " 48%|████▊     | 62/128 [02:17<02:40,  2.43s/it]"
     ]
    },
    {
     "name": "stdout",
     "output_type": "stream",
     "text": [
      "there was an error with LCC\n"
     ]
    },
    {
     "name": "stderr",
     "output_type": "stream",
     "text": [
      " 51%|█████     | 65/128 [02:22<02:05,  1.99s/it]"
     ]
    },
    {
     "name": "stdout",
     "output_type": "stream",
     "text": [
      "there was an error with FTL\n",
      "there was an error with FTL\n",
      "there was an error with FTL\n"
     ]
    },
    {
     "name": "stderr",
     "output_type": "stream",
     "text": [
      " 55%|█████▌    | 71/128 [02:37<02:05,  2.20s/it]"
     ]
    },
    {
     "name": "stdout",
     "output_type": "stream",
     "text": [
      "there was an error with FTL\n"
     ]
    },
    {
     "name": "stderr",
     "output_type": "stream",
     "text": [
      " 57%|█████▋    | 73/128 [02:42<01:58,  2.16s/it]"
     ]
    },
    {
     "name": "stdout",
     "output_type": "stream",
     "text": [
      "there was an error with ILS\n"
     ]
    },
    {
     "name": "stderr",
     "output_type": "stream",
     "text": [
      " 74%|███████▍  | 95/128 [03:23<01:03,  1.93s/it]"
     ]
    },
    {
     "name": "stdout",
     "output_type": "stream",
     "text": [
      "there was an error with GGN\n"
     ]
    },
    {
     "name": "stderr",
     "output_type": "stream",
     "text": [
      " 80%|████████  | 103/128 [03:35<00:38,  1.55s/it]"
     ]
    },
    {
     "name": "stdout",
     "output_type": "stream",
     "text": [
      "there was an error with TUI\n"
     ]
    },
    {
     "name": "stderr",
     "output_type": "stream",
     "text": [
      " 81%|████████▏ | 104/128 [03:37<00:37,  1.56s/it]"
     ]
    },
    {
     "name": "stdout",
     "output_type": "stream",
     "text": [
      "there was an error with TUI\n"
     ]
    },
    {
     "name": "stderr",
     "output_type": "stream",
     "text": [
      " 84%|████████▍ | 108/128 [03:42<00:25,  1.29s/it]"
     ]
    },
    {
     "name": "stdout",
     "output_type": "stream",
     "text": [
      "there was an error with EUR\n",
      "there was an error with EUR\n"
     ]
    },
    {
     "name": "stderr",
     "output_type": "stream",
     "text": [
      " 87%|████████▋ | 111/128 [03:49<00:31,  1.86s/it]"
     ]
    },
    {
     "name": "stdout",
     "output_type": "stream",
     "text": [
      "there was an error with EUR\n"
     ]
    },
    {
     "name": "stderr",
     "output_type": "stream",
     "text": [
      " 88%|████████▊ | 112/128 [03:50<00:27,  1.71s/it]"
     ]
    },
    {
     "name": "stdout",
     "output_type": "stream",
     "text": [
      "there was an error with PAX\n"
     ]
    },
    {
     "name": "stderr",
     "output_type": "stream",
     "text": [
      " 89%|████████▉ | 114/128 [03:54<00:25,  1.86s/it]"
     ]
    },
    {
     "name": "stdout",
     "output_type": "stream",
     "text": [
      "there was an error with EUR\n"
     ]
    },
    {
     "name": "stderr",
     "output_type": "stream",
     "text": [
      " 98%|█████████▊| 126/128 [04:15<00:03,  1.84s/it]"
     ]
    },
    {
     "name": "stdout",
     "output_type": "stream",
     "text": [
      "there was an error with KLM\n"
     ]
    },
    {
     "name": "stderr",
     "output_type": "stream",
     "text": [
      "100%|██████████| 128/128 [04:19<00:00,  2.03s/it]\n"
     ]
    }
   ],
   "source": [
    "answers = []\n",
    "\n",
    "for review in tqdm(reviews):\n",
    "    review = replace_airport_codes_in_text(text=review)\n",
    "    prompt = BASE_PROMPT + review\n",
    "    answer = query_lmstudio(prompt=prompt)\n",
    "    answers.append(answer)"
   ]
  },
  {
   "cell_type": "code",
   "execution_count": 228,
   "metadata": {},
   "outputs": [],
   "source": [
    "import pandas as pd"
   ]
  },
  {
   "cell_type": "code",
   "execution_count": 286,
   "metadata": {},
   "outputs": [],
   "source": [
    "def process_answer(answer):\n",
    "     try:\n",
    "          city = answer.split('\"')[1]\n",
    "     except:\n",
    "          city = \"unknown\"\n",
    "     return city"
   ]
  },
  {
   "cell_type": "code",
   "execution_count": 287,
   "metadata": {},
   "outputs": [],
   "source": [
    "processed_answers = []\n",
    "\n",
    "for answer in answers:\n",
    "    try:\n",
    "        processed_answer = process_answer(answer=answer)\n",
    "        processed_answers.append(processed_answer)\n",
    "    except:\n",
    "        processed_answers.append(\"unknown\")"
   ]
  },
  {
   "cell_type": "code",
   "execution_count": 312,
   "metadata": {},
   "outputs": [
    {
     "data": {
      "text/plain": [
       "128"
      ]
     },
     "execution_count": 312,
     "metadata": {},
     "output_type": "execute_result"
    }
   ],
   "source": [
    "len(processed_answers)"
   ]
  },
  {
   "cell_type": "code",
   "execution_count": 313,
   "metadata": {},
   "outputs": [
    {
     "data": {
      "text/plain": [
       "['Stuttgart',\n",
       " 'Hamburg',\n",
       " 'Palma de Mallorca',\n",
       " 'Berlin-Tegel',\n",
       " 'Köln',\n",
       " 'Istanbul',\n",
       " 'Düsseldorf',\n",
       " 'Dusseldorf',\n",
       " 'Duesseldorf',\n",
       " 'Cologne',\n",
       " 'Hamburg',\n",
       " 'Stansted',\n",
       " 'Rome',\n",
       " 'Hamburg',\n",
       " 'Prague',\n",
       " 'Duesseldorf',\n",
       " 'Hamburg',\n",
       " 'Duesseldorf',\n",
       " 'Köln',\n",
       " 'Bologna',\n",
       " 'Duesseldorf',\n",
       " 'Heathrow',\n",
       " 'London',\n",
       " 'Berlin',\n",
       " 'London',\n",
       " 'London',\n",
       " 'Hamburg',\n",
       " 'Stuttgart',\n",
       " 'Manchester',\n",
       " 'Cologne/Bonn',\n",
       " 'London Heathrow',\n",
       " 'Hanover',\n",
       " 'Hamburg',\n",
       " 'London Heathrow',\n",
       " 'Vienna',\n",
       " 'London',\n",
       " 'Duesseldorf',\n",
       " 'Brussels',\n",
       " 'Dusseldorf',\n",
       " 'Köln',\n",
       " 'Hamburg',\n",
       " 'Stansted',\n",
       " 'Prague',\n",
       " 'London',\n",
       " 'Stansted',\n",
       " 'Berlin',\n",
       " 'Cologne',\n",
       " 'Köln',\n",
       " 'Brussels',\n",
       " 'Barcelona',\n",
       " 'Köln',\n",
       " 'Helsinki',\n",
       " 'Birmingham',\n",
       " 'London Stansted',\n",
       " 'Budapest',\n",
       " 'Heathrow',\n",
       " 'Vienna',\n",
       " 'Köln',\n",
       " 'United Kingdom',\n",
       " 'Köln',\n",
       " 'London',\n",
       " 'Cologne',\n",
       " 'Bremen',\n",
       " 'Verona',\n",
       " 'Hamburg',\n",
       " 'Hamburg',\n",
       " 'Cologne',\n",
       " 'Split',\n",
       " 'Manchester',\n",
       " 'Hamburg',\n",
       " 'London',\n",
       " 'Köln',\n",
       " 'Cologne',\n",
       " 'Treviso',\n",
       " 'London',\n",
       " 'London',\n",
       " 'Stansted',\n",
       " 'Stuttgart',\n",
       " 'London Stansted',\n",
       " 'Hamburg',\n",
       " 'London',\n",
       " 'Dubrovnik',\n",
       " 'London',\n",
       " 'unknown',\n",
       " 'Ireland',\n",
       " 'Stansted',\n",
       " 'Palma de Mallorca',\n",
       " 'Köln',\n",
       " 'Berlin',\n",
       " 'Stuttgart',\n",
       " 'London',\n",
       " 'Edinburgh',\n",
       " 'Istanbul',\n",
       " 'Cologne',\n",
       " 'Dublin',\n",
       " 'Stansted',\n",
       " 'Manchester',\n",
       " 'Cologne',\n",
       " 'unknown',\n",
       " 'Munich',\n",
       " 'Zagreb',\n",
       " 'Germany',\n",
       " 'Manchester',\n",
       " 'Cologne',\n",
       " 'Cologne',\n",
       " 'Cologne',\n",
       " 'Cologne',\n",
       " 'Cologne',\n",
       " 'Prague',\n",
       " 'London',\n",
       " 'Strasbourg',\n",
       " 'unknown',\n",
       " 'Köln',\n",
       " 'Hamburg',\n",
       " 'Cologne',\n",
       " 'Bologna',\n",
       " 'Dublin',\n",
       " 'Bucharest',\n",
       " 'Berlin',\n",
       " 'Berlin',\n",
       " 'Muenchen',\n",
       " 'unknown',\n",
       " 'Stuttgart',\n",
       " 'Stansted',\n",
       " 'Stansted',\n",
       " 'Berlin',\n",
       " 'Stansted',\n",
       " 'Stuttgart']"
      ]
     },
     "execution_count": 313,
     "metadata": {},
     "output_type": "execute_result"
    }
   ],
   "source": [
    "processed_answers"
   ]
  },
  {
   "cell_type": "markdown",
   "metadata": {},
   "source": [
    "> Cleaning the city names "
   ]
  },
  {
   "cell_type": "code",
   "execution_count": 531,
   "metadata": {},
   "outputs": [],
   "source": [
    "def clean_city_name(answer):\n",
    "    answer = answer.replace(\"Dusseldorf\", \"Duesseldorf\").replace(\"Düsseldorf\", \"Duesseldorf\")\n",
    "    if \"Köln\" in answer or \"Cologne\" in answer:\n",
    "        answer = \"Cologne/Bonn\"\n",
    "    if \"Heathrow\" in answer: \n",
    "        answer = \"London Heathrow\"\n",
    "    if \"Muenchen\" in answer:\n",
    "        answer = \"Munich\"\n",
    "    if \"Stansted\" in answer:\n",
    "        answer = \"London Stansted\"\n",
    "    return answer \n",
    " "
   ]
  },
  {
   "cell_type": "code",
   "execution_count": 532,
   "metadata": {},
   "outputs": [],
   "source": [
    "df.departure_city =  df.departure_city.apply(clean_city_name)"
   ]
  },
  {
   "cell_type": "code",
   "execution_count": 533,
   "metadata": {},
   "outputs": [],
   "source": [
    "departure_cities = []\n",
    "\n",
    "for answer in processed_answers:\n",
    "    departure_cities.append(clean_city_name(answer))"
   ]
  },
  {
   "cell_type": "code",
   "execution_count": 534,
   "metadata": {},
   "outputs": [
    {
     "data": {
      "text/plain": [
       "departure_city\n",
       "Cologne/Bonn         24\n",
       "London               13\n",
       "Hamburg              12\n",
       "London Stansted      11\n",
       "Duesseldorf           8\n",
       "Berlin                6\n",
       "Stuttgart             6\n",
       "unknown               4\n",
       "London Heathrow       4\n",
       "Manchester            4\n",
       "Prague                3\n",
       "Istanbul              2\n",
       "Brussels              2\n",
       "Dublin                2\n",
       "Munich                2\n",
       "Palma de Mallorca     2\n",
       "Vienna                2\n",
       "Bologna               2\n",
       "Germany               1\n",
       "Zagreb                1\n",
       "Strasbourg            1\n",
       "Treviso               1\n",
       "Edinburgh             1\n",
       "Ireland               1\n",
       "Dubrovnik             1\n",
       "Barcelona             1\n",
       "Split                 1\n",
       "Verona                1\n",
       "Bremen                1\n",
       "United Kingdom        1\n",
       "Budapest              1\n",
       "Birmingham            1\n",
       "Helsinki              1\n",
       "Hanover               1\n",
       "Rome                  1\n",
       "Berlin-Tegel          1\n",
       "Bucharest             1\n",
       "Name: count, dtype: int64"
      ]
     },
     "execution_count": 534,
     "metadata": {},
     "output_type": "execute_result"
    }
   ],
   "source": [
    "df.departure_city.value_counts()"
   ]
  },
  {
   "cell_type": "code",
   "execution_count": 59,
   "metadata": {},
   "outputs": [],
   "source": [
    "import pandas as pd\n",
    "df=pd.read_csv(\"data.csv\")"
   ]
  },
  {
   "cell_type": "code",
   "execution_count": null,
   "metadata": {},
   "outputs": [],
   "source": [
    "df[df.text.str.contains(\"delayed\", case=False)][df.score!=\"na\"]"
   ]
  },
  {
   "cell_type": "code",
   "execution_count": 510,
   "metadata": {},
   "outputs": [],
   "source": [
    "texts = df.text\n",
    "keywords = [\"delayed\", \"late\", \"delay\"]\n",
    "\n",
    "for word in keywords:\n",
    "    if word in text:\n",
    "        print(f\"{word} is in the sentence\")"
   ]
  },
  {
   "cell_type": "code",
   "execution_count": 511,
   "metadata": {},
   "outputs": [],
   "source": [
    "def delay_mentioned(text):\n",
    "    keywords = [\"delayed\", \"late\", \"delay\"]\n",
    "    text_lower = text.lower()\n",
    "    for word in keywords:\n",
    "        if word in text_lower:\n",
    "            return True\n",
    "    return False\n"
   ]
  },
  {
   "cell_type": "code",
   "execution_count": 512,
   "metadata": {},
   "outputs": [],
   "source": [
    "df[\"delay_mention\"] = df.text.apply(delay_mentioned)"
   ]
  },
  {
   "cell_type": "code",
   "execution_count": 513,
   "metadata": {},
   "outputs": [
    {
     "data": {
      "text/plain": [
       "False"
      ]
     },
     "execution_count": 513,
     "metadata": {},
     "output_type": "execute_result"
    }
   ],
   "source": [
    "df.iloc[20:50].delay_mention.values[10]\n"
   ]
  },
  {
   "cell_type": "code",
   "execution_count": 514,
   "metadata": {},
   "outputs": [
    {
     "name": "stderr",
     "output_type": "stream",
     "text": [
      "/var/folders/8m/rfsmltyn01b1h7rd54xtgnvw0000gn/T/ipykernel_43546/4124776110.py:1: UserWarning: Boolean Series key will be reindexed to match DataFrame index.\n",
      "  df[df.delay_mention][df.score!=\"na\"].score.mean()\n"
     ]
    },
    {
     "data": {
      "text/plain": [
       "4.491525423728813"
      ]
     },
     "execution_count": 514,
     "metadata": {},
     "output_type": "execute_result"
    }
   ],
   "source": [
    "df[df.delay_mention][df.score!=\"na\"].score.mean()"
   ]
  },
  {
   "cell_type": "code",
   "execution_count": 515,
   "metadata": {},
   "outputs": [
    {
     "data": {
      "text/plain": [
       "False"
      ]
     },
     "execution_count": 515,
     "metadata": {},
     "output_type": "execute_result"
    }
   ],
   "source": [
    "df.iloc[10:30].delay_mention.values[10]"
   ]
  },
  {
   "cell_type": "code",
   "execution_count": 516,
   "metadata": {},
   "outputs": [],
   "source": [
    "def foodanddrink_mentioned(text):\n",
    "    keywords = [\"food\", \"drink\"]\n",
    "    text_lower = text.lower()\n",
    "    for word in keywords:\n",
    "        if word in text_lower:\n",
    "            return True\n",
    "    return False"
   ]
  },
  {
   "cell_type": "code",
   "execution_count": 517,
   "metadata": {},
   "outputs": [],
   "source": [
    "df[\"foodanddrink_mention\"] = df.text.apply(foodanddrink_mentioned)"
   ]
  },
  {
   "cell_type": "code",
   "execution_count": 518,
   "metadata": {},
   "outputs": [
    {
     "data": {
      "text/plain": [
       "0      False\n",
       "1       True\n",
       "2       True\n",
       "3      False\n",
       "4      False\n",
       "       ...  \n",
       "123    False\n",
       "124    False\n",
       "125    False\n",
       "126    False\n",
       "127    False\n",
       "Name: foodanddrink_mention, Length: 128, dtype: bool"
      ]
     },
     "execution_count": 518,
     "metadata": {},
     "output_type": "execute_result"
    }
   ],
   "source": [
    "df.foodanddrink_mention"
   ]
  },
  {
   "cell_type": "code",
   "execution_count": 519,
   "metadata": {},
   "outputs": [],
   "source": [
    "def service_mentioned(text):\n",
    "    keywords = [\"service\"]\n",
    "    text_lower = text.lower()\n",
    "    for word in keywords:\n",
    "        if word in text_lower:\n",
    "            return True\n",
    "    return False"
   ]
  },
  {
   "cell_type": "code",
   "execution_count": 520,
   "metadata": {},
   "outputs": [],
   "source": [
    "df[\"service_mention\"] = df.text.apply(service_mentioned)"
   ]
  },
  {
   "cell_type": "code",
   "execution_count": 521,
   "metadata": {},
   "outputs": [
    {
     "data": {
      "text/plain": [
       "10    False\n",
       "11    False\n",
       "12     True\n",
       "13    False\n",
       "14     True\n",
       "15     True\n",
       "16    False\n",
       "17     True\n",
       "18    False\n",
       "19     True\n",
       "20    False\n",
       "21    False\n",
       "22     True\n",
       "23     True\n",
       "24     True\n",
       "25    False\n",
       "26     True\n",
       "27     True\n",
       "28    False\n",
       "29     True\n",
       "Name: delay_mention, dtype: bool"
      ]
     },
     "execution_count": 521,
     "metadata": {},
     "output_type": "execute_result"
    }
   ],
   "source": [
    "df.iloc[10:30].delay_mention"
   ]
  },
  {
   "cell_type": "code",
   "execution_count": 522,
   "metadata": {},
   "outputs": [],
   "source": [
    "def seat_mentioned(text):\n",
    "    keywords = [\"seat\", \"seating\", \"seats\"]\n",
    "    text_lower = text.lower()\n",
    "    for word in keywords:\n",
    "        if word in text_lower:\n",
    "            return True\n",
    "    return False"
   ]
  },
  {
   "cell_type": "code",
   "execution_count": 523,
   "metadata": {},
   "outputs": [],
   "source": [
    "df[\"seat_mention\"] = df.text.apply(seat_mentioned)"
   ]
  },
  {
   "cell_type": "code",
   "execution_count": 524,
   "metadata": {},
   "outputs": [],
   "source": [
    "def checkin_mentioned(text):\n",
    "    keywords = [\"check-in\", \"check in\"]\n",
    "    text_lower = text.lower()\n",
    "    for word in keywords:\n",
    "        if word in text_lower:\n",
    "            return True\n",
    "    return False"
   ]
  },
  {
   "cell_type": "code",
   "execution_count": 525,
   "metadata": {},
   "outputs": [],
   "source": [
    "df[\"checkin_mention\"] = df.text.apply(checkin_mentioned)"
   ]
  },
  {
   "cell_type": "code",
   "execution_count": null,
   "metadata": {},
   "outputs": [],
   "source": [
    "# delay_mention =[]\n",
    "# for value in df[\"delay_mention\"]:\n",
    "#     delay_mention.append(value)\n",
    "\n",
    "# foodanddrink_mention = []\n",
    "# for value in df[\"foodanddrink_mention\"]:\n",
    "#     foodanddrink_mention.append(value)\n",
    "\n",
    "# service_mention = []\n",
    "# for value in df[\"service_mention\"]:\n",
    "#     service_mention.append(value)\n",
    "\n",
    "# seat_mention = []\n",
    "# for value in df[\"seat_mention\"]:\n",
    "#     seat_mention.append(value)\n",
    "\n",
    "# checkin_mention = []\n",
    "# for value in df[\"checkin_mention\"]:\n",
    "#     checkin_mention.append(value)"
   ]
  },
  {
   "cell_type": "code",
   "execution_count": null,
   "metadata": {},
   "outputs": [],
   "source": [
    "# df = pd.DataFrame({\n",
    "#     \"score\": scores,\n",
    "#     \"country\": countries,\n",
    "#     \"recommended\": recommendations,\n",
    "#     \"cabinflown\": cabinflowns,\n",
    "#     \"traveltype\": traveltypes,\n",
    "#     \"year\": years,\n",
    "#     \"departure_city\": departure_cities,\n",
    "#     \"delay_mention\": delay_mention,\n",
    "#     \"foodanddrink_mention\": foodanddrink_mention,\n",
    "#     \"service_mention\": service_mention,\n",
    "#     \"seat_mention\": seat_mention,\n",
    "#     \"checkin_mention\": checkin_mention,\n",
    "#     \"text\": texts\n",
    "# })"
   ]
  },
  {
   "cell_type": "code",
   "execution_count": 528,
   "metadata": {},
   "outputs": [
    {
     "data": {
      "text/html": [
       "<div>\n",
       "<style scoped>\n",
       "    .dataframe tbody tr th:only-of-type {\n",
       "        vertical-align: middle;\n",
       "    }\n",
       "\n",
       "    .dataframe tbody tr th {\n",
       "        vertical-align: top;\n",
       "    }\n",
       "\n",
       "    .dataframe thead th {\n",
       "        text-align: right;\n",
       "    }\n",
       "</style>\n",
       "<table border=\"1\" class=\"dataframe\">\n",
       "  <thead>\n",
       "    <tr style=\"text-align: right;\">\n",
       "      <th></th>\n",
       "      <th>0</th>\n",
       "      <th>1</th>\n",
       "      <th>2</th>\n",
       "      <th>3</th>\n",
       "      <th>4</th>\n",
       "      <th>5</th>\n",
       "      <th>6</th>\n",
       "      <th>7</th>\n",
       "      <th>8</th>\n",
       "      <th>9</th>\n",
       "    </tr>\n",
       "  </thead>\n",
       "  <tbody>\n",
       "    <tr>\n",
       "      <th>score</th>\n",
       "      <td>2</td>\n",
       "      <td>3</td>\n",
       "      <td>3</td>\n",
       "      <td>10</td>\n",
       "      <td>4</td>\n",
       "      <td>1</td>\n",
       "      <td>7</td>\n",
       "      <td>2</td>\n",
       "      <td>2</td>\n",
       "      <td>5</td>\n",
       "    </tr>\n",
       "    <tr>\n",
       "      <th>country</th>\n",
       "      <td>Canada</td>\n",
       "      <td>United Kingdom</td>\n",
       "      <td>Germany</td>\n",
       "      <td>Germany</td>\n",
       "      <td>Germany</td>\n",
       "      <td>United Kingdom</td>\n",
       "      <td>Germany</td>\n",
       "      <td>United Kingdom</td>\n",
       "      <td>Gibraltar</td>\n",
       "      <td>Australia</td>\n",
       "    </tr>\n",
       "    <tr>\n",
       "      <th>recommended</th>\n",
       "      <td>no</td>\n",
       "      <td>no</td>\n",
       "      <td>no</td>\n",
       "      <td>yes</td>\n",
       "      <td>no</td>\n",
       "      <td>no</td>\n",
       "      <td>yes</td>\n",
       "      <td>no</td>\n",
       "      <td>no</td>\n",
       "      <td>no</td>\n",
       "    </tr>\n",
       "    <tr>\n",
       "      <th>cabinflown</th>\n",
       "      <td>Economy</td>\n",
       "      <td>Economy</td>\n",
       "      <td>Economy</td>\n",
       "      <td>unknown</td>\n",
       "      <td>Economy</td>\n",
       "      <td>Economy</td>\n",
       "      <td>Economy</td>\n",
       "      <td>Economy</td>\n",
       "      <td>Economy</td>\n",
       "      <td>Economy</td>\n",
       "    </tr>\n",
       "    <tr>\n",
       "      <th>traveltype</th>\n",
       "      <td>Couple Leisure</td>\n",
       "      <td>Solo Leisure</td>\n",
       "      <td>Couple Leisure</td>\n",
       "      <td>Business</td>\n",
       "      <td>Business</td>\n",
       "      <td>Couple Leisure</td>\n",
       "      <td>Solo Leisure</td>\n",
       "      <td>FamilyLeisure</td>\n",
       "      <td>Business</td>\n",
       "      <td>Couple Leisure</td>\n",
       "    </tr>\n",
       "    <tr>\n",
       "      <th>year</th>\n",
       "      <td>2015</td>\n",
       "      <td>2015</td>\n",
       "      <td>2015</td>\n",
       "      <td>2015</td>\n",
       "      <td>2015</td>\n",
       "      <td>2015</td>\n",
       "      <td>2015</td>\n",
       "      <td>2015</td>\n",
       "      <td>2015</td>\n",
       "      <td>2015</td>\n",
       "    </tr>\n",
       "    <tr>\n",
       "      <th>departure_city</th>\n",
       "      <td>Stuttgart</td>\n",
       "      <td>Hamburg</td>\n",
       "      <td>Palma de Mallorca</td>\n",
       "      <td>Berlin-Tegel</td>\n",
       "      <td>Cologne/Bonn</td>\n",
       "      <td>Istanbul</td>\n",
       "      <td>Duesseldorf</td>\n",
       "      <td>Duesseldorf</td>\n",
       "      <td>Duesseldorf</td>\n",
       "      <td>Cologne/Bonn</td>\n",
       "    </tr>\n",
       "    <tr>\n",
       "      <th>delay_mention</th>\n",
       "      <td>True</td>\n",
       "      <td>False</td>\n",
       "      <td>True</td>\n",
       "      <td>True</td>\n",
       "      <td>True</td>\n",
       "      <td>True</td>\n",
       "      <td>False</td>\n",
       "      <td>True</td>\n",
       "      <td>True</td>\n",
       "      <td>False</td>\n",
       "    </tr>\n",
       "    <tr>\n",
       "      <th>foodanddrink_mention</th>\n",
       "      <td>False</td>\n",
       "      <td>True</td>\n",
       "      <td>True</td>\n",
       "      <td>False</td>\n",
       "      <td>False</td>\n",
       "      <td>False</td>\n",
       "      <td>True</td>\n",
       "      <td>False</td>\n",
       "      <td>False</td>\n",
       "      <td>True</td>\n",
       "    </tr>\n",
       "    <tr>\n",
       "      <th>service_mention</th>\n",
       "      <td>False</td>\n",
       "      <td>True</td>\n",
       "      <td>True</td>\n",
       "      <td>False</td>\n",
       "      <td>True</td>\n",
       "      <td>False</td>\n",
       "      <td>False</td>\n",
       "      <td>False</td>\n",
       "      <td>False</td>\n",
       "      <td>False</td>\n",
       "    </tr>\n",
       "    <tr>\n",
       "      <th>seat_mention</th>\n",
       "      <td>False</td>\n",
       "      <td>False</td>\n",
       "      <td>True</td>\n",
       "      <td>False</td>\n",
       "      <td>False</td>\n",
       "      <td>True</td>\n",
       "      <td>True</td>\n",
       "      <td>False</td>\n",
       "      <td>False</td>\n",
       "      <td>False</td>\n",
       "    </tr>\n",
       "    <tr>\n",
       "      <th>checkin_mention</th>\n",
       "      <td>True</td>\n",
       "      <td>False</td>\n",
       "      <td>True</td>\n",
       "      <td>False</td>\n",
       "      <td>False</td>\n",
       "      <td>False</td>\n",
       "      <td>True</td>\n",
       "      <td>True</td>\n",
       "      <td>False</td>\n",
       "      <td>False</td>\n",
       "    </tr>\n",
       "    <tr>\n",
       "      <th>text</th>\n",
       "      <td>We flew with Germanwings (or tried to) on Sept...</td>\n",
       "      <td>I am less than impressed with Germanwings serv...</td>\n",
       "      <td>Flew from Palma de Mallorca to Cologne with Ge...</td>\n",
       "      <td>Good flight from Berlin-Tegel to London Heathr...</td>\n",
       "      <td>I don't get why Germanwings is always late and...</td>\n",
       "      <td>We were delayed 5 hours in Istanbul and receiv...</td>\n",
       "      <td>Easy Check-In at Dï¿½sseldorf. The Germanwings...</td>\n",
       "      <td>Checked in at Dusseldorf for our Germanwings f...</td>\n",
       "      <td>This Germanwings flight should take off as sch...</td>\n",
       "      <td>Germanwings is a very mediocre airline. Compar...</td>\n",
       "    </tr>\n",
       "  </tbody>\n",
       "</table>\n",
       "</div>"
      ],
      "text/plain": [
       "                                                                      0  \\\n",
       "score                                                                 2   \n",
       "country                                                          Canada   \n",
       "recommended                                                          no   \n",
       "cabinflown                                                      Economy   \n",
       "traveltype                                               Couple Leisure   \n",
       "year                                                               2015   \n",
       "departure_city                                                Stuttgart   \n",
       "delay_mention                                                      True   \n",
       "foodanddrink_mention                                              False   \n",
       "service_mention                                                   False   \n",
       "seat_mention                                                      False   \n",
       "checkin_mention                                                    True   \n",
       "text                  We flew with Germanwings (or tried to) on Sept...   \n",
       "\n",
       "                                                                      1  \\\n",
       "score                                                                 3   \n",
       "country                                                  United Kingdom   \n",
       "recommended                                                          no   \n",
       "cabinflown                                                      Economy   \n",
       "traveltype                                                 Solo Leisure   \n",
       "year                                                               2015   \n",
       "departure_city                                                  Hamburg   \n",
       "delay_mention                                                     False   \n",
       "foodanddrink_mention                                               True   \n",
       "service_mention                                                    True   \n",
       "seat_mention                                                      False   \n",
       "checkin_mention                                                   False   \n",
       "text                  I am less than impressed with Germanwings serv...   \n",
       "\n",
       "                                                                      2  \\\n",
       "score                                                                 3   \n",
       "country                                                         Germany   \n",
       "recommended                                                          no   \n",
       "cabinflown                                                      Economy   \n",
       "traveltype                                               Couple Leisure   \n",
       "year                                                               2015   \n",
       "departure_city                                        Palma de Mallorca   \n",
       "delay_mention                                                      True   \n",
       "foodanddrink_mention                                               True   \n",
       "service_mention                                                    True   \n",
       "seat_mention                                                       True   \n",
       "checkin_mention                                                    True   \n",
       "text                  Flew from Palma de Mallorca to Cologne with Ge...   \n",
       "\n",
       "                                                                      3  \\\n",
       "score                                                                10   \n",
       "country                                                         Germany   \n",
       "recommended                                                         yes   \n",
       "cabinflown                                                      unknown   \n",
       "traveltype                                                     Business   \n",
       "year                                                               2015   \n",
       "departure_city                                             Berlin-Tegel   \n",
       "delay_mention                                                      True   \n",
       "foodanddrink_mention                                              False   \n",
       "service_mention                                                   False   \n",
       "seat_mention                                                      False   \n",
       "checkin_mention                                                   False   \n",
       "text                  Good flight from Berlin-Tegel to London Heathr...   \n",
       "\n",
       "                                                                      4  \\\n",
       "score                                                                 4   \n",
       "country                                                         Germany   \n",
       "recommended                                                          no   \n",
       "cabinflown                                                      Economy   \n",
       "traveltype                                                     Business   \n",
       "year                                                               2015   \n",
       "departure_city                                             Cologne/Bonn   \n",
       "delay_mention                                                      True   \n",
       "foodanddrink_mention                                              False   \n",
       "service_mention                                                    True   \n",
       "seat_mention                                                      False   \n",
       "checkin_mention                                                   False   \n",
       "text                  I don't get why Germanwings is always late and...   \n",
       "\n",
       "                                                                      5  \\\n",
       "score                                                                 1   \n",
       "country                                                  United Kingdom   \n",
       "recommended                                                          no   \n",
       "cabinflown                                                      Economy   \n",
       "traveltype                                               Couple Leisure   \n",
       "year                                                               2015   \n",
       "departure_city                                                 Istanbul   \n",
       "delay_mention                                                      True   \n",
       "foodanddrink_mention                                              False   \n",
       "service_mention                                                   False   \n",
       "seat_mention                                                       True   \n",
       "checkin_mention                                                   False   \n",
       "text                  We were delayed 5 hours in Istanbul and receiv...   \n",
       "\n",
       "                                                                      6  \\\n",
       "score                                                                 7   \n",
       "country                                                         Germany   \n",
       "recommended                                                         yes   \n",
       "cabinflown                                                      Economy   \n",
       "traveltype                                                 Solo Leisure   \n",
       "year                                                               2015   \n",
       "departure_city                                              Duesseldorf   \n",
       "delay_mention                                                     False   \n",
       "foodanddrink_mention                                               True   \n",
       "service_mention                                                   False   \n",
       "seat_mention                                                       True   \n",
       "checkin_mention                                                    True   \n",
       "text                  Easy Check-In at Dï¿½sseldorf. The Germanwings...   \n",
       "\n",
       "                                                                      7  \\\n",
       "score                                                                 2   \n",
       "country                                                  United Kingdom   \n",
       "recommended                                                          no   \n",
       "cabinflown                                                      Economy   \n",
       "traveltype                                                FamilyLeisure   \n",
       "year                                                               2015   \n",
       "departure_city                                              Duesseldorf   \n",
       "delay_mention                                                      True   \n",
       "foodanddrink_mention                                              False   \n",
       "service_mention                                                   False   \n",
       "seat_mention                                                      False   \n",
       "checkin_mention                                                    True   \n",
       "text                  Checked in at Dusseldorf for our Germanwings f...   \n",
       "\n",
       "                                                                      8  \\\n",
       "score                                                                 2   \n",
       "country                                                       Gibraltar   \n",
       "recommended                                                          no   \n",
       "cabinflown                                                      Economy   \n",
       "traveltype                                                     Business   \n",
       "year                                                               2015   \n",
       "departure_city                                              Duesseldorf   \n",
       "delay_mention                                                      True   \n",
       "foodanddrink_mention                                              False   \n",
       "service_mention                                                   False   \n",
       "seat_mention                                                      False   \n",
       "checkin_mention                                                   False   \n",
       "text                  This Germanwings flight should take off as sch...   \n",
       "\n",
       "                                                                      9  \n",
       "score                                                                 5  \n",
       "country                                                       Australia  \n",
       "recommended                                                          no  \n",
       "cabinflown                                                      Economy  \n",
       "traveltype                                               Couple Leisure  \n",
       "year                                                               2015  \n",
       "departure_city                                             Cologne/Bonn  \n",
       "delay_mention                                                     False  \n",
       "foodanddrink_mention                                               True  \n",
       "service_mention                                                   False  \n",
       "seat_mention                                                      False  \n",
       "checkin_mention                                                   False  \n",
       "text                  Germanwings is a very mediocre airline. Compar...  "
      ]
     },
     "execution_count": 528,
     "metadata": {},
     "output_type": "execute_result"
    }
   ],
   "source": [
    "df.head(10).T"
   ]
  },
  {
   "cell_type": "markdown",
   "metadata": {},
   "source": [
    "## 7. Travel type \n",
    ">  Extracting binary travel type from review "
   ]
  },
  {
   "cell_type": "code",
   "execution_count": 54,
   "metadata": {},
   "outputs": [],
   "source": [
    "import pandas as pd"
   ]
  },
  {
   "cell_type": "code",
   "execution_count": 55,
   "metadata": {},
   "outputs": [],
   "source": [
    "df = pd.read_excel(\"data.xlsx\")"
   ]
  },
  {
   "cell_type": "code",
   "execution_count": 56,
   "metadata": {},
   "outputs": [],
   "source": [
    "df[\"traveltype_binary\"] = [get_traveltype_from_review(review) for review in reviews]"
   ]
  },
  {
   "cell_type": "code",
   "execution_count": 57,
   "metadata": {},
   "outputs": [
    {
     "data": {
      "text/html": [
       "<div>\n",
       "<style scoped>\n",
       "    .dataframe tbody tr th:only-of-type {\n",
       "        vertical-align: middle;\n",
       "    }\n",
       "\n",
       "    .dataframe tbody tr th {\n",
       "        vertical-align: top;\n",
       "    }\n",
       "\n",
       "    .dataframe thead th {\n",
       "        text-align: right;\n",
       "    }\n",
       "</style>\n",
       "<table border=\"1\" class=\"dataframe\">\n",
       "  <thead>\n",
       "    <tr style=\"text-align: right;\">\n",
       "      <th></th>\n",
       "      <th>Unnamed: 0</th>\n",
       "      <th>score</th>\n",
       "      <th>country</th>\n",
       "      <th>recommended</th>\n",
       "      <th>cabinflown</th>\n",
       "      <th>traveltype</th>\n",
       "      <th>text</th>\n",
       "      <th>year</th>\n",
       "      <th>traveltype_binary</th>\n",
       "    </tr>\n",
       "  </thead>\n",
       "  <tbody>\n",
       "    <tr>\n",
       "      <th>0</th>\n",
       "      <td>0</td>\n",
       "      <td>2</td>\n",
       "      <td>Canada</td>\n",
       "      <td>no</td>\n",
       "      <td>Economy</td>\n",
       "      <td>Leisure</td>\n",
       "      <td>We flew with Germanwings (or tried to) on Sept...</td>\n",
       "      <td>2015</td>\n",
       "      <td>Leisure</td>\n",
       "    </tr>\n",
       "    <tr>\n",
       "      <th>1</th>\n",
       "      <td>1</td>\n",
       "      <td>3</td>\n",
       "      <td>United Kingdom</td>\n",
       "      <td>no</td>\n",
       "      <td>Economy</td>\n",
       "      <td>Leisure</td>\n",
       "      <td>I am less than impressed with Germanwings serv...</td>\n",
       "      <td>2015</td>\n",
       "      <td>Leisure</td>\n",
       "    </tr>\n",
       "    <tr>\n",
       "      <th>2</th>\n",
       "      <td>2</td>\n",
       "      <td>3</td>\n",
       "      <td>Germany</td>\n",
       "      <td>no</td>\n",
       "      <td>Economy</td>\n",
       "      <td>Leisure</td>\n",
       "      <td>Flew from Palma de Mallorca to Cologne with Ge...</td>\n",
       "      <td>2015</td>\n",
       "      <td>Leisure</td>\n",
       "    </tr>\n",
       "    <tr>\n",
       "      <th>3</th>\n",
       "      <td>3</td>\n",
       "      <td>10</td>\n",
       "      <td>Germany</td>\n",
       "      <td>yes</td>\n",
       "      <td>unknown</td>\n",
       "      <td>Business</td>\n",
       "      <td>Good flight from Berlin-Tegel to London Heathr...</td>\n",
       "      <td>2015</td>\n",
       "      <td>Business</td>\n",
       "    </tr>\n",
       "    <tr>\n",
       "      <th>4</th>\n",
       "      <td>4</td>\n",
       "      <td>4</td>\n",
       "      <td>Germany</td>\n",
       "      <td>no</td>\n",
       "      <td>Economy</td>\n",
       "      <td>Business</td>\n",
       "      <td>I don't get why Germanwings is always late and...</td>\n",
       "      <td>2015</td>\n",
       "      <td>Business</td>\n",
       "    </tr>\n",
       "  </tbody>\n",
       "</table>\n",
       "</div>"
      ],
      "text/plain": [
       "   Unnamed: 0 score         country recommended cabinflown traveltype  \\\n",
       "0           0     2          Canada          no    Economy    Leisure   \n",
       "1           1     3  United Kingdom          no    Economy    Leisure   \n",
       "2           2     3         Germany          no    Economy    Leisure   \n",
       "3           3    10         Germany         yes    unknown   Business   \n",
       "4           4     4         Germany          no    Economy   Business   \n",
       "\n",
       "                                                text  year traveltype_binary  \n",
       "0  We flew with Germanwings (or tried to) on Sept...  2015           Leisure  \n",
       "1  I am less than impressed with Germanwings serv...  2015           Leisure  \n",
       "2  Flew from Palma de Mallorca to Cologne with Ge...  2015           Leisure  \n",
       "3  Good flight from Berlin-Tegel to London Heathr...  2015          Business  \n",
       "4  I don't get why Germanwings is always late and...  2015          Business  "
      ]
     },
     "execution_count": 57,
     "metadata": {},
     "output_type": "execute_result"
    }
   ],
   "source": [
    "df.head()"
   ]
  },
  {
   "cell_type": "code",
   "execution_count": 58,
   "metadata": {},
   "outputs": [],
   "source": [
    "df.to_excel(\"data.xlsx\",index=False)\n",
    "df.to_csv(\"data.csv\",index=False)"
   ]
  }
 ],
 "metadata": {
  "kernelspec": {
   "display_name": "base",
   "language": "python",
   "name": "python3"
  },
  "language_info": {
   "codemirror_mode": {
    "name": "ipython",
    "version": 3
   },
   "file_extension": ".py",
   "mimetype": "text/x-python",
   "name": "python",
   "nbconvert_exporter": "python",
   "pygments_lexer": "ipython3",
   "version": "3.11.8"
  }
 },
 "nbformat": 4,
 "nbformat_minor": 2
}
